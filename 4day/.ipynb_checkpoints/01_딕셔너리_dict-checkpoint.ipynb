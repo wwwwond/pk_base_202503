{
 "cells": [
  {
   "cell_type": "code",
   "execution_count": 1,
   "id": "256949df-930f-4dc2-b3f4-a00c156f0523",
   "metadata": {},
   "outputs": [
    {
     "data": {
      "text/plain": [
       "'\\n<딕셔너리(dict)>\\n - 리스트(list)와 동일하게 여러개의 값을 가지고 다니는 타입 중의 한가지 \\n - 리스트(list)와 차이점 : 리스트 메모리는 인덱스가 순서적으로 만들어지지만\\n                         : 딕셔너리는 순서가 없음\\n - 딕셔너리는 key와 value의 한 쌍으로 한개의 데이터가 만들어짐\\n - key는 고유한 값만 사용가능하며, key를 이용해서 value의 값을 추출할 수 있음\\n - 리스트는 대괄호[]를 사용, 딕셔너리는 중괄호{}를 사용하여 데이터를 정의함\\n - 딕셔너리에서 데이터(value의 값)를 추출하고자 할 때는 \"딕셔너리 변수[key]\" 형태로 작성\\n'"
      ]
     },
     "execution_count": 1,
     "metadata": {},
     "output_type": "execute_result"
    }
   ],
   "source": [
    "\"\"\"\n",
    "<딕셔너리(dict)>\n",
    " - 리스트(list)와 동일하게 여러개의 값을 가지고 다니는 타입 중의 한가지 \n",
    " - 리스트(list)와 차이점 : 리스트 메모리는 인덱스가 순서적으로 만들어지지만\n",
    "                         : 딕셔너리는 순서가 없음\n",
    " - 딕셔너리는 key와 value의 한 쌍으로 한개의 데이터가 만들어짐\n",
    " - key는 고유한 값만 사용가능하며, key를 이용해서 value의 값을 추출할 수 있음\n",
    " - 리스트는 대괄호[]를 사용, 딕셔너리는 중괄호{}를 사용하여 데이터를 정의함\n",
    " - 딕셔너리에서 데이터(value의 값)를 추출하고자 할 때는 \"딕셔너리 변수[key]\" 형태로 작성\n",
    " - 딕셔너리 값(value) 수정 => \"딕셔너리 변수명[존재하는 key] = 수정할 값\" 있으면 수정\n",
    " - 딕셔너리 값 추가 => \"딕셔너리 변수명[추가할 key] = 추가할 값\" 없으면 추가\n",
    "\"\"\""
   ]
  },
  {
   "cell_type": "code",
   "execution_count": 17,
   "id": "b65211aa-fee7-4659-9fd4-d6c7555a029f",
   "metadata": {},
   "outputs": [
    {
     "name": "stdout",
     "output_type": "stream",
     "text": [
      "{'name': '홍길동', 'age': 22, 'area': '부산'}\n"
     ]
    }
   ],
   "source": [
    "### 딕셔너리 변수 생성 \n",
    "data = {}\n",
    "data = {\"name\":\"홍길동\",\n",
    "        \"age\": 22,\n",
    "        \"area\": \"부산\"}\n",
    "print(data)"
   ]
  },
  {
   "cell_type": "code",
   "execution_count": 18,
   "id": "a3614fdc-35a5-4321-9258-e4758b0a120e",
   "metadata": {},
   "outputs": [
    {
     "data": {
      "text/plain": [
       "('홍길동', 22, '부산')"
      ]
     },
     "execution_count": 18,
     "metadata": {},
     "output_type": "execute_result"
    }
   ],
   "source": [
    "### key를 이용하여 값(value) 추출하기\n",
    "data[\"name\"],data[\"age\"],data[\"area\"]"
   ]
  },
  {
   "cell_type": "code",
   "execution_count": 19,
   "id": "e2260cdd-35bb-458c-ba3a-57682a7e0212",
   "metadata": {},
   "outputs": [
    {
     "data": {
      "text/plain": [
       "{'name': '이순신', 'age': 50, 'area': '서울'}"
      ]
     },
     "execution_count": 19,
     "metadata": {},
     "output_type": "execute_result"
    }
   ],
   "source": [
    "### 값 수정하기, 있으면 수정\n",
    "data[\"name\"] = \"이순신\"\n",
    "data[\"age\"] = 50\n",
    "data[\"area\"] = \"서울\"\n",
    "data"
   ]
  },
  {
   "cell_type": "code",
   "execution_count": 20,
   "id": "f4df3f9f-b20e-47ac-a2f2-27b71322bc46",
   "metadata": {},
   "outputs": [
    {
     "data": {
      "text/plain": [
       "{'name': '이순신', 'age': 50, 'area': '서울', 'phone_number': '010-1234-5678'}"
      ]
     },
     "execution_count": 20,
     "metadata": {},
     "output_type": "execute_result"
    }
   ],
   "source": [
    "### 데이터(값) 추가하기, 없으면 추가\n",
    "data[\"phone_number\"] = \"010-1234-5678\" \n",
    "data"
   ]
  },
  {
   "cell_type": "code",
   "execution_count": 21,
   "id": "84cb6cfa-5d3f-4d40-87a6-47aafddacf91",
   "metadata": {},
   "outputs": [
    {
     "name": "stdout",
     "output_type": "stream",
     "text": [
      "['이순신', '홍길동', '김유신'] [11, 33, 55] ['부산', '서울', '대전']\n"
     ]
    }
   ],
   "source": [
    "list_name = [\"이순신\", \"홍길동\", \"김유신\"]\n",
    "list_age = [11, 33, 55]\n",
    "list_area = [\"부산\", \"서울\", \"대전\"]\n",
    "\n",
    "print(list_name, list_age, list_area)"
   ]
  },
  {
   "cell_type": "code",
   "execution_count": 22,
   "id": "f1762683-153c-4a35-9ae8-d04f875a9dec",
   "metadata": {},
   "outputs": [
    {
     "data": {
      "text/plain": [
       "{'name': ['이순신', '홍길동', '김유신'],\n",
       " 'age': [11, 33, 55],\n",
       " 'area': ['부산', '서울', '대전']}"
      ]
     },
     "execution_count": 22,
     "metadata": {},
     "output_type": "execute_result"
    }
   ],
   "source": [
    "dict_data = {\"name\": list_name,\n",
    "             \"age\": list_age,\n",
    "             \"area\": list_area}\n",
    "dict_data"
   ]
  },
  {
   "cell_type": "code",
   "execution_count": 23,
   "id": "b7935a18-0ff8-4732-afa3-e1d5331ba84d",
   "metadata": {},
   "outputs": [
    {
     "data": {
      "text/plain": [
       "(['이순신', '홍길동', '김유신'], ['이순신', '홍길동', '김유신'])"
      ]
     },
     "execution_count": 23,
     "metadata": {},
     "output_type": "execute_result"
    }
   ],
   "source": [
    "### get() 함수를 이용해서 데이터 추출하기\n",
    "dict_data[\"name\"], dict_data.get(\"name\")"
   ]
  },
  {
   "cell_type": "code",
   "execution_count": 24,
   "id": "68688d15-ca10-4135-8631-46f9890884f5",
   "metadata": {},
   "outputs": [
    {
     "ename": "KeyError",
     "evalue": "'name1'",
     "output_type": "error",
     "traceback": [
      "\u001b[1;31m---------------------------------------------------------------------------\u001b[0m",
      "\u001b[1;31mKeyError\u001b[0m                                  Traceback (most recent call last)",
      "Cell \u001b[1;32mIn[24], line 2\u001b[0m\n\u001b[0;32m      1\u001b[0m \u001b[38;5;66;03m### 딕셔너리 내에 key가 존재하지 않으면 오류를 발생합니다\u001b[39;00m\n\u001b[1;32m----> 2\u001b[0m \u001b[43mdict_data\u001b[49m\u001b[43m[\u001b[49m\u001b[38;5;124;43m\"\u001b[39;49m\u001b[38;5;124;43mname1\u001b[39;49m\u001b[38;5;124;43m\"\u001b[39;49m\u001b[43m]\u001b[49m\n",
      "\u001b[1;31mKeyError\u001b[0m: 'name1'"
     ]
    }
   ],
   "source": [
    "### 딕셔너리 내에 key가 존재하지 않으면 오류를 발생합니다\n",
    "dict_data[\"name1\"]"
   ]
  },
  {
   "cell_type": "code",
   "execution_count": 25,
   "id": "0688aa67-8993-4b8b-bd72-5f2a2406a25c",
   "metadata": {},
   "outputs": [
    {
     "data": {
      "text/plain": [
       "'no'"
      ]
     },
     "execution_count": 25,
     "metadata": {},
     "output_type": "execute_result"
    }
   ],
   "source": [
    "### 딕셔너리 내에 해당 key가 존재하지 않더라도 오류 발생하지 않음\n",
    "# - key가 없는 경우를 대처할 수 있음(두번째 값으로 대체)\n",
    "dict_data.get(\"name1\",\"no\")"
   ]
  },
  {
   "cell_type": "code",
   "execution_count": 26,
   "id": "28ec95c8-a225-4707-973f-c2a355b664eb",
   "metadata": {},
   "outputs": [],
   "source": [
    "### 데이터 삭제하기 \n",
    "del data[\"name\"]"
   ]
  },
  {
   "cell_type": "code",
   "execution_count": 27,
   "id": "63fed3ad-83ea-49f5-8ae8-ca8178c14943",
   "metadata": {},
   "outputs": [
    {
     "data": {
      "text/plain": [
       "{'age': 50, 'area': '서울', 'phone_number': '010-1234-5678'}"
      ]
     },
     "execution_count": 27,
     "metadata": {},
     "output_type": "execute_result"
    }
   ],
   "source": [
    "data"
   ]
  },
  {
   "cell_type": "code",
   "execution_count": 28,
   "id": "b5036c23-5698-4115-9619-d04d1449837e",
   "metadata": {},
   "outputs": [
    {
     "data": {
      "text/plain": [
       "(False, True)"
      ]
     },
     "execution_count": 28,
     "metadata": {},
     "output_type": "execute_result"
    }
   ],
   "source": [
    "### key 존재 여부 확인하기 : in 사용\n",
    "# - 리스트에서는 값이 있는지 없는지 확인 했다면\n",
    "# - 딕셔너리에서는 key가 있는지 없는지 확인합니다\n",
    "\"name\" in data, \"age\" in data"
   ]
  },
  {
   "cell_type": "code",
   "execution_count": 31,
   "id": "b921ad77-fc76-4815-93dc-c05fc6f35c65",
   "metadata": {},
   "outputs": [
    {
     "data": {
      "text/plain": [
       "True"
      ]
     },
     "execution_count": 31,
     "metadata": {},
     "output_type": "execute_result"
    }
   ],
   "source": [
    "### 이름 중에 홍길동님이 있는지 확인하기\n",
    "\"홍길동\" in dict_data[\"name\"]   # dict_data[\"name\"] 자체가 리스트 이기에 앞에 in 함수를 붙이기 가능"
   ]
  },
  {
   "cell_type": "code",
   "execution_count": 33,
   "id": "a69b24b0-b50d-462a-ad8f-67ab9ee1f8b1",
   "metadata": {},
   "outputs": [
    {
     "data": {
      "text/plain": [
       "{'name': '홍길동1', 'name2': '홍길동2'}"
      ]
     },
     "execution_count": 33,
     "metadata": {},
     "output_type": "execute_result"
    }
   ],
   "source": [
    "### 문자열과 정수로만 대부분 이루어짐\n",
    "dict2 = {1 : \" 홍길동\", 2 : \"홍길동2\"}\n",
    "dict2 = {\"name\": \"홍길동1\", \"name2\" : \"홍길동2\"}\n",
    "dict2"
   ]
  },
  {
   "cell_type": "code",
   "execution_count": 1,
   "id": "3a57e321-6c1e-448f-9a80-2eccf6a48600",
   "metadata": {},
   "outputs": [
    {
     "name": "stdout",
     "output_type": "stream",
     "text": [
      "{'name1': '홍길동1', 'name2': '홍길동2', 'name3': '홍길동3', 'name4': '홍길동4', 'name5': '홍길동5', 'name6': '홍길동6', 'name7': '홍길동7', 'name8': '홍길동8', 'name9': '홍길동9', 'name10': '홍길동10', 'name11': '홍길동11', 'name12': '홍길동12', 'name13': '홍길동13', 'name14': '홍길동14', 'name15': '홍길동15', 'name16': '홍길동16', 'name17': '홍길동17', 'name18': '홍길동18', 'name19': '홍길동19', 'name20': '홍길동20', 'name21': '홍길동21', 'name22': '홍길동22', 'name23': '홍길동23', 'name24': '홍길동24', 'name25': '홍길동25', 'name26': '홍길동26', 'name27': '홍길동27', 'name28': '홍길동28', 'name29': '홍길동29', 'name30': '홍길동30', 'name31': '홍길동31', 'name32': '홍길동32', 'name33': '홍길동33', 'name34': '홍길동34', 'name35': '홍길동35', 'name36': '홍길동36', 'name37': '홍길동37', 'name38': '홍길동38', 'name39': '홍길동39', 'name40': '홍길동40', 'name41': '홍길동41', 'name42': '홍길동42', 'name43': '홍길동43', 'name44': '홍길동44', 'name45': '홍길동45', 'name46': '홍길동46', 'name47': '홍길동47', 'name48': '홍길동48', 'name49': '홍길동49', 'name50': '홍길동50', 'name51': '홍길동51', 'name52': '홍길동52', 'name53': '홍길동53', 'name54': '홍길동54', 'name55': '홍길동55', 'name56': '홍길동56', 'name57': '홍길동57', 'name58': '홍길동58', 'name59': '홍길동59', 'name60': '홍길동60', 'name61': '홍길동61', 'name62': '홍길동62', 'name63': '홍길동63', 'name64': '홍길동64', 'name65': '홍길동65', 'name66': '홍길동66', 'name67': '홍길동67', 'name68': '홍길동68', 'name69': '홍길동69', 'name70': '홍길동70', 'name71': '홍길동71', 'name72': '홍길동72', 'name73': '홍길동73', 'name74': '홍길동74', 'name75': '홍길동75', 'name76': '홍길동76', 'name77': '홍길동77', 'name78': '홍길동78', 'name79': '홍길동79', 'name80': '홍길동80', 'name81': '홍길동81', 'name82': '홍길동82', 'name83': '홍길동83', 'name84': '홍길동84', 'name85': '홍길동85', 'name86': '홍길동86', 'name87': '홍길동87', 'name88': '홍길동88', 'name89': '홍길동89', 'name90': '홍길동90', 'name91': '홍길동91', 'name92': '홍길동92', 'name93': '홍길동93', 'name94': '홍길동94', 'name95': '홍길동95', 'name96': '홍길동96', 'name97': '홍길동97', 'name98': '홍길동98', 'name99': '홍길동99', 'name100': '홍길동100'}\n"
     ]
    }
   ],
   "source": [
    "### 딕셔너리 변수 생성 : dict 3\n",
    "# - key값은 name1 ~ name100\n",
    "# - value 값은 홍길동 1 ~ 홍길동 100\n",
    "dict3={}\n",
    "\n",
    "for i in range (1,101) :\n",
    "    key = f\"name{i}\"  \n",
    "    value = f\"홍길동{i}\" \n",
    "    dict3[key] = value\n",
    "\n",
    "print(dict3)"
   ]
  },
  {
   "cell_type": "code",
   "execution_count": 31,
   "id": "b47d30de-9bac-4d91-b553-bcbe05001136",
   "metadata": {},
   "outputs": [
    {
     "data": {
      "text/plain": [
       "dict_keys(['name1', 'name2', 'name3', 'name4', 'name5', 'name6', 'name7', 'name8', 'name9', 'name10', 'name11', 'name12', 'name13', 'name14', 'name15', 'name16', 'name17', 'name18', 'name19', 'name20', 'name21', 'name22', 'name23', 'name24', 'name25', 'name26', 'name27', 'name28', 'name29', 'name30', 'name31', 'name32', 'name33', 'name34', 'name35', 'name36', 'name37', 'name38', 'name39', 'name40', 'name41', 'name42', 'name43', 'name44', 'name45', 'name46', 'name47', 'name48', 'name49', 'name50', 'name51', 'name52', 'name53', 'name54', 'name55', 'name56', 'name57', 'name58', 'name59', 'name60', 'name61', 'name62', 'name63', 'name64', 'name65', 'name66', 'name67', 'name68', 'name69', 'name70', 'name71', 'name72', 'name73', 'name74', 'name75', 'name76', 'name77', 'name78', 'name79', 'name80', 'name81', 'name82', 'name83', 'name84', 'name85', 'name86', 'name87', 'name88', 'name89', 'name90', 'name91', 'name92', 'name93', 'name94', 'name95', 'name96', 'name97', 'name98', 'name99', 'name100'])"
      ]
     },
     "execution_count": 31,
     "metadata": {},
     "output_type": "execute_result"
    }
   ],
   "source": [
    "### 딕셔너리에서 key만 추출하기 == keys\n",
    "# - key() : key값 모두 리스트 타입으로 반환해 줍니다.\n",
    "dict3.keys()"
   ]
  },
  {
   "cell_type": "code",
   "execution_count": 6,
   "id": "e04029ea-9429-4e93-839a-8702cd8ac2f3",
   "metadata": {},
   "outputs": [],
   "source": [
    "### 딕셔너리에서 값(value)만 추출하기 == value\n",
    "# - value() : value값 모두 리스트 타입으로 반환해 줍니다.\n",
    "# dict3.values()"
   ]
  },
  {
   "cell_type": "code",
   "execution_count": 5,
   "id": "81bfc02b-0161-4012-a7f7-dfa99c583f38",
   "metadata": {},
   "outputs": [],
   "source": [
    "### 딕셔너리 내에 key와 value의 모든 값들을 세트로 추출하기\n",
    "# items() : 각 key와 value의 모든 값들을 리스트 타입으로 반환\n",
    "#           각 key와 value의 값들은 소괄호()로 묶어서 나옴\n",
    "#           소괄호() -> 파이썬에서는 소괄호() 타입을 튜플 타입이라고 합니다.\n",
    "#                     (튜플: 리스트와 기호만 다르고 동일하게 사용되는 형태)\n",
    "# dict3.items()"
   ]
  },
  {
   "cell_type": "code",
   "execution_count": 34,
   "id": "242525b8-9755-45f1-842c-01b0b3a45eb8",
   "metadata": {},
   "outputs": [
    {
     "name": "stdout",
     "output_type": "stream",
     "text": [
      "key : name1, value : 홍길동1\n",
      "key : name2, value : 홍길동2\n",
      "key : name3, value : 홍길동3\n",
      "key : name4, value : 홍길동4\n",
      "key : name5, value : 홍길동5\n",
      "key : name6, value : 홍길동6\n",
      "key : name7, value : 홍길동7\n",
      "key : name8, value : 홍길동8\n",
      "key : name9, value : 홍길동9\n",
      "key : name10, value : 홍길동10\n",
      "key : name11, value : 홍길동11\n",
      "key : name12, value : 홍길동12\n",
      "key : name13, value : 홍길동13\n",
      "key : name14, value : 홍길동14\n",
      "key : name15, value : 홍길동15\n",
      "key : name16, value : 홍길동16\n",
      "key : name17, value : 홍길동17\n",
      "key : name18, value : 홍길동18\n",
      "key : name19, value : 홍길동19\n",
      "key : name20, value : 홍길동20\n",
      "key : name21, value : 홍길동21\n",
      "key : name22, value : 홍길동22\n",
      "key : name23, value : 홍길동23\n",
      "key : name24, value : 홍길동24\n",
      "key : name25, value : 홍길동25\n",
      "key : name26, value : 홍길동26\n",
      "key : name27, value : 홍길동27\n",
      "key : name28, value : 홍길동28\n",
      "key : name29, value : 홍길동29\n",
      "key : name30, value : 홍길동30\n",
      "key : name31, value : 홍길동31\n",
      "key : name32, value : 홍길동32\n",
      "key : name33, value : 홍길동33\n",
      "key : name34, value : 홍길동34\n",
      "key : name35, value : 홍길동35\n",
      "key : name36, value : 홍길동36\n",
      "key : name37, value : 홍길동37\n",
      "key : name38, value : 홍길동38\n",
      "key : name39, value : 홍길동39\n",
      "key : name40, value : 홍길동40\n",
      "key : name41, value : 홍길동41\n",
      "key : name42, value : 홍길동42\n",
      "key : name43, value : 홍길동43\n",
      "key : name44, value : 홍길동44\n",
      "key : name45, value : 홍길동45\n",
      "key : name46, value : 홍길동46\n",
      "key : name47, value : 홍길동47\n",
      "key : name48, value : 홍길동48\n",
      "key : name49, value : 홍길동49\n",
      "key : name50, value : 홍길동50\n",
      "key : name51, value : 홍길동51\n",
      "key : name52, value : 홍길동52\n",
      "key : name53, value : 홍길동53\n",
      "key : name54, value : 홍길동54\n",
      "key : name55, value : 홍길동55\n",
      "key : name56, value : 홍길동56\n",
      "key : name57, value : 홍길동57\n",
      "key : name58, value : 홍길동58\n",
      "key : name59, value : 홍길동59\n",
      "key : name60, value : 홍길동60\n",
      "key : name61, value : 홍길동61\n",
      "key : name62, value : 홍길동62\n",
      "key : name63, value : 홍길동63\n",
      "key : name64, value : 홍길동64\n",
      "key : name65, value : 홍길동65\n",
      "key : name66, value : 홍길동66\n",
      "key : name67, value : 홍길동67\n",
      "key : name68, value : 홍길동68\n",
      "key : name69, value : 홍길동69\n",
      "key : name70, value : 홍길동70\n",
      "key : name71, value : 홍길동71\n",
      "key : name72, value : 홍길동72\n",
      "key : name73, value : 홍길동73\n",
      "key : name74, value : 홍길동74\n",
      "key : name75, value : 홍길동75\n",
      "key : name76, value : 홍길동76\n",
      "key : name77, value : 홍길동77\n",
      "key : name78, value : 홍길동78\n",
      "key : name79, value : 홍길동79\n",
      "key : name80, value : 홍길동80\n",
      "key : name81, value : 홍길동81\n",
      "key : name82, value : 홍길동82\n",
      "key : name83, value : 홍길동83\n",
      "key : name84, value : 홍길동84\n",
      "key : name85, value : 홍길동85\n",
      "key : name86, value : 홍길동86\n",
      "key : name87, value : 홍길동87\n",
      "key : name88, value : 홍길동88\n",
      "key : name89, value : 홍길동89\n",
      "key : name90, value : 홍길동90\n",
      "key : name91, value : 홍길동91\n",
      "key : name92, value : 홍길동92\n",
      "key : name93, value : 홍길동93\n",
      "key : name94, value : 홍길동94\n",
      "key : name95, value : 홍길동95\n",
      "key : name96, value : 홍길동96\n",
      "key : name97, value : 홍길동97\n",
      "key : name98, value : 홍길동98\n",
      "key : name99, value : 홍길동99\n",
      "key : name100, value : 홍길동100\n"
     ]
    }
   ],
   "source": [
    "# print(dict3)\n",
    "### key() 함수를 이용해서 \n",
    "# - 아래와 같이 출력하기 \n",
    "#   key : name1, value : 홍길동1 입니다.\n",
    "#   ~ key : name 100, value : 홍길동 100  \n",
    "\n",
    "# for i in dict3.keys() :\n",
    "#     print(f\" key : {i}, value : {dict3[i]}\")\n",
    "\n",
    "for k in dict3.keys() :\n",
    "    # print(val) # name 1 ~ 100\n",
    "    print(f\"key : {k}, value : {dict3[k]}\")"
   ]
  },
  {
   "cell_type": "code",
   "execution_count": 46,
   "id": "2eb917e2-4387-499a-9747-ac4e9673a3f4",
   "metadata": {},
   "outputs": [
    {
     "data": {
      "text/plain": [
       "'name1'"
      ]
     },
     "execution_count": 46,
     "metadata": {},
     "output_type": "execute_result"
    }
   ],
   "source": [
    "a = 1\n",
    "b = 2\n",
    "a, b \n",
    "\n",
    "a, b = (10, 50)\n",
    "a, b \n",
    "\n",
    "c, d = 10,50\n",
    "c, d\n",
    "\n",
    "_, h = (50, 60)  # 안받고 싶다면 언더라인 _\n",
    "h\n",
    "\n",
    "k, v = ('name1', '홍길동1')\n",
    "k"
   ]
  },
  {
   "cell_type": "code",
   "execution_count": 53,
   "id": "9f64aa45-dd02-4425-a4a5-cc7ce6fefa19",
   "metadata": {},
   "outputs": [],
   "source": [
    "# dict3.items()"
   ]
  },
  {
   "cell_type": "code",
   "execution_count": 52,
   "id": "2d5377c1-39f7-4ef8-b4b8-95c23be36cbe",
   "metadata": {},
   "outputs": [
    {
     "name": "stdout",
     "output_type": "stream",
     "text": [
      "key : name1, value : 홍길동1\n",
      "key : name2, value : 홍길동2\n",
      "key : name3, value : 홍길동3\n",
      "key : name4, value : 홍길동4\n",
      "key : name5, value : 홍길동5\n",
      "key : name6, value : 홍길동6\n",
      "key : name7, value : 홍길동7\n",
      "key : name8, value : 홍길동8\n",
      "key : name9, value : 홍길동9\n",
      "key : name10, value : 홍길동10\n",
      "key : name11, value : 홍길동11\n",
      "key : name12, value : 홍길동12\n",
      "key : name13, value : 홍길동13\n",
      "key : name14, value : 홍길동14\n",
      "key : name15, value : 홍길동15\n",
      "key : name16, value : 홍길동16\n",
      "key : name17, value : 홍길동17\n",
      "key : name18, value : 홍길동18\n",
      "key : name19, value : 홍길동19\n",
      "key : name20, value : 홍길동20\n",
      "key : name21, value : 홍길동21\n",
      "key : name22, value : 홍길동22\n",
      "key : name23, value : 홍길동23\n",
      "key : name24, value : 홍길동24\n",
      "key : name25, value : 홍길동25\n",
      "key : name26, value : 홍길동26\n",
      "key : name27, value : 홍길동27\n",
      "key : name28, value : 홍길동28\n",
      "key : name29, value : 홍길동29\n",
      "key : name30, value : 홍길동30\n",
      "key : name31, value : 홍길동31\n",
      "key : name32, value : 홍길동32\n",
      "key : name33, value : 홍길동33\n",
      "key : name34, value : 홍길동34\n",
      "key : name35, value : 홍길동35\n",
      "key : name36, value : 홍길동36\n",
      "key : name37, value : 홍길동37\n",
      "key : name38, value : 홍길동38\n",
      "key : name39, value : 홍길동39\n",
      "key : name40, value : 홍길동40\n",
      "key : name41, value : 홍길동41\n",
      "key : name42, value : 홍길동42\n",
      "key : name43, value : 홍길동43\n",
      "key : name44, value : 홍길동44\n",
      "key : name45, value : 홍길동45\n",
      "key : name46, value : 홍길동46\n",
      "key : name47, value : 홍길동47\n",
      "key : name48, value : 홍길동48\n",
      "key : name49, value : 홍길동49\n",
      "key : name50, value : 홍길동50\n",
      "key : name51, value : 홍길동51\n",
      "key : name52, value : 홍길동52\n",
      "key : name53, value : 홍길동53\n",
      "key : name54, value : 홍길동54\n",
      "key : name55, value : 홍길동55\n",
      "key : name56, value : 홍길동56\n",
      "key : name57, value : 홍길동57\n",
      "key : name58, value : 홍길동58\n",
      "key : name59, value : 홍길동59\n",
      "key : name60, value : 홍길동60\n",
      "key : name61, value : 홍길동61\n",
      "key : name62, value : 홍길동62\n",
      "key : name63, value : 홍길동63\n",
      "key : name64, value : 홍길동64\n",
      "key : name65, value : 홍길동65\n",
      "key : name66, value : 홍길동66\n",
      "key : name67, value : 홍길동67\n",
      "key : name68, value : 홍길동68\n",
      "key : name69, value : 홍길동69\n",
      "key : name70, value : 홍길동70\n",
      "key : name71, value : 홍길동71\n",
      "key : name72, value : 홍길동72\n",
      "key : name73, value : 홍길동73\n",
      "key : name74, value : 홍길동74\n",
      "key : name75, value : 홍길동75\n",
      "key : name76, value : 홍길동76\n",
      "key : name77, value : 홍길동77\n",
      "key : name78, value : 홍길동78\n",
      "key : name79, value : 홍길동79\n",
      "key : name80, value : 홍길동80\n",
      "key : name81, value : 홍길동81\n",
      "key : name82, value : 홍길동82\n",
      "key : name83, value : 홍길동83\n",
      "key : name84, value : 홍길동84\n",
      "key : name85, value : 홍길동85\n",
      "key : name86, value : 홍길동86\n",
      "key : name87, value : 홍길동87\n",
      "key : name88, value : 홍길동88\n",
      "key : name89, value : 홍길동89\n",
      "key : name90, value : 홍길동90\n",
      "key : name91, value : 홍길동91\n",
      "key : name92, value : 홍길동92\n",
      "key : name93, value : 홍길동93\n",
      "key : name94, value : 홍길동94\n",
      "key : name95, value : 홍길동95\n",
      "key : name96, value : 홍길동96\n",
      "key : name97, value : 홍길동97\n",
      "key : name98, value : 홍길동98\n",
      "key : name99, value : 홍길동99\n",
      "key : name100, value : 홍길동100\n"
     ]
    }
   ],
   "source": [
    "# print(dict3)\n",
    "### key() 함수를 이용해서 \n",
    "# - 아래와 같이 출력하기 \n",
    "#   key : name1, value : 홍길동1 입니다.\n",
    "#   ~ key : name 100, value : 홍길동 100  \n",
    "\n",
    "for k,v in dict3.items() :\n",
    "    # print(val) # name 1 ~ 100\n",
    "    print(f\"key : {k}, value : {v}\")"
   ]
  },
  {
   "cell_type": "code",
   "execution_count": 76,
   "id": "529f5496-fb04-47b4-b47a-ea78895a8474",
   "metadata": {},
   "outputs": [
    {
     "name": "stdout",
     "output_type": "stream",
     "text": [
      "['홍길동2', '홍길동4', '홍길동6', '홍길동8', '홍길동10', '홍길동12', '홍길동14', '홍길동16', '홍길동18', '홍길동20', '홍길동22', '홍길동24', '홍길동26', '홍길동28', '홍길동30', '홍길동32', '홍길동34', '홍길동36', '홍길동38', '홍길동40', '홍길동42', '홍길동44', '홍길동46', '홍길동48', '홍길동50', '홍길동52', '홍길동54', '홍길동56', '홍길동58', '홍길동60', '홍길동62', '홍길동64', '홍길동66', '홍길동68', '홍길동70', '홍길동72', '홍길동74', '홍길동76', '홍길동78', '홍길동80', '홍길동82', '홍길동84', '홍길동86', '홍길동88', '홍길동90', '홍길동92', '홍길동94', '홍길동96', '홍길동98', '홍길동100']\n",
      "\n",
      "['홍길동1', '홍길동3', '홍길동5', '홍길동7', '홍길동9', '홍길동11', '홍길동13', '홍길동15', '홍길동17', '홍길동19', '홍길동21', '홍길동23', '홍길동25', '홍길동27', '홍길동29', '홍길동31', '홍길동33', '홍길동35', '홍길동37', '홍길동39', '홍길동41', '홍길동43', '홍길동45', '홍길동47', '홍길동49', '홍길동51', '홍길동53', '홍길동55', '홍길동57', '홍길동59', '홍길동61', '홍길동63', '홍길동65', '홍길동67', '홍길동69', '홍길동71', '홍길동73', '홍길동75', '홍길동77', '홍길동79', '홍길동81', '홍길동83', '홍길동85', '홍길동87', '홍길동89', '홍길동91', '홍길동93', '홍길동95', '홍길동97', '홍길동99']\n"
     ]
    }
   ],
   "source": [
    "### 짝수 및 홀수 리스트 깨긋한 변수 2개 생성\n",
    "# 리스트 변수명 : 짝수 리스트명(list1), 홀수 리스트명(list2)\n",
    "# - 딕셔너리 데이터의 key 또는 value의 값 뒤에 숫자가 짝수이면 list 1, value값 추가\n",
    "#                                                     홀수이면 list 2\n",
    "# - 최종결과 확인 :list 1, list2 \n",
    "list1 = []\n",
    "list2 = []\n",
    "\n",
    "for k in dict3.values(): # k = \"홍길동1\", k[0] ==\"홍\"\n",
    "    if int(k[3:]) % 2 == 0: #  홍길동은 문자열이기때문에 int()로 덮어주고 k[3:0]을 이용해 4번째 순서만 사용\n",
    "        list1.append(k)\n",
    "    else:\n",
    "        list2.append(k)\n",
    "\n",
    "print(list1)\n",
    "print()\n",
    "print(list2)"
   ]
  },
  {
   "cell_type": "markdown",
   "id": "1c1ca547-5247-425e-8a7a-79a84a8a02eb",
   "metadata": {},
   "source": [
    "#### 실습"
   ]
  },
  {
   "cell_type": "code",
   "execution_count": null,
   "id": "b1f54743-5d9d-4df3-8d2b-6b11e78202bf",
   "metadata": {},
   "outputs": [],
   "source": [
    "\"\"\"\n",
    "* 이름, 나이, 지역 데이터 관리하기 \n",
    " - 이름, 나이, 지역는 딕셔너리 타입 사용\n",
    " - 리스트에 데이터 추가시 {name:이름, age:나이, area:지역} 딕셔너리 형태로 리스트에 추가하여 관리\n",
    "\n",
    "* 리스트 변수명 : data_list\n",
    "* [{name:이름, age:나이, area:지역} ,\n",
    "   {name:이름, age:나이, area:지역} ,\n",
    "   {name:이름, age:나이, area:지역} ..]\n",
    "\"\"\""
   ]
  },
  {
   "cell_type": "code",
   "execution_count": 138,
   "id": "85bd15e6-b1fc-4065-bdaa-2dc54f1d7db6",
   "metadata": {},
   "outputs": [
    {
     "name": "stdin",
     "output_type": "stream",
     "text": [
      "아래 번호 중에 하나를 선택하여 주세요(번호로 입력)\n",
      "0. 종료\n",
      "1. 리스트에 값 추가 \n",
      "2. 전체 검색\n",
      "3. 검색하기(이름검색)\n",
      "4. 삭제하기\n",
      "5. 수정하기\n",
      " 1\n",
      "[이름]를 입력해 주세요 :  사나이\n",
      "[나이]를 입력해 주세요 :  90\n",
      "지역을 입력해주세요 :  마산\n"
     ]
    },
    {
     "name": "stdout",
     "output_type": "stream",
     "text": [
      "사나이님의 나이 90와 지역 마산을 정상적으로 추가하였습니다.\n",
      "\n"
     ]
    },
    {
     "name": "stdin",
     "output_type": "stream",
     "text": [
      "아래 번호 중에 하나를 선택하여 주세요(번호로 입력)\n",
      "0. 종료\n",
      "1. 리스트에 값 추가 \n",
      "2. 전체 검색\n",
      "3. 검색하기(이름검색)\n",
      "4. 삭제하기\n",
      "5. 수정하기\n",
      " 5\n",
      "번호를 입력하세요:  2\n",
      "새로운 나이를 입력하세요:  20\n"
     ]
    },
    {
     "name": "stdout",
     "output_type": "stream",
     "text": [
      "나이가 변경되었습니다. 감사합니다.\n"
     ]
    }
   ],
   "source": [
    "data_list=[]\n",
    "\n",
    "msg = \"\"\"아래 번호 중에 하나를 선택하여 주세요(번호로 입력)\n",
    "0. 종료\n",
    "1. 리스트에 값 추가 \n",
    "2. 전체 검색\n",
    "3. 검색하기(이름검색)\n",
    "4. 삭제하기\n",
    "5. 수정하기\n",
    "\"\"\"\n",
    "\n",
    "while True:\n",
    "    a = int(input(msg))\n",
    "    \n",
    "    if a == 0:\n",
    "        print(\"이제 끄으읕~\")\n",
    "        break  \n",
    "    elif a == 1:\n",
    "        found = True\n",
    "        p_name = input(\"[이름]를 입력해 주세요 : \")\n",
    "\n",
    "        for person in data_list:\n",
    "            if person['name'] == p_name:\n",
    "                print(f\"{p_name}의 정보가 이미 존재합니다.\")\n",
    "                found = False\n",
    "                break\n",
    "                \n",
    "        if found == True :\n",
    "            p_age = input(\"[나이]를 입력해 주세요 : \")\n",
    "            p_area = input(\"지역을 입력해주세요 : \")\n",
    "\n",
    "            data_list.append({'name': p_name, 'age': p_age, 'area': p_area})\n",
    "            print(f\"{p_name}님의 나이 {p_age}와 지역 {p_area}을 정상적으로 추가하였습니다.\")\n",
    "    \n",
    "    elif a == 2:\n",
    "        found = True\n",
    "        if not data_list:\n",
    "            print(\"등록된 정보가 없습니다 !!\")\n",
    "            found = False\n",
    "            break\n",
    "        else:\n",
    "            for person in data_list:\n",
    "                print(f\"{person['name']}님의 나이는 {person['age']}살이고 {person['area']}에 거주하고 있습니다.\")\n",
    "    \n",
    "    elif a == 3:\n",
    "        p_name = input(\"[이름]를 입력해 주세요 : \")\n",
    "\n",
    "        found = True\n",
    "        for person in data_list:\n",
    "            if p_name == person['name']:\n",
    "                print(f\"{person['name']}님의 나이는 {person['age']}살이고 {person['area']}에 거주하고 있습니다.\")\n",
    "                found = False\n",
    "                break\n",
    "                    \n",
    "            if found == False :\n",
    "                print(\"등록된 정보가 없습니다.\")\n",
    "            \n",
    "        else :\n",
    "            print(\"더 찾아보세요~\")\n",
    "            \n",
    "    elif a == 4:\n",
    "        d_name = input(\"[이름]를 입력해 주세요 : \")\n",
    "    \n",
    "        idx = -1  # 좀 찾자\n",
    "        found = False \n",
    "\n",
    "        for i in range(len(data_list)):\n",
    "            if data_list[i]['name'] == d_name:\n",
    "                idx = i  # 좀 찾자\n",
    "                found = True \n",
    "                break  \n",
    "\n",
    "        if found:\n",
    "            del data_list[idx]  # 해당 인덱스의 정보를 삭제\n",
    "            print(\"정상적으로 삭제되었습니다.\")\n",
    "        else:\n",
    "            print(\"등록된 정보가 없습니다.\")\n",
    "                \n",
    "    elif a == 5:\n",
    "        if data_list : \n",
    "            new_name = input(\"수정이 필요한 대상의 성함을 입력해주세요\")\n",
    "            found = False\n",
    "\n",
    "            #있냐?\n",
    "            for k in data_list:\n",
    "                if new_name == k[\"name\"]:\n",
    "                    found = False\n",
    "                print(f\"{person['name']}님의 나이는 {person['age']}살이고 {person['area']}에 거주하고 있습니다.\")\n",
    "                print(\"\"\"아래 번호 중에 하나를 선택하여 변경할 내용을 알려주세요(번호로 입력):\n",
    "                1. 이름\n",
    "                2. 나이 \n",
    "                3. 지역\n",
    "                    \"\"\")\n",
    "        haha = int(input(\"번호를 입력하세요: \"))\n",
    "        \n",
    "        if haha == 1:\n",
    "            new_name = input(\"새로운 이름을 입력하세요: \")\n",
    "            person['name'] = new_name\n",
    "            print(\"원하는 이름으로 변환되었습니다. 축하드립니다.\")\n",
    "        elif haha == 2:\n",
    "            new_age = input(\"새로운 나이를 입력하세요: \")\n",
    "            person['age'] = new_age\n",
    "            print(\"나이가 변경되었습니다. 감사합니다.\")\n",
    "        elif haha == 3:\n",
    "            new_area = input(\"새로운 지역을 입력하세요: \")\n",
    "            person['area'] = new_area\n",
    "            print(\"주소가 변경되었습니다. 감사합니다.\")\n",
    "        else:\n",
    "            print(\"잘못된 선택입니다.\")\n",
    "        break\n",
    "    # elif a == 5:\n",
    "    #     print(\"수정하기\")\n",
    "    #     if data_list:\n",
    "    #         update_name = input(\"수정할 대상의 이름을 입력하세요 :\")\n",
    "    #         judge = False\n",
    "    \n",
    "    #         # 등록된 사람인지 판단\n",
    "    #         for dic in data_list:\n",
    "    #             # 등록된 사람이라면\n",
    "    #             if update_name == dic[\"name\"]:\n",
    "    #                 judge = True\n",
    "    #                 update_info = input(\"수정하고 싶은 항목을 '이름', '나이', '지역' 중에서 선택해주세요\")\n",
    "    \n",
    "    #                 if update_info == \"이름\":\n",
    "    #                     update_info_name = input(\"수정할 이름을 입력하세요 :\")\n",
    "    #                     dic['name'] = update_info_name\n",
    "    #                     print(f'{dic[\"name\"]}님의 나이는{dic[\"age\"]}이고 {dic[\"area\"]}에 거주로 변경되었습니다.')\n",
    "    \n",
    "    #                 elif update_info == \"나이\":\n",
    "    #                     update_info_age = input(\"수정할 나이를 입력하세요 :\")\n",
    "    #                     dic['age'] = update_info_age\n",
    "    #                     print(f'{dic[\"name\"]}님의 나이는{dic[\"age\"]}이고 {dic[\"area\"]}에 거주로 변경되었습니다.')\n",
    "    \n",
    "    #                 elif update_info == \"지역\":\n",
    "    #                     update_info_area = input(\"수정할 이름을 입력하세요 :\")\n",
    "    #                     dic['area'] = update_info_area\n",
    "    #                     print(f'{dic[\"name\"]}님의 나이는{dic[\"age\"]}이고 {dic[\"area\"]}에 거주로 변경되었습니다.')\n",
    "    \n",
    "    #                 else:\n",
    "    #                     print(\"수정할 수 있는 정보가 아닙니다.\")\n",
    "    #                 break\n",
    "\n",
    "    #         if judge == False:\n",
    "    #             print(\"등록되지 않은 대상입니다.\")\n",
    "                \n",
    "    #     else:\n",
    "    #         print(\"수정할 정보가 없습니다. 정보를 먼저 등록해주세요\")\n",
    "\n",
    "    else:\n",
    "        print(\"0, 1, 2, 3, 4, 5번 중에 선택하세요.\")\n",
    "\n",
    "    print()"
   ]
  },
  {
   "cell_type": "code",
   "execution_count": null,
   "id": "3782b864-5049-438e-a31e-5f3e9321a06a",
   "metadata": {},
   "outputs": [],
   "source": []
  },
  {
   "cell_type": "code",
   "execution_count": null,
   "id": "dbd51056-bd5f-4b24-b13e-928b10ddf75e",
   "metadata": {},
   "outputs": [],
   "source": []
  },
  {
   "cell_type": "code",
   "execution_count": null,
   "id": "0ff8057b-e6cd-436a-a8ee-2ed7f8701ad8",
   "metadata": {},
   "outputs": [],
   "source": []
  },
  {
   "cell_type": "code",
   "execution_count": null,
   "id": "da8645d8-d590-4dda-a75c-e93ab9bbc93d",
   "metadata": {},
   "outputs": [],
   "source": []
  },
  {
   "cell_type": "code",
   "execution_count": null,
   "id": "cb3864cc-7b62-48d2-a827-20438e6d9ce1",
   "metadata": {},
   "outputs": [],
   "source": []
  },
  {
   "cell_type": "code",
   "execution_count": null,
   "id": "85af70a4-d2a5-4df3-b719-db8a433075fa",
   "metadata": {},
   "outputs": [],
   "source": []
  },
  {
   "cell_type": "code",
   "execution_count": null,
   "id": "3954b942-c0c6-4370-9130-7f5008df579c",
   "metadata": {},
   "outputs": [],
   "source": []
  },
  {
   "cell_type": "code",
   "execution_count": null,
   "id": "d263d490-d549-4a6e-acb8-f5843ff6eed1",
   "metadata": {},
   "outputs": [],
   "source": []
  }
 ],
 "metadata": {
  "kernelspec": {
   "display_name": "bk_base_202503_kernel",
   "language": "python",
   "name": "bk_base_202503"
  },
  "language_info": {
   "codemirror_mode": {
    "name": "ipython",
    "version": 3
   },
   "file_extension": ".py",
   "mimetype": "text/x-python",
   "name": "python",
   "nbconvert_exporter": "python",
   "pygments_lexer": "ipython3",
   "version": "3.9.21"
  }
 },
 "nbformat": 4,
 "nbformat_minor": 5
}
