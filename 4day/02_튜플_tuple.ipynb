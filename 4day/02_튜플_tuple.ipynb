{
 "cells": [
  {
   "cell_type": "code",
   "execution_count": null,
   "id": "029ae81a-1f62-4ca7-979d-b09f9a1bee49",
   "metadata": {},
   "outputs": [],
   "source": [
    "\"\"\"\n",
    "<튜플(tuple)>\n",
    " - 튜플은 소괄호() 기호를 사용\n",
    " - 출력 결과값이 소괄호()로 묶여 있는 경우에는 대부분 튜플 타입이라고 생각하시면 됩니다.\n",
    " -  *** 튜플은 리스트(list0)와 구조 및 사용법이 모두 동일합니다. 기호만 다름\n",
    " -  *** 리스트와의 차이점 : 수정 및 삭제만 안됨. 한번 정의된 값들 수정 불가\n",
    " -                        : 수정 및 삭제하려면 삭제 후 다시 정의하여 생성해야 합니다.\n",
    " - 보통 직접 튜플을 생성하여 사용하는 경우는 많지 않으며, \n",
    "   특정 함수의 결과 또는 처리 결과를 튜플 타입으로 제공을 해줍니다.\n",
    " - 튜플을 생성할 때 한개의 값만 정의해서 생성할 경우에는 한개의 값 뒤에 콤마(,)를 넣으셔야 합니다.\n",
    "\"\"\""
   ]
  },
  {
   "cell_type": "code",
   "execution_count": 1,
   "id": "d9eae3ea-6b95-42d5-b1df-10d946855342",
   "metadata": {},
   "outputs": [
    {
     "data": {
      "text/plain": [
       "(1,)"
      ]
     },
     "execution_count": 1,
     "metadata": {},
     "output_type": "execute_result"
    }
   ],
   "source": [
    "### 튜플 생성하기\n",
    "tuple1 = () # 깨끗한 튜플, 실행값 : ()\n",
    "\n",
    "### 2개 이상의 값을 정의하여 생성\n",
    "tuple2 = (1,2,3)\n",
    "tuple2\n",
    "\n",
    "### 1개의 값만 정의할 때\n",
    "tuple3 = (1,)\n",
    "tuple3\n",
    "# tuple3 = (1) 이렇게 작성할 경우 튜플이 삭제됨 출력 값: 1\n",
    "# tuple3\n"
   ]
  },
  {
   "cell_type": "code",
   "execution_count": 2,
   "id": "64455c93-dc48-4a3e-8677-862a9837e38b",
   "metadata": {},
   "outputs": [
    {
     "data": {
      "text/plain": [
       "(2, 3)"
      ]
     },
     "execution_count": 2,
     "metadata": {},
     "output_type": "execute_result"
    }
   ],
   "source": [
    "tuple2[0] # 출력 값 : 1\n",
    "tuple2[1:] # 출력 값 (2,3)"
   ]
  },
  {
   "cell_type": "raw",
   "id": "bf32a714-56fc-49ab-bbbb-9ec27fac9ffe",
   "metadata": {},
   "source": [
    "for i in range(0,len(tuple2)) :\n",
    "    print(tuple[i])"
   ]
  },
  {
   "cell_type": "code",
   "execution_count": 4,
   "id": "4597a270-e2a3-4d78-a689-36a75ba9b29c",
   "metadata": {},
   "outputs": [
    {
     "name": "stdout",
     "output_type": "stream",
     "text": [
      "1\n",
      "2\n",
      "3\n"
     ]
    }
   ],
   "source": [
    "for val in tuple2 :\n",
    "    print(val)"
   ]
  },
  {
   "cell_type": "code",
   "execution_count": 3,
   "id": "07899dda-988c-4dab-88ec-ba013d6c0205",
   "metadata": {},
   "outputs": [
    {
     "name": "stdout",
     "output_type": "stream",
     "text": [
      "tuple[0]\n",
      "tuple[1]\n",
      "tuple[2]\n"
     ]
    }
   ],
   "source": [
    "for i in range(0,len(tuple2)) :\n",
    "    print(tuple[i])"
   ]
  },
  {
   "cell_type": "code",
   "execution_count": 6,
   "id": "b8f984d9-eb3e-4eca-af1c-a9b263fdd1a2",
   "metadata": {},
   "outputs": [
    {
     "data": {
      "text/plain": [
       "(1, '홍길동', {'name': '이순신'})"
      ]
     },
     "execution_count": 6,
     "metadata": {},
     "output_type": "execute_result"
    }
   ],
   "source": [
    "tuple2 = (1,\"홍길동\",{\"name\": \"이순신\"})\n",
    "tuple2"
   ]
  },
  {
   "cell_type": "code",
   "execution_count": 7,
   "id": "1b689c54-662a-4179-8d42-f1eab70a1650",
   "metadata": {},
   "outputs": [
    {
     "data": {
      "text/plain": [
       "(1, 2, 3)"
      ]
     },
     "execution_count": 7,
     "metadata": {},
     "output_type": "execute_result"
    }
   ],
   "source": [
    "a = 1 \n",
    "b = 2\n",
    "c = 3\n",
    "a,b,c"
   ]
  },
  {
   "cell_type": "code",
   "execution_count": 8,
   "id": "460e4d5d-9a3f-4b9d-94a1-a4516e7e035a",
   "metadata": {},
   "outputs": [
    {
     "ename": "TypeError",
     "evalue": "'tuple' object does not support item assignment",
     "output_type": "error",
     "traceback": [
      "\u001b[1;31m---------------------------------------------------------------------------\u001b[0m",
      "\u001b[1;31mTypeError\u001b[0m                                 Traceback (most recent call last)",
      "Cell \u001b[1;32mIn[8], line 1\u001b[0m\n\u001b[1;32m----> 1\u001b[0m \u001b[43mtuple2\u001b[49m\u001b[43m[\u001b[49m\u001b[38;5;241;43m0\u001b[39;49m\u001b[43m]\u001b[49m \u001b[38;5;241m=\u001b[39m \u001b[38;5;241m66\u001b[39m\n\u001b[0;32m      2\u001b[0m tuple2\n",
      "\u001b[1;31mTypeError\u001b[0m: 'tuple' object does not support item assignment"
     ]
    }
   ],
   "source": [
    "tuple2[0] = 66\n",
    "tuple2"
   ]
  },
  {
   "cell_type": "code",
   "execution_count": null,
   "id": "9dc69fa7-b812-42b9-bcc1-7255562645bd",
   "metadata": {},
   "outputs": [],
   "source": []
  },
  {
   "cell_type": "code",
   "execution_count": null,
   "id": "00f47563-2b5b-4f05-bad3-ad30d01108b9",
   "metadata": {},
   "outputs": [],
   "source": []
  },
  {
   "cell_type": "code",
   "execution_count": null,
   "id": "ccce8303-f920-4048-b95b-fb64fdf642e4",
   "metadata": {},
   "outputs": [],
   "source": []
  }
 ],
 "metadata": {
  "kernelspec": {
   "display_name": "bk_base_202503_kernel",
   "language": "python",
   "name": "bk_base_202503"
  },
  "language_info": {
   "codemirror_mode": {
    "name": "ipython",
    "version": 3
   },
   "file_extension": ".py",
   "mimetype": "text/x-python",
   "name": "python",
   "nbconvert_exporter": "python",
   "pygments_lexer": "ipython3",
   "version": "3.9.21"
  }
 },
 "nbformat": 4,
 "nbformat_minor": 5
}
