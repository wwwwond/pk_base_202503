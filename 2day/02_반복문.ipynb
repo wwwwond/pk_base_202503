{
 "cells": [
  {
   "cell_type": "code",
   "execution_count": null,
   "id": "a84bce1d-7222-47d7-bd2a-b88fbccbf18e",
   "metadata": {},
   "outputs": [],
   "source": [
    "\"\"\"\n",
    "<반복문 종류>\n",
    " - 반복에 대한 패턴을 작성하면 됩니다.\n",
    "   --> 반복을 수행 할 때마다 어떤 코드를 처리할 것인지는 그때 그때 달라짐\n",
    "   --> 반복문에서 for문을 가장 많이 사용함\n",
    "   --> 반복문은 동일한 구조에 값만 변경하면서 몇 차례에 걸쳐서 처리하고자 할 때 사용\n",
    " - for문\n",
    " - while문 \n",
    "\"\"\""
   ]
  },
  {
   "cell_type": "code",
   "execution_count": 4,
   "id": "a219134e-83de-4cce-babf-00b77d1d8e2b",
   "metadata": {},
   "outputs": [
    {
     "name": "stdout",
     "output_type": "stream",
     "text": [
      "55\n"
     ]
    }
   ],
   "source": [
    "### 1부터 10까지의 값을 순수하게 더하기 연산자로 더해서 \n",
    "# result 변수에 최종 결과값을 넣어서 출력해주세요\n",
    "\n",
    "result = 1+2+3+4+5+6+7+8+9+10\n",
    "print(result)"
   ]
  },
  {
   "cell_type": "code",
   "execution_count": 102,
   "id": "429a7734-de96-4366-ad07-2a95154e72ba",
   "metadata": {},
   "outputs": [
    {
     "name": "stdout",
     "output_type": "stream",
     "text": [
      "55\n"
     ]
    }
   ],
   "source": [
    "### 1부터 10까지의 값을 for문을 이용하여 합하기\n",
    "# - 패턴 찾기 : 1씩 증가되고 있음, 증가된 값을 더하고 있다\n",
    "# - 반복 패턴 : 1씩 증가하는 값을 발생시키기\n",
    "# - range(시작값, 끝 값+1, 증가값) 함수 : for문에서 반복 패턴으로 주로 사용됨\n",
    "#   --> 숫자에 대한 반복값을 만들어 냅니다.\n",
    "# - range의 실제 반복 범위는 첫 값부터 두번째값 -1까지 반복\n",
    "\n",
    "# - range(1,11,1)의 결과 값은 1부터 10까지 1씩 증가함\n",
    "# -  for temp in(,2,3,4,5,6,7,8,9,10) :\n",
    "# - 첫번째 반복값 1을 왼쪽의 임의 변수 temp에 1의 값을 저장 시킵니다(temp = 1)\n",
    "# for문을 기준으로 \n",
    "result = 0\n",
    "for temp in range(1, 11, 1) :\n",
    "    # print(temp)\n",
    "    # 반복할 구조 코드 작성\n",
    "    # temp의 값이 1씩 증가된 값으로 잘 출력되는지 확인하기\n",
    "\n",
    "    ### 1씩 더하는 처리 수행(코드 작성 부분, 구조 만들기)\n",
    "    # 누적값을 저장할 변수(result) 생성 \n",
    "    result = result + temp\n",
    "print(result)"
   ]
  },
  {
   "cell_type": "code",
   "execution_count": 16,
   "id": "d7ff5536-c33e-4397-886f-f66a6d18a322",
   "metadata": {},
   "outputs": [
    {
     "name": "stdout",
     "output_type": "stream",
     "text": [
      "25\n"
     ]
    }
   ],
   "source": [
    "total = 0\n",
    "for i in range(1, 11, 2):\n",
    "    total += i\n",
    "print(total)"
   ]
  },
  {
   "cell_type": "code",
   "execution_count": 104,
   "id": "f4595bad-31f1-49c6-8cf3-e36877c55d34",
   "metadata": {},
   "outputs": [
    {
     "name": "stdout",
     "output_type": "stream",
     "text": [
      "55\n"
     ]
    }
   ],
   "source": [
    "# for문을 기준으로 result 변수를 안에 정의할 때 :지역 변수\n",
    "# 지역변수 : 해당 영역 안에서만 사용되는 변수 \n",
    "result = 0\n",
    "for temp in range(1, 11, 1) :\n",
    "    result = result + temp\n",
    "print(result)"
   ]
  },
  {
   "cell_type": "code",
   "execution_count": 46,
   "id": "4424d5b2-83f9-42b8-baaf-b03f4bf3daf1",
   "metadata": {},
   "outputs": [
    {
     "name": "stdout",
     "output_type": "stream",
     "text": [
      "10\n"
     ]
    }
   ],
   "source": [
    "### 1부터 100까지의 숫자 범위 중에서\n",
    "# 짝수인 경우에만 합하여 최종 한번 결과값(짝수의 값) 출력\n",
    "for temp in range(1, 11, 1) :\n",
    "    result = 0\n",
    "    result = result + temp\n",
    "print(result) #마지막 값"
   ]
  },
  {
   "cell_type": "code",
   "execution_count": 45,
   "id": "53bc7a05-c1bb-4dd8-a606-199c82bc6889",
   "metadata": {},
   "outputs": [
    {
     "name": "stdout",
     "output_type": "stream",
     "text": [
      "2550\n"
     ]
    }
   ],
   "source": [
    "result = 0\n",
    "for temp in range(1, 101, 1) :\n",
    "    if temp % 2 == 0 :\n",
    "        result = result + temp\n",
    "print(result) "
   ]
  },
  {
   "cell_type": "code",
   "execution_count": 44,
   "id": "73a18ec0-53fc-4c78-a4f7-48ca18b87938",
   "metadata": {},
   "outputs": [
    {
     "name": "stdout",
     "output_type": "stream",
     "text": [
      "2550\n"
     ]
    }
   ],
   "source": [
    "result = 0\n",
    "for temp in range(2, 101, 2) :\n",
    "    result = result + temp\n",
    "print(result) "
   ]
  },
  {
   "cell_type": "code",
   "execution_count": 95,
   "id": "4ad0f0fb-b2db-44ef-bc00-b102c5ce552d",
   "metadata": {},
   "outputs": [
    {
     "name": "stdout",
     "output_type": "stream",
     "text": [
      "2024년 12월\n"
     ]
    }
   ],
   "source": [
    "### 2010년부터 2024년까지의 범위 \n",
    "# 매년 1월부터 12dnjf까지 있다고 가정\n",
    "# \"2010년 1월\", \"2010년 2월\" 이라고 출력\n",
    "\n",
    "#전체 반복 횟수 = 15 * 12 = 180번 반복 수행\n",
    "result = 0\n",
    "for temp in range(2010, 2025, 1) : # 2010~2024까지 출력 , 15 반복\n",
    "    for mon in range(1, 13, 1) : # 1월부터 12월까지 출력 , 12 반복\n",
    "        result = result + temp\n",
    "print(f\"{temp}년 {mon}월\") "
   ]
  },
  {
   "cell_type": "code",
   "execution_count": 69,
   "id": "5057c796-08b0-4d76-a673-f48edfbd9f60",
   "metadata": {},
   "outputs": [],
   "source": [
    "### 위에 코드에 추가로 1일부터 31일까지 포함해서 출력하기 \n",
    "# ex)_2010-01-01"
   ]
  },
  {
   "cell_type": "code",
   "execution_count": 96,
   "id": "248e13c8-c3f2-48b7-b37a-9b4cd40dbba8",
   "metadata": {},
   "outputs": [
    {
     "ename": "IndentationError",
     "evalue": "expected an indented block (3812906558.py, line 6)",
     "output_type": "error",
     "traceback": [
      "\u001b[1;36m  Cell \u001b[1;32mIn[96], line 6\u001b[1;36m\u001b[0m\n\u001b[1;33m    print(f\"{temp}-{mon}-{day}\")\u001b[0m\n\u001b[1;37m                                 ^\u001b[0m\n\u001b[1;31mIndentationError\u001b[0m\u001b[1;31m:\u001b[0m expected an indented block\n"
     ]
    }
   ],
   "source": [
    "# 다중포문\n",
    "result = 0\n",
    "for temp in range(2010, 2025, 1) : # 2010~2024까지 출력 , 15 반복\n",
    "    for mon in range(1, 13, 1) : # 1월부터 12월까지 출력 , 12 반복\n",
    "        for day in range(1, 32, 1) : # 1일부터 31일까지 출력, 31번 반복\n",
    "print(f\"{temp}-{mon}-{day}\") # 들여쓰기 해야함 안보여서 일단 이렇게 설정"
   ]
  },
  {
   "cell_type": "code",
   "execution_count": 75,
   "id": "10b135b4-7178-4f52-962b-fd255767a769",
   "metadata": {},
   "outputs": [
    {
     "name": "stdout",
     "output_type": "stream",
     "text": [
      "01 001\n"
     ]
    }
   ],
   "source": [
    "### 자릿수 맞추는 문자열 함수 : zfill(자릿수)\n",
    "# - zero fill : 0으로 채우는 함수(왼쪽부터 채웁니다.)\n",
    "# - 처리하고자 하는 값의 타입이 문자열인 경우에만 가능\n",
    "# - 그래서 문자열 함수\n",
    "a = \"1\"\n",
    "b = a.zfill(2)\n",
    "c = a.zfill(3)\n",
    "print(b,c)"
   ]
  },
  {
   "cell_type": "code",
   "execution_count": 101,
   "id": "459fa9f1-d3c9-4615-9b7b-a8d1819cae3b",
   "metadata": {},
   "outputs": [
    {
     "ename": "IndentationError",
     "evalue": "expected an indented block (2279968998.py, line 4)",
     "output_type": "error",
     "traceback": [
      "\u001b[1;36m  Cell \u001b[1;32mIn[101], line 4\u001b[1;36m\u001b[0m\n\u001b[1;33m    print(f\"{temp}-{str(mon).zfill(2)}-{str(day).zfill(2)}\")\u001b[0m\n\u001b[1;37m                                                            ^\u001b[0m\n\u001b[1;31mIndentationError\u001b[0m\u001b[1;31m:\u001b[0m expected an indented block\n"
     ]
    }
   ],
   "source": [
    "for temp in range(2010, 2025, 1) : # 2010~2024까지 출력 , 15 반복\n",
    "    for mon in range(1, 13, 1) : # 1월부터 12월까지 출력 , 12 반복\n",
    "        for day in range(1, 32, 1) : # 1일부터 31일까지 출력, 31번 반복\n",
    "print(f\"{temp}-{str(mon).zfill(2)}-{str(day).zfill(2)}\")  # 들여쓰기 해야함 안보여서 일단 이렇게 설정"
   ]
  },
  {
   "cell_type": "code",
   "execution_count": 105,
   "id": "103d382b-05f5-4005-b084-4ccc8312d928",
   "metadata": {},
   "outputs": [
    {
     "ename": "IndentationError",
     "evalue": "expected an indented block (432950680.py, line 5)",
     "output_type": "error",
     "traceback": [
      "\u001b[1;36m  Cell \u001b[1;32mIn[105], line 5\u001b[1;36m\u001b[0m\n\u001b[1;33m    print(f\"{temp}-{str(mon).zfill(2)}-{str(day).zfill(2)}\")  # 들여쓰기 해야함 안보여서 일단 이렇게 설정\u001b[0m\n\u001b[1;37m                                                                                       ^\u001b[0m\n\u001b[1;31mIndentationError\u001b[0m\u001b[1;31m:\u001b[0m expected an indented block\n"
     ]
    }
   ],
   "source": [
    "# 짝수년도만 출력\n",
    "for temp in range(2010, 2025, 2) : # 2010~2024까지 출력 , 15 반복\n",
    "    for mon in range(1, 13, 1) : # 1월부터 12월까지 출력 , 12 반복\n",
    "        for day in range(1, 32, 1) : # 1일부터 31일까지 출력, 31번 반복\n",
    "print(f\"{temp}-{str(mon).zfill(2)}-{str(day).zfill(2)}\")  # 들여쓰기 해야함 안보여서 일단 이렇게 설정"
   ]
  },
  {
   "cell_type": "code",
   "execution_count": 130,
   "id": "5f91bee9-bf6d-49f1-aeed-e6338aa62300",
   "metadata": {},
   "outputs": [
    {
     "ename": "IndentationError",
     "evalue": "expected an indented block (3897645680.py, line 5)",
     "output_type": "error",
     "traceback": [
      "\u001b[1;36m  Cell \u001b[1;32mIn[130], line 5\u001b[1;36m\u001b[0m\n\u001b[1;33m    print(f\"{temp}-{str(mon).zfill(2)}-{str(day).zfill(2)}\")  # 들여쓰기 해야함 안보여서 일단 이렇게 설정\u001b[0m\n\u001b[1;37m                                                                                       ^\u001b[0m\n\u001b[1;31mIndentationError\u001b[0m\u001b[1;31m:\u001b[0m expected an indented block\n"
     ]
    }
   ],
   "source": [
    "for temp in range(2010, 2025, 2) : # 2010~2024까지 출력 , 15 반복\n",
    "    if temp % 2 == 0 :\n",
    "        for mon in range(1, 13, 1) : # 1월부터 12월까지 출력 , 12 반복\n",
    "            for day in range(1, 32, 1) : # 1일부터 31일까지 출력, 31번 반복\n",
    "print(f\"{temp}-{str(mon).zfill(2)}-{str(day).zfill(2)}\")  # 들여쓰기 해야함 안보여서 일단 이렇게 설정"
   ]
  },
  {
   "cell_type": "code",
   "execution_count": 113,
   "id": "370867a9-5eda-4296-80a5-948bc62adf75",
   "metadata": {},
   "outputs": [
    {
     "ename": "IndentationError",
     "evalue": "expected an indented block (4271571365.py, line 10)",
     "output_type": "error",
     "traceback": [
      "\u001b[1;36m  Cell \u001b[1;32mIn[113], line 10\u001b[1;36m\u001b[0m\n\u001b[1;33m    print(f\"{i}x{(o)}={i*o}\") # 들여쓰기 해야함 안보여서 일단 이렇게 설정\u001b[0m\n\u001b[1;37m                                                       ^\u001b[0m\n\u001b[1;31mIndentationError\u001b[0m\u001b[1;31m:\u001b[0m expected an indented block\n"
     ]
    }
   ],
   "source": [
    "### 구구단 \n",
    "# 2단~ 9단까지\n",
    "# 아래와 같이 출력하기\n",
    "# 2 X 1 = 2\n",
    "# 9 X 9 = 81\n",
    "for i in range(2, 10, 1) :\n",
    "    print(f\"{i}단입니다.\")\n",
    "    \n",
    "    for o in range(1,10,1) :\n",
    "print(f\"{i}x{(o)}={i*o}\") # 들여쓰기 해야함 안보여서 일단 이렇게 설정"
   ]
  },
  {
   "cell_type": "code",
   "execution_count": 125,
   "id": "0fcc9036-24cc-4cfc-b259-72c3b451f6d1",
   "metadata": {},
   "outputs": [
    {
     "name": "stdout",
     "output_type": "stream",
     "text": [
      "3단입니다.\n",
      "3x1=3\n",
      "3x2=6\n",
      "3x3=9\n",
      "3x4=12\n",
      "3x5=15\n",
      "3x6=18\n",
      "3x7=21\n",
      "3x8=24\n",
      "3x9=27\n"
     ]
    }
   ],
   "source": [
    "### 임의 변수(검색할 단) search_i을 생성\n",
    "# 변수에 2~9단까지의 값 중 임의 값 1개를 변수에 넣으면 \n",
    "# --> 해당 단에대해서만 출력되도록 아래 코드를 수정 처리\n",
    "search_i = 3\n",
    "\n",
    "for i in range(2, 10, 1) :\n",
    "    if i == search_i :\n",
    "        print(f\"{i}단입니다.\")\n",
    "    \n",
    "        for o in range(1,10,1) :\n",
    "            print(f\"{i}x{(o)}={i*o}\")"
   ]
  },
  {
   "cell_type": "code",
   "execution_count": 126,
   "id": "22896bdb-43c9-4697-adfa-bcdba0a21e14",
   "metadata": {},
   "outputs": [
    {
     "name": "stdout",
     "output_type": "stream",
     "text": [
      "3단입니다.\n",
      "3x1=3\n",
      "3x2=6\n",
      "3x3=9\n",
      "3x4=12\n",
      "3x5=15\n",
      "3x6=18\n",
      "3x7=21\n",
      "3x8=24\n",
      "3x9=27\n"
     ]
    }
   ],
   "source": [
    "search_i = 3\n",
    "\n",
    "for i in range(search_i, search_i+1, 1) :\n",
    "    print(f\"{i}단입니다.\")\n",
    "\n",
    "    for o in range(1,10,1) :\n",
    "        print(f\"{i}x{(o)}={i*o}\")"
   ]
  },
  {
   "cell_type": "markdown",
   "id": "8cb8860c-6e81-4a31-a286-4b6867220414",
   "metadata": {},
   "source": [
    "### while문"
   ]
  },
  {
   "cell_type": "code",
   "execution_count": 129,
   "id": "71ff34ce-a540-4e23-8d33-95e058548091",
   "metadata": {},
   "outputs": [
    {
     "data": {
      "text/plain": [
       "'\\n<while문>\\n - for문으로 가능한 것들은 모두 while문으로 가능함(반대로도 가능)\\n - while문은 주로 무한 반복 시에 사용됩니다.\\n  -- 무한반복을 하는 경우에는 while문 내에 반복을 종료하는 조건을 반드시 추가해야 합니다.\\n  -- 종료 방법 : 조건(if) 처리\\n  -- 종료 옵션 : break 사용\\n'"
      ]
     },
     "execution_count": 129,
     "metadata": {},
     "output_type": "execute_result"
    }
   ],
   "source": [
    "\"\"\"\n",
    "<while문>\n",
    " - for문으로 가능한 것들은 모두 while문으로 가능함(반대로도 가능)\n",
    " - while문은 주로 무한 반복 시에 사용됩니다.\n",
    "  -- 무한반복을 하는 경우에는 while문 내에 반복을 종료하는 조건을 반드시 추가해야 합니다.\n",
    "  -- 종료 방법 : 조건(if) 처리\n",
    "  -- 종료 옵션 : break 사용 -> break가 있는 시점부터는 더 이상 수행없이, 반복을 완전히 종료시킴\n",
    "\n",
    " - while 문법 아래와 같음\n",
    "   while 반복할 조건 :\n",
    "      처리할 코드 작성\n",
    "\"\"\""
   ]
  },
  {
   "cell_type": "code",
   "execution_count": 1,
   "id": "de0807d1-1c48-4d11-a4cb-7faed6a5481f",
   "metadata": {},
   "outputs": [
    {
     "name": "stdout",
     "output_type": "stream",
     "text": [
      "1\n",
      "2\n",
      "3\n",
      "4\n",
      "5\n",
      "6\n",
      "7\n",
      "8\n",
      "9\n",
      "10\n"
     ]
    }
   ],
   "source": [
    "# 1부터 10까지 for문으로 처리\n",
    "# for i in range(1, 11, 1) :\n",
    "#     print(i)\n",
    "# 1부터 10까지 while문으로 처리\n",
    "start = 1 # 시작값 변수\n",
    "end = 10 # 끝값 변수\n",
    "while start <= end :\n",
    "    print(start)\n",
    "    ### 시작값을 1증가 시키기\n",
    "    start += 1"
   ]
  },
  {
   "cell_type": "code",
   "execution_count": 24,
   "id": "4a2dcff0-8cee-4bde-9885-cb469da7a3e2",
   "metadata": {},
   "outputs": [
    {
     "name": "stdout",
     "output_type": "stream",
     "text": [
      "1\n"
     ]
    }
   ],
   "source": [
    "# 1부터 10까지 for문으로 처리\n",
    "# - 시작값이 짝수가 나오는 순간 출력하지 말고, \n",
    "#  반복을 완전히 종료\n",
    "# for i in range(1, 11, 1) :\n",
    "#     print(i)\n",
    "# 1부터 10까지 while문으로 처리\n",
    "start = 1 # 시작값 변수\n",
    "end = 10 # 끝값 변수\n",
    "while start <= end :\n",
    "    if start % 2 == 0 :\n",
    "        break \n",
    "        \n",
    "    print(start)\n",
    "    ### 시작값을 1증가 시키기\n",
    "    start = start + 1"
   ]
  },
  {
   "cell_type": "code",
   "execution_count": 40,
   "id": "84e1931a-9b20-4727-ae3f-15705c3920c9",
   "metadata": {},
   "outputs": [
    {
     "name": "stdout",
     "output_type": "stream",
     "text": [
      "55\n"
     ]
    }
   ],
   "source": [
    "### 1부터 10까지의 총합을 while문을 이용하여 처리하기\n",
    "# 최종 총합은 while이 종료된 이후 한 번만 출력하여 \n",
    "start = 1  # 시작값 변수\n",
    "end = 10   # 끝값 변수\n",
    "total_sum = 0 \n",
    "\n",
    "while start <= end:\n",
    "    total_sum += start\n",
    "    start += 1 \n",
    "\n",
    "print(total_sum)"
   ]
  },
  {
   "cell_type": "code",
   "execution_count": 70,
   "id": "8aebf3ad-f3e8-448a-a54a-3b4795227192",
   "metadata": {},
   "outputs": [
    {
     "name": "stdout",
     "output_type": "stream",
     "text": [
      "55\n"
     ]
    }
   ],
   "source": [
    "### 무한루프 만들기 : 무한 반복\n",
    "### 1부터 10까지의 합을 출력\n",
    "# while True :\n",
    "  # 무한반복을 종료할 수 있는 조건이 반드시 있어야 함\n",
    "  # if 조건 : \n",
    "      # break\n",
    "# while 1 : \n",
    "start = 1 \n",
    "total_sum = 0\n",
    "\n",
    "while True :\n",
    "    total_sum += start  \n",
    "    start += 1    \n",
    "    if start > 10 : \n",
    "        break\n",
    "print(total_sum)"
   ]
  },
  {
   "cell_type": "code",
   "execution_count": 104,
   "id": "5e01f91e-57f6-4fde-baa0-3db506615642",
   "metadata": {},
   "outputs": [
    {
     "name": "stdout",
     "output_type": "stream",
     "text": [
      "10x10=9\n"
     ]
    }
   ],
   "source": [
    "start = 1\n",
    "end = 9\n",
    "total_sum = 0 \n",
    "\n",
    "while True :\n",
    "    total_sum += start  \n",
    "    start += 1    \n",
    "    if start > 9: \n",
    "        break\n",
    "print(f\"{start}x{(start)}={tot}\")"
   ]
  },
  {
   "cell_type": "code",
   "execution_count": 112,
   "id": "1023eb6b-5955-4173-8f90-ddd44e157f1e",
   "metadata": {},
   "outputs": [
    {
     "name": "stdout",
     "output_type": "stream",
     "text": [
      "2단 시작\n",
      "2 x 1 = 2\n",
      "2 x 2 = 4\n",
      "2 x 3 = 6\n",
      "2 x 4 = 8\n",
      "2 x 5 = 10\n",
      "2 x 6 = 12\n",
      "2 x 7 = 14\n",
      "2 x 8 = 16\n",
      "2 x 9 = 18\n",
      "\n",
      "3단 시작\n",
      "3 x 1 = 3\n",
      "3 x 2 = 6\n",
      "3 x 3 = 9\n",
      "3 x 4 = 12\n",
      "3 x 5 = 15\n",
      "3 x 6 = 18\n",
      "3 x 7 = 21\n",
      "3 x 8 = 24\n",
      "3 x 9 = 27\n",
      "\n",
      "4단 시작\n",
      "4 x 1 = 4\n",
      "4 x 2 = 8\n",
      "4 x 3 = 12\n",
      "4 x 4 = 16\n",
      "4 x 5 = 20\n",
      "4 x 6 = 24\n",
      "4 x 7 = 28\n",
      "4 x 8 = 32\n",
      "4 x 9 = 36\n",
      "\n",
      "5단 시작\n",
      "5 x 1 = 5\n",
      "5 x 2 = 10\n",
      "5 x 3 = 15\n",
      "5 x 4 = 20\n",
      "5 x 5 = 25\n",
      "5 x 6 = 30\n",
      "5 x 7 = 35\n",
      "5 x 8 = 40\n",
      "5 x 9 = 45\n",
      "\n",
      "6단 시작\n",
      "6 x 1 = 6\n",
      "6 x 2 = 12\n",
      "6 x 3 = 18\n",
      "6 x 4 = 24\n",
      "6 x 5 = 30\n",
      "6 x 6 = 36\n",
      "6 x 7 = 42\n",
      "6 x 8 = 48\n",
      "6 x 9 = 54\n",
      "\n",
      "7단 시작\n",
      "7 x 1 = 7\n",
      "7 x 2 = 14\n",
      "7 x 3 = 21\n",
      "7 x 4 = 28\n",
      "7 x 5 = 35\n",
      "7 x 6 = 42\n",
      "7 x 7 = 49\n",
      "7 x 8 = 56\n",
      "7 x 9 = 63\n",
      "\n",
      "8단 시작\n",
      "8 x 1 = 8\n",
      "8 x 2 = 16\n",
      "8 x 3 = 24\n",
      "8 x 4 = 32\n",
      "8 x 5 = 40\n",
      "8 x 6 = 48\n",
      "8 x 7 = 56\n",
      "8 x 8 = 64\n",
      "8 x 9 = 72\n",
      "\n",
      "9단 시작\n",
      "9 x 1 = 9\n",
      "9 x 2 = 18\n",
      "9 x 3 = 27\n",
      "9 x 4 = 36\n",
      "9 x 5 = 45\n",
      "9 x 6 = 54\n",
      "9 x 7 = 63\n",
      "9 x 8 = 72\n",
      "9 x 9 = 81\n",
      "\n"
     ]
    }
   ],
   "source": [
    "start = 2\n",
    "\n",
    "while start <= 9:\n",
    "    print(f\"{start}단 시작\")\n",
    "    num = 1\n",
    "    while num <= 9:\n",
    "        result = start * num\n",
    "        print(f\"{start} x {num} = {result}\")\n",
    "        num += 1\n",
    "    print()\n",
    "    start += 1"
   ]
  },
  {
   "cell_type": "code",
   "execution_count": null,
   "id": "b29b3981-bd2a-4310-9d8a-48c23eceff70",
   "metadata": {},
   "outputs": [],
   "source": []
  },
  {
   "cell_type": "code",
   "execution_count": null,
   "id": "142b9cac-198b-42e5-9a12-fb34249e5b23",
   "metadata": {},
   "outputs": [],
   "source": []
  },
  {
   "cell_type": "code",
   "execution_count": null,
   "id": "0caf3240-0575-4a15-9410-12acf269d281",
   "metadata": {},
   "outputs": [],
   "source": []
  },
  {
   "cell_type": "code",
   "execution_count": null,
   "id": "987d493b-33e4-476f-8475-838ac6b2f1ad",
   "metadata": {},
   "outputs": [],
   "source": []
  },
  {
   "cell_type": "code",
   "execution_count": null,
   "id": "0d80d28b-19e5-4af5-beab-4a7e06cb0fef",
   "metadata": {},
   "outputs": [],
   "source": []
  },
  {
   "cell_type": "code",
   "execution_count": null,
   "id": "9acd0124-297a-43dc-882f-d968ddca63c0",
   "metadata": {},
   "outputs": [],
   "source": []
  },
  {
   "cell_type": "code",
   "execution_count": null,
   "id": "cba4f6af-d6f5-48d8-8113-91cc7a10795d",
   "metadata": {},
   "outputs": [],
   "source": []
  }
 ],
 "metadata": {
  "kernelspec": {
   "display_name": "bk_base_202503_kernel",
   "language": "python",
   "name": "bk_base_202503"
  },
  "language_info": {
   "codemirror_mode": {
    "name": "ipython",
    "version": 3
   },
   "file_extension": ".py",
   "mimetype": "text/x-python",
   "name": "python",
   "nbconvert_exporter": "python",
   "pygments_lexer": "ipython3",
   "version": "3.9.21"
  }
 },
 "nbformat": 4,
 "nbformat_minor": 5
}
