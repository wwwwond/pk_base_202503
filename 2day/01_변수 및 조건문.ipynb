{
 "cells": [
  {
   "cell_type": "markdown",
   "id": "e6151eae-d160-4e8d-834e-d9fed7e2b2d7",
   "metadata": {},
   "source": [
    "### 변수 타입 확인하기"
   ]
  },
  {
   "cell_type": "code",
   "execution_count": 1,
   "id": "c9bf76cd-7d48-4de2-9a0f-c929195dffc8",
   "metadata": {},
   "outputs": [],
   "source": [
    "a = 1\n",
    "b = \"2\""
   ]
  },
  {
   "cell_type": "code",
   "execution_count": 2,
   "id": "c851e328-4fde-484a-bd70-b4e778a4eef9",
   "metadata": {},
   "outputs": [],
   "source": [
    "### a 와 b를 더해주세요.."
   ]
  },
  {
   "cell_type": "code",
   "execution_count": 7,
   "id": "e5d277de-340a-403f-8140-ee362a6ef413",
   "metadata": {},
   "outputs": [
    {
     "data": {
      "text/plain": [
       "(int, str)"
      ]
     },
     "execution_count": 7,
     "metadata": {},
     "output_type": "execute_result"
    }
   ],
   "source": [
    "type(a), type(b)"
   ]
  },
  {
   "cell_type": "code",
   "execution_count": 9,
   "id": "a34bc896-5698-4313-a6e9-7dc0810edad7",
   "metadata": {},
   "outputs": [],
   "source": [
    "### 타입 변환하기 (형변환)\n",
    "c = int(b)"
   ]
  },
  {
   "cell_type": "code",
   "execution_count": 10,
   "id": "f45f418a-9261-4ba9-a646-7f0789534865",
   "metadata": {},
   "outputs": [
    {
     "data": {
      "text/plain": [
       "int"
      ]
     },
     "execution_count": 10,
     "metadata": {},
     "output_type": "execute_result"
    }
   ],
   "source": [
    "type(c)"
   ]
  },
  {
   "cell_type": "code",
   "execution_count": 11,
   "id": "3592ad3b-b20b-42a2-8301-11a607944e0c",
   "metadata": {},
   "outputs": [
    {
     "data": {
      "text/plain": [
       "3"
      ]
     },
     "execution_count": 11,
     "metadata": {},
     "output_type": "execute_result"
    }
   ],
   "source": [
    "a + c"
   ]
  },
  {
   "cell_type": "code",
   "execution_count": 12,
   "id": "0027514d-42ee-48dc-be30-c64956301bec",
   "metadata": {},
   "outputs": [
    {
     "data": {
      "text/plain": [
       "3"
      ]
     },
     "execution_count": 12,
     "metadata": {},
     "output_type": "execute_result"
    }
   ],
   "source": [
    "a + int(b) "
   ]
  },
  {
   "cell_type": "code",
   "execution_count": 13,
   "id": "0ab9ecdf-6b4d-4f36-8a9c-22466d4a78df",
   "metadata": {},
   "outputs": [
    {
     "data": {
      "text/plain": [
       "'12'"
      ]
     },
     "execution_count": 13,
     "metadata": {},
     "output_type": "execute_result"
    }
   ],
   "source": [
    "str(a) + b"
   ]
  },
  {
   "cell_type": "code",
   "execution_count": 25,
   "id": "1e897f3a-b3a6-4742-8ef8-04df6e7e58d6",
   "metadata": {},
   "outputs": [],
   "source": [
    "### 변수명 규칙 \n",
    "# - 변수명은 영문과 특수문자, 숫자 등의 조합으로 만듭니다.\n",
    "# - 가급적 영문명으로\n",
    "# - 필요시 특수문자를 사용하여 영문명 연결하여 사용(abc_add)\n",
    "# - 숫자로 변수명의 뒤에 사용(abc_111)\n",
    "# - (숫자로 변수명 시작 못함)\n",
    "# - ** 제일 중요 : 변수명은 값이 아님(임의로 변수명을 값처럼 만들어 낼 수 없음)"
   ]
  },
  {
   "cell_type": "markdown",
   "id": "d16bbd53-e6bd-4893-b995-ea0ca773732f",
   "metadata": {},
   "source": [
    "### 산술연산자"
   ]
  },
  {
   "cell_type": "code",
   "execution_count": null,
   "id": "20d74092-96b4-44a6-8e8e-86fd5c9f2df1",
   "metadata": {},
   "outputs": [],
   "source": [
    "\"\"\"\n",
    " * 보통 숫자를 이용한 연산을 수행합니다 \n",
    "  - 간혹, 문자열간의 더하기 또는 곱하기 연산을 수행하는 경우도 있음\n",
    " * 연산자 기호 : +, -, *, /, %, //, **, ++, --\n",
    "               : 주로 사용하는 기호는 +, -, *, /, %, ++\n",
    " * % : 나눈 나머지의 값 (홀/짝을 체크할 때 주로 사용)\n",
    " * // : 나눈 목의 값 \n",
    " * ** : 거듭제곱(^)\n",
    "\"\"\""
   ]
  },
  {
   "cell_type": "code",
   "execution_count": null,
   "id": "f6ccb42e-1c7e-44d5-8688-4779b25fd3ee",
   "metadata": {},
   "outputs": [],
   "source": [
    "### 짝수 홀수 출력하기 \n",
    "#  - 아래 a의 값이 짝수이면 \"짝수입니다.\"\n",
    "#                  홀수이면 \"홀수입니다.\"\"\n",
    "a = 10"
   ]
  },
  {
   "cell_type": "code",
   "execution_count": 14,
   "id": "a4948431-eb1c-4c97-98d6-e2d11c91ba37",
   "metadata": {},
   "outputs": [
    {
     "name": "stdout",
     "output_type": "stream",
     "text": [
      "짝수입니다.\n"
     ]
    }
   ],
   "source": [
    "if a % 2 :\n",
    "    print(\"짝수입니다.\")\n",
    "else :\n",
    "    print(\"홀수입니다.\")"
   ]
  },
  {
   "cell_type": "code",
   "execution_count": 15,
   "id": "92aa6571-5861-448e-9975-fcd9eed34700",
   "metadata": {},
   "outputs": [
    {
     "data": {
      "text/plain": [
       "'abc'"
      ]
     },
     "execution_count": 15,
     "metadata": {},
     "output_type": "execute_result"
    }
   ],
   "source": [
    "### 문자열 연산자\n",
    "a_str = \"abc\"\n",
    "a_str"
   ]
  },
  {
   "cell_type": "code",
   "execution_count": 16,
   "id": "696264fc-dfd5-4b6f-aa17-58dfdd64ddf5",
   "metadata": {},
   "outputs": [
    {
     "data": {
      "text/plain": [
       "'abcabc'"
      ]
     },
     "execution_count": 16,
     "metadata": {},
     "output_type": "execute_result"
    }
   ],
   "source": [
    "a_str + a_str"
   ]
  },
  {
   "cell_type": "code",
   "execution_count": 22,
   "id": "318ded09-1996-4e7e-a633-d9d3fb95049d",
   "metadata": {},
   "outputs": [
    {
     "data": {
      "text/plain": [
       "'abcabcabcabcabcabcabcabcabcabc'"
      ]
     },
     "execution_count": 22,
     "metadata": {},
     "output_type": "execute_result"
    }
   ],
   "source": [
    "# abc 라는 문자열을 연속해서 10번 출력\n",
    "a_str * 10"
   ]
  },
  {
   "cell_type": "code",
   "execution_count": null,
   "id": "36775b27-5499-4ff4-8ab3-39efabb33bc7",
   "metadata": {},
   "outputs": [],
   "source": []
  },
  {
   "cell_type": "markdown",
   "id": "f0a45919-782a-4c7e-b2e0-9a08adf53305",
   "metadata": {},
   "source": [
    "### 조건문"
   ]
  },
  {
   "cell_type": "code",
   "execution_count": 26,
   "id": "6ac9cb7d-78f1-4417-8161-1e566d8e9375",
   "metadata": {},
   "outputs": [
    {
     "data": {
      "text/plain": [
       "' \\n * 임의 변수명(age)에 50이라는 값을 저장\\n  - age 변수명의 의미는 나이를 의미합니다.\\n  - 임의 변수명에 있는 값이 20세 미만이면 \" 청소년 입니다\"\\n                                 이상이면 \" 성인입니다.\\n'"
      ]
     },
     "execution_count": 26,
     "metadata": {},
     "output_type": "execute_result"
    }
   ],
   "source": [
    "\"\"\" \n",
    " * 임의 변수명(age)에 50이라는 값을 저장\n",
    "  - age 변수명의 의미는 나이를 의미합니다.\n",
    "  - 임의 변수명에 있는 값이 20세 미만이면 \" 청소년 입니다\"\n",
    "                                20세 이상이면서 60세 이하면 \"일반인 입니다.\"\n",
    "                                 60세를 초과하면 \"실버입니다\" \n",
    "\"\"\""
   ]
  },
  {
   "cell_type": "code",
   "execution_count": 31,
   "id": "6f685266-ba57-4d19-b75a-e4ddd5e171a5",
   "metadata": {},
   "outputs": [
    {
     "name": "stdout",
     "output_type": "stream",
     "text": [
      "일반인 입니다.\n"
     ]
    }
   ],
   "source": [
    "age=50\n",
    "if age < 20 : \n",
    "    print(\"청소년 입니다\")\n",
    "elif (age >= 20) and (age <= 60) :\n",
    "    print(\"일반인 입니다.\")\n",
    "elif age > 60 :\n",
    "    print(\"실버입니다\" )"
   ]
  },
  {
   "cell_type": "code",
   "execution_count": 32,
   "id": "edc59d44-4463-4201-aa52-c69bf5a13dd5",
   "metadata": {},
   "outputs": [
    {
     "name": "stdout",
     "output_type": "stream",
     "text": [
      "일반인 입니다.\n"
     ]
    }
   ],
   "source": [
    "age=50\n",
    "if age < 20 : \n",
    "    print(\"청소년 입니다\")\n",
    "elif age <= 60 :\n",
    "    print(\"일반인 입니다.\")\n",
    "else :\n",
    "    print(\"실버입니다\" )"
   ]
  },
  {
   "cell_type": "code",
   "execution_count": null,
   "id": "29f1a29f-f446-477b-bde1-c3c17212225f",
   "metadata": {},
   "outputs": [],
   "source": [
    "### 위 문제를 그대로 사용해서 출력결과만 처리하기 \n",
    "  # - 임의 변수명에 있는 값이 20세 미만이면 \"00살 청소년 입니다\"\n",
    "  #                           20세 이상이면서 60세 이하면 \"00살 일반인 입니다.\"\n",
    "  #                           # 60세를 초과하면 \"00살 실버입니다\" \n",
    "  # - 00살은 -> 변수에 저장된 값을 사용"
   ]
  },
  {
   "cell_type": "code",
   "execution_count": 47,
   "id": "127a4f4a-6418-4428-861c-a107d7fe816c",
   "metadata": {},
   "outputs": [
    {
     "name": "stdout",
     "output_type": "stream",
     "text": [
      "50 살, 일반인입니다.\n",
      "50살, 일반인입니다.\n",
      "5060살, 일반인입니다.\n",
      "50살, 일반인입니다.\n"
     ]
    }
   ],
   "source": [
    "### format(포멧) : 문자열 함수 \n",
    "# - 문자열에 변수의 값을 포함하여 사용하고자 할 때 유용함 \n",
    "\n",
    "if age < 20:\n",
    "    print(f\"{age}살, 청소년입니다.\")\n",
    "elif age <= 60:\n",
    "    print(age,\"살, 일반인입니다.\")\n",
    "    print(\"{}살, 일반인입니다.\".format(age))\n",
    "    print(\"{0}{1}살, 일반인입니다.\".format(age,60))\n",
    "    # 주로 아래 방법을 사용함\n",
    "    # f 스트링 기본 문법 {문자열 앞에 f를 붙이고, 중괄호 {} 안에 변수나 표현식을 넣습니다.}\n",
    "    # f\"{변수}문장\"\n",
    "    print(f\"{age}살, 일반인입니다.\")\n",
    "else:\n",
    "    print(f\"{age}살, 실버입니다.\")"
   ]
  },
  {
   "cell_type": "code",
   "execution_count": null,
   "id": "47a5ba42-965e-463b-89ed-8f8a1584adfc",
   "metadata": {},
   "outputs": [],
   "source": [
    "# - 출력은 if문이 완전히 종료된 후 한 번만 print() 사용하여 출력하기\n",
    "# - 출력 결과를 담을 변수를 하나 생성하여 조건에 맞는 출력결과를 저장해서\n",
    "#   if문이 완전히 종료된 후 출력결과를 출력시키기"
   ]
  },
  {
   "cell_type": "code",
   "execution_count": 49,
   "id": "2c430ddb-9f35-4468-a674-1e10ee06ccf2",
   "metadata": {},
   "outputs": [
    {
     "name": "stdout",
     "output_type": "stream",
     "text": [
      "50살, 일반인 입니다.\n"
     ]
    }
   ],
   "source": [
    "age = 50\n",
    "result = \"\" \n",
    "\n",
    "if age < 20: \n",
    "    result = f\"{age}살, 청소년 입니다.\"\n",
    "elif age <= 60:\n",
    "    result = f\"{age}살, 일반인 입니다.\"\n",
    "else:\n",
    "    result = f\"{age}살, 실버 입니다.\"\n",
    "\n",
    "print(result) "
   ]
  },
  {
   "cell_type": "code",
   "execution_count": 50,
   "id": "d55c3fa1-bee3-4fc0-9634-c649d4fd1a1d",
   "metadata": {},
   "outputs": [
    {
     "name": "stdout",
     "output_type": "stream",
     "text": [
      "50살 일반인 입니다.\n"
     ]
    }
   ],
   "source": [
    "age = 50\n",
    "message = \"\" \n",
    "\n",
    "if age < 20: \n",
    "    message = \"청소년 입니다.\"\n",
    "elif age <= 60: \n",
    "    message = \"일반인 입니다.\"\n",
    "else: \n",
    "    message = \"실버 입니다.\"\n",
    "\n",
    "print(f\"{age}살 {message}\") "
   ]
  },
  {
   "cell_type": "code",
   "execution_count": null,
   "id": "caf5eff7-448b-490d-a6ab-d5a6a4800a27",
   "metadata": {},
   "outputs": [],
   "source": []
  },
  {
   "cell_type": "code",
   "execution_count": null,
   "id": "b6941e54-f4c0-4342-af8a-f5c507a70954",
   "metadata": {},
   "outputs": [],
   "source": []
  },
  {
   "cell_type": "code",
   "execution_count": null,
   "id": "3720e9a8-9d55-494c-aef9-5e913f6e0abc",
   "metadata": {},
   "outputs": [],
   "source": []
  }
 ],
 "metadata": {
  "kernelspec": {
   "display_name": "bk_base_202503_kernel",
   "language": "python",
   "name": "bk_base_202503"
  },
  "language_info": {
   "codemirror_mode": {
    "name": "ipython",
    "version": 3
   },
   "file_extension": ".py",
   "mimetype": "text/x-python",
   "name": "python",
   "nbconvert_exporter": "python",
   "pygments_lexer": "ipython3",
   "version": "3.9.21"
  }
 },
 "nbformat": 4,
 "nbformat_minor": 5
}
