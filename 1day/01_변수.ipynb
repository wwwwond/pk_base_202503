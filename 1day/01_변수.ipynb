{
 "cells": [
  {
   "cell_type": "code",
   "execution_count": 2,
   "id": "754d10a5-47e9-4550-a10f-462dee2b8aff",
   "metadata": {},
   "outputs": [
    {
     "name": "stdout",
     "output_type": "stream",
     "text": [
      "파이썬 프로그램 시작합니다 22...\n"
     ]
    }
   ],
   "source": [
    "print(\"파이썬 프로그램 시작합니다 22...\")\n",
    "\n",
    "### 실행방법\n",
    "# - [shift + enter]\n",
    "# - [alt + enter]  : 중간에 cell박스를 생성하고자 할 때\n",
    "# - [ctrl + enter] : 현재 cell박스에서만 실행"
   ]
  },
  {
   "cell_type": "code",
   "execution_count": 21,
   "id": "f1ebfe2a-7e8c-4f16-b38b-f09f9c0bf5dd",
   "metadata": {},
   "outputs": [
    {
     "data": {
      "text/plain": [
       "'\\n문장\\n'"
      ]
     },
     "execution_count": 21,
     "metadata": {},
     "output_type": "execute_result"
    }
   ],
   "source": [
    "# 한줄 주석 : #을 이용합니다. 여러개 사용 가능\n",
    "# 문장 단위 주석 : \"\"\" 문장 \"\"\" or ''' 문장 '''\n",
    "\"\"\"\n",
    "문장\n",
    "\"\"\"\n",
    "# cell 박스 삭제 : 빈공간 클릭후 dd\n",
    "# 한줄 또는 여러줄 위 아래로 복사 \n",
    "# - [shift + alt + 화살표 (위 아래)]\n",
    "# settings -> auto close brackets : 따옴표 하나만 해도 닫히는 하나가 더 생김"
   ]
  },
  {
   "cell_type": "code",
   "execution_count": 2,
   "id": "07864796-ef69-4284-b823-075e84fc0d15",
   "metadata": {},
   "outputs": [
    {
     "data": {
      "text/plain": [
       "'\\n<프로그램을 하는 이유>\\n - 컴퓨터에게 명령을 내려서 무엇인가를 실행하도록 처리하기 위해 \\n\\n\\n<프로그래밍 실행 순수>\\n 1. 사람이 알고 있는 언어로 작성을 합니다. \\n  - 작성하는 곳 : 누군가가 편하게 만들어 놓은 에디터(메모장, vs code등)\\n  - 작성하는 언어 : 프로그램 언어(python, c 등등)\\n\\n      ** 1번과 2번을 커널을 통해 연결한다 \\n       - 커널(Kernel) : 통로라는 의미, 내가 사용할 가상공간을 지정\\n  \\n 2. 작성한 언어를 해석기를 통해서 해석 시킵니다. \\n  - 사람이 알고 있는 언어를 컴퓨터가 알 수 있는 언어로 변환하는 과정을 거칩니다. \\n  - 이 과정을 컴파일 과정이라고 합니다.\\n  - 컴파일러(python.exe, jdk.exe, vs.exe) => 라이브러리 포함\\n \\n 3. 컴퓨터의 물리적 위치에 결과를 저장 또는 보여줍니다.\\n  - 컴퓨터 언어를 사람이 이해하는 언어로 변환 시켜서 보여줍니다.\\n  - 저장 위치 : 물리적 저장장치(HDD, SSD, USB등) \\n  - 보여주는 위치 : 모니터\\n'"
      ]
     },
     "execution_count": 2,
     "metadata": {},
     "output_type": "execute_result"
    }
   ],
   "source": [
    "\"\"\"\n",
    "<프로그램을 하는 이유>\n",
    " - 컴퓨터에게 명령을 내려서 무엇인가를 실행하도록 처리하기 위해 \n",
    "\n",
    "\n",
    "<프로그래밍 실행 순수>\n",
    " 1. 사람이 알고 있는 언어로 작성을 합니다. \n",
    "  - 작성하는 곳 : 누군가가 편하게 만들어 놓은 에디터(메모장, vs code등)\n",
    "  - 작성하는 언어 : 프로그램 언어(python, c 등등)\n",
    "\n",
    "      ** 1번과 2번을 커널을 통해 연결한다 \n",
    "       - 커널(Kernel) : 통로라는 의미, 내가 사용할 가상공간을 지정\n",
    "  \n",
    " 2. 작성한 언어를 해석기를 통해서 해석 시킵니다. \n",
    "  - 사람이 알고 있는 언어를 컴퓨터가 알 수 있는 언어로 변환하는 과정을 거칩니다. \n",
    "  - 이 과정을 컴파일 과정이라고 합니다.\n",
    "  - 컴파일러(python.exe, jdk.exe, vs.exe) => 라이브러리 포함\n",
    " \n",
    " 3. 컴퓨터의 물리적 위치에 결과를 저장 또는 보여줍니다.\n",
    "  - 컴퓨터 언어를 사람이 이해하는 언어로 변환 시켜서 보여줍니다.\n",
    "  - 저장 위치 : 물리적 저장장치(HDD, SSD, USB등) \n",
    "  - 보여주는 위치 : 모니터\n",
    "\"\"\""
   ]
  },
  {
   "cell_type": "markdown",
   "id": "99b2ada8-3d54-4e38-ae86-fb0a96b33cf4",
   "metadata": {},
   "source": [
    "### 기본 문법\n",
    "##### 변수"
   ]
  },
  {
   "cell_type": "code",
   "execution_count": 5,
   "id": "0764a468-2fa6-444a-89ff-61a6af9da7da",
   "metadata": {},
   "outputs": [],
   "source": [
    "### 다양한 타입의 값들을 저장해 놓은 곳 \n",
    "# - 저장된 곳 : 컴퓨터의 메모리\n",
    "# - 사람이 알고 있는 건 변수명 \n",
    "# - 컴퓨터가 알고 있는 건 주소값\n",
    "# - 변수명은 주소값을 가집니다. \n",
    "# - 값이 저장된 공간마다 임의 주소가 만들어집니다.(사람은 관여X)\n",
    "# - (중요) 파이썬에서는 모든 순서는 0부터 시작"
   ]
  },
  {
   "cell_type": "code",
   "execution_count": 13,
   "id": "def710b8-b4ed-41b5-9289-42cc9df6795a",
   "metadata": {},
   "outputs": [
    {
     "name": "stdout",
     "output_type": "stream",
     "text": [
      "100\n"
     ]
    }
   ],
   "source": [
    "# A라는 변수명에 정수값 100을 담습니다.\n",
    "A = 100 # A는 정수\n",
    "print(A)"
   ]
  },
  {
   "cell_type": "code",
   "execution_count": 18,
   "id": "dd928ed6-ac70-4736-8395-f236595c18e0",
   "metadata": {},
   "outputs": [
    {
     "name": "stdout",
     "output_type": "stream",
     "text": [
      "1.1\n"
     ]
    }
   ],
   "source": [
    "# A는 실수\n",
    "A = 1.1\n",
    "print(A)"
   ]
  },
  {
   "cell_type": "code",
   "execution_count": 17,
   "id": "6c20df95-f70f-413b-97d2-3550b9810026",
   "metadata": {},
   "outputs": [
    {
     "name": "stdout",
     "output_type": "stream",
     "text": [
      "Python\n"
     ]
    }
   ],
   "source": [
    "# A는 문자열(Str) 타입\n",
    "A = \"Python\"\n",
    "print(A)"
   ]
  },
  {
   "cell_type": "code",
   "execution_count": 21,
   "id": "6b7732ed-f610-494b-8896-a1462af69e47",
   "metadata": {},
   "outputs": [
    {
     "name": "stdout",
     "output_type": "stream",
     "text": [
      "True\n"
     ]
    }
   ],
   "source": [
    "# A는 BOOL 타입  이와 같이 변수에 대한 설명\n",
    "A = \"True\"\n",
    "print(A)"
   ]
  },
  {
   "cell_type": "markdown",
   "id": "ee07e34f-08d1-4772-b2d8-dd117c94e3c6",
   "metadata": {},
   "source": [
    "### 연산자"
   ]
  },
  {
   "cell_type": "code",
   "execution_count": 24,
   "id": "12e6c57d-2b11-4e34-999e-ff6f17171f2e",
   "metadata": {},
   "outputs": [
    {
     "data": {
      "text/plain": [
       "'\\n<연산자의 종류>\\n - 산술 연산자 : +, -, *, /\\n - 조건 연산자 : >, <, <=, >=, ==, !=\\n - 논리 연산자 : and, or, not\\n'"
      ]
     },
     "execution_count": 24,
     "metadata": {},
     "output_type": "execute_result"
    }
   ],
   "source": [
    "\"\"\"\n",
    "<연산자의 종류>\n",
    " - 산술 연산자 : +, -, *, /\n",
    " - 조건 연산자 : >, <, <=, >=, ==, !=\n",
    " - 논리 연산자 : and, or, not\n",
    "\"\"\""
   ]
  },
  {
   "cell_type": "code",
   "execution_count": 26,
   "id": "b286544d-8bfa-4da3-9bf1-d083068bd7e3",
   "metadata": {},
   "outputs": [
    {
     "name": "stdout",
     "output_type": "stream",
     "text": [
      "1\n"
     ]
    }
   ],
   "source": [
    "1\n",
    "print(1)"
   ]
  },
  {
   "cell_type": "code",
   "execution_count": 28,
   "id": "bc6b4e01-d25c-49e7-a1db-ca292382d9bb",
   "metadata": {},
   "outputs": [
    {
     "name": "stdout",
     "output_type": "stream",
     "text": [
      "1\n"
     ]
    }
   ],
   "source": [
    "a = 1\n",
    "print(a)"
   ]
  },
  {
   "cell_type": "code",
   "execution_count": 30,
   "id": "bcc27226-2118-4c99-917c-12dd3fa1b679",
   "metadata": {},
   "outputs": [],
   "source": [
    "a = 1\n",
    "b = 1.1\n",
    "c = \"python\"\n",
    "d = True"
   ]
  },
  {
   "cell_type": "code",
   "execution_count": 31,
   "id": "fbe46933-f9c8-41b7-a110-adfb7c0ef76a",
   "metadata": {},
   "outputs": [
    {
     "data": {
      "text/plain": [
       "2.1"
      ]
     },
     "execution_count": 31,
     "metadata": {},
     "output_type": "execute_result"
    }
   ],
   "source": [
    "a + b"
   ]
  },
  {
   "cell_type": "code",
   "execution_count": 35,
   "id": "5e10f577-4723-42d2-8444-3ae19744baf8",
   "metadata": {},
   "outputs": [
    {
     "data": {
      "text/plain": [
       "2"
      ]
     },
     "execution_count": 35,
     "metadata": {},
     "output_type": "execute_result"
    }
   ],
   "source": [
    "a + d"
   ]
  },
  {
   "cell_type": "code",
   "execution_count": 38,
   "id": "2c7eb4c6-7d88-4d03-baf5-d8bc81230a63",
   "metadata": {},
   "outputs": [
    {
     "data": {
      "text/plain": [
       "'pythonpython'"
      ]
     },
     "execution_count": 38,
     "metadata": {},
     "output_type": "execute_result"
    }
   ],
   "source": [
    "c + c\n",
    "# 문자열 산술연산자는 + 만 사용 가능\n",
    "# 단 문자와 문자간의 + 연산만 가능"
   ]
  },
  {
   "cell_type": "code",
   "execution_count": 40,
   "id": "a224e9f7-a43d-4fcd-a918-9a076c9e5571",
   "metadata": {},
   "outputs": [
    {
     "data": {
      "text/plain": [
       "False"
      ]
     },
     "execution_count": 40,
     "metadata": {},
     "output_type": "execute_result"
    }
   ],
   "source": [
    "# 조건 연산자의 결과는 bool 타입으로 출력\n",
    "a > b"
   ]
  },
  {
   "cell_type": "code",
   "execution_count": 46,
   "id": "a166181d-b1bb-4d53-b525-906cde2a3eca",
   "metadata": {},
   "outputs": [
    {
     "data": {
      "text/plain": [
       "False"
      ]
     },
     "execution_count": 46,
     "metadata": {},
     "output_type": "execute_result"
    }
   ],
   "source": [
    "### a가 b보다 크고, a가 d와 같은지 확인 요망 \n",
    "(a > b) and (a == d)"
   ]
  },
  {
   "cell_type": "code",
   "execution_count": 48,
   "id": "b84cc744-ebcb-47a0-9b9c-f12193635db9",
   "metadata": {},
   "outputs": [
    {
     "data": {
      "text/plain": [
       "True"
      ]
     },
     "execution_count": 48,
     "metadata": {},
     "output_type": "execute_result"
    }
   ],
   "source": [
    "### a가 b보다 크거나, a가 d와 같다면\n",
    "\n",
    "(a > b) or (a == d)"
   ]
  },
  {
   "cell_type": "markdown",
   "id": "2ed55806-0c5a-48a4-8436-fd93ea8b8890",
   "metadata": {},
   "source": [
    "#### 조건문"
   ]
  },
  {
   "cell_type": "code",
   "execution_count": 51,
   "id": "6c98717e-f999-4c24-856f-ddf9092e63c6",
   "metadata": {},
   "outputs": [
    {
     "data": {
      "text/plain": [
       "'\\n- 조건연산 또는 논리연산자를 이용해서\\n  해당 조건이 참일 때 또는 거짓일 때\\n  처리하고자는 방버을 달리하고자 할 때 사용됩니다.\\n- 문법\\nif (조건연산 or 논리연산) : \\nelif (조건연산 or 논리연산) :\\nelif (조건연산 or 논리연산) :\\nelse :\\n\\n- 문법의 필수사항 : if는 필수, 나머지는 필요시 사용\\n'"
      ]
     },
     "execution_count": 51,
     "metadata": {},
     "output_type": "execute_result"
    }
   ],
   "source": [
    "\"\"\"\n",
    "- 조건연산 또는 논리연산자를 이용해서\n",
    "  해당 조건이 참일 때 또는 거짓일 때\n",
    "  처리하고자는 방버을 달리하고자 할 때 사용됩니다.\n",
    "- 문법\n",
    "if (조건연산 or 논리연산) : \n",
    "     처리 프로그램\n",
    "elif (조건연산 or 논리연산) :\n",
    "     처리 프로그램\n",
    "elif (조건연산 or 논리연산) :\n",
    "     처리 프로그램\n",
    "else :\n",
    "     처리 프로그램\n",
    "     \n",
    "- 문법의 필수사항 : if는 필수, 나머지는 필요시 사용\n",
    "\"\"\""
   ]
  },
  {
   "cell_type": "code",
   "execution_count": 54,
   "id": "23752d30-b7a5-46e6-8ba2-d2c2d4963448",
   "metadata": {},
   "outputs": [],
   "source": [
    "### a가 b보다 작다면 : \"a가 b보다 작습니다\"를 출력\n",
    "### a가 b보다 크다면 : \"a가 b보다 큽니다\"를 출력\n",
    "### a와 b가 같다면 : \"a와 b는 같습니다\"를 출력"
   ]
  },
  {
   "cell_type": "code",
   "execution_count": 55,
   "id": "1584f882-323f-4dca-92d6-a202787ea526",
   "metadata": {},
   "outputs": [
    {
     "name": "stdout",
     "output_type": "stream",
     "text": [
      "a가 b보다 작습니다\n"
     ]
    }
   ],
   "source": [
    "if a < b:\n",
    "    print(\"a가 b보다 작습니다\")\n",
    "elif a > b:\n",
    "    print(\"a가 b보다 큽니다\")\n",
    "elif a == b:\n",
    "    print(\"a와 b는 같습니다\")"
   ]
  },
  {
   "cell_type": "code",
   "execution_count": 57,
   "id": "1b13b04c-8eeb-4967-a793-a5a98b557dd9",
   "metadata": {},
   "outputs": [],
   "source": [
    "### a가 b보다 작은 경우에는 \n",
    "# -> a와 d가 같은지 같지 않은지 확인한 후 ,\n",
    "# -> a와 d가 같다면== : \"a와 d가 같습니다\" 출력\n",
    "#  -> a와 d가 같지 않다면 : \"a와 d는 같지 않습니다\" 출력,"
   ]
  },
  {
   "cell_type": "code",
   "execution_count": 67,
   "id": "f74a6b31-41e6-4edf-bbb2-e137ef41da3c",
   "metadata": {},
   "outputs": [
    {
     "name": "stdout",
     "output_type": "stream",
     "text": [
      "a가 b보다 작습니다\n",
      "a와 d가 같습니다\n"
     ]
    }
   ],
   "source": [
    "if a < b:\n",
    "    print(\"a가 b보다 작습니다\") # or \n",
    "    \n",
    "    if a == d :\n",
    "        print(\"a와 d가 같습니다\")\n",
    "    else :  # 위 조건에 만족하는 것이 없다면, 무조건 수행\n",
    "        print(\"a와 d는 같지 않습니다\")"
   ]
  },
  {
   "cell_type": "code",
   "execution_count": null,
   "id": "e98d7d79-4cd5-4639-90fc-80ee0661c176",
   "metadata": {},
   "outputs": [],
   "source": []
  },
  {
   "cell_type": "code",
   "execution_count": null,
   "id": "15a13aa1-647d-45ca-9a3c-4a442e13e895",
   "metadata": {},
   "outputs": [],
   "source": []
  },
  {
   "cell_type": "code",
   "execution_count": null,
   "id": "efd54e91-190b-485c-ac38-4b207553e011",
   "metadata": {},
   "outputs": [],
   "source": []
  },
  {
   "cell_type": "code",
   "execution_count": null,
   "id": "9cb2392b-5471-4d49-9151-b14a7d1f0900",
   "metadata": {},
   "outputs": [],
   "source": []
  },
  {
   "cell_type": "code",
   "execution_count": null,
   "id": "f4251d06-5bea-4d54-aab0-fb7ae1f64f8b",
   "metadata": {},
   "outputs": [],
   "source": []
  }
 ],
 "metadata": {
  "kernelspec": {
   "display_name": "bk_base_202503_kernel",
   "language": "python",
   "name": "bk_base_202503"
  },
  "language_info": {
   "codemirror_mode": {
    "name": "ipython",
    "version": 3
   },
   "file_extension": ".py",
   "mimetype": "text/x-python",
   "name": "python",
   "nbconvert_exporter": "python",
   "pygments_lexer": "ipython3",
   "version": "3.9.21"
  }
 },
 "nbformat": 4,
 "nbformat_minor": 5
}
