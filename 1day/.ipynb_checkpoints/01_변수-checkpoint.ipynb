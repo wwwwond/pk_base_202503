{
 "cells": [
  {
   "cell_type": "code",
   "execution_count": 17,
   "id": "754d10a5-47e9-4550-a10f-462dee2b8aff",
   "metadata": {},
   "outputs": [
    {
     "name": "stdout",
     "output_type": "stream",
     "text": [
      "파이썬 프로그램 시작합니다 ...\n"
     ]
    }
   ],
   "source": [
    "print(\"파이썬 프로그램 시작합니다 ...\")\n",
    "\n",
    "### 실행방법\n",
    "# - [shift + enter]\n",
    "# - [alt + enter]  : 중간에 cell박스를 생성하고자 할 때\n",
    "# - [ctrl + enter] : 현재 cell박스에서만 실행"
   ]
  },
  {
   "cell_type": "code",
   "execution_count": 21,
   "id": "f1ebfe2a-7e8c-4f16-b38b-f09f9c0bf5dd",
   "metadata": {},
   "outputs": [
    {
     "data": {
      "text/plain": [
       "'\\n문장\\n'"
      ]
     },
     "execution_count": 21,
     "metadata": {},
     "output_type": "execute_result"
    }
   ],
   "source": [
    "# 한줄 주석 : #을 이용합니다. 여러개 사용 가능\n",
    "# 문장 단위 주석 : \"\"\" 문장 \"\"\" or ''' 문장 '''\n",
    "\"\"\"\n",
    "문장\n",
    "\"\"\"\n",
    "# cell 박스 삭제 : 빈공간 클릭후 dd\n",
    "# 한줄 또는 여러줄 위 아래로 복사 \n",
    "# - [shift + alt + 화살표 (위 아래)]\n",
    "# settings -> auto close brackets : 따옴표 하나만 해도 닫히는 하나가 더 생김"
   ]
  },
  {
   "cell_type": "markdown",
   "id": "61aef1a2-2a8e-4852-966d-bed8379fc6b4",
   "metadata": {},
   "source": [
    "# "
   ]
  },
  {
   "cell_type": "code",
   "execution_count": null,
   "id": "07864796-ef69-4284-b823-075e84fc0d15",
   "metadata": {},
   "outputs": [],
   "source": []
  }
 ],
 "metadata": {
  "kernelspec": {
   "display_name": "Python 3 (ipykernel)",
   "language": "python",
   "name": "python3"
  },
  "language_info": {
   "codemirror_mode": {
    "name": "ipython",
    "version": 3
   },
   "file_extension": ".py",
   "mimetype": "text/x-python",
   "name": "python",
   "nbconvert_exporter": "python",
   "pygments_lexer": "ipython3",
   "version": "3.12.7"
  }
 },
 "nbformat": 4,
 "nbformat_minor": 5
}
