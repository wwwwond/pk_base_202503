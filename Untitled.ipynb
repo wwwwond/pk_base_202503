{
 "cells": [
  {
   "cell_type": "code",
   "execution_count": null,
   "id": "ed60ef20-1edd-4270-a2d3-5f7fb3bd4f67",
   "metadata": {},
   "outputs": [],
   "source": []
  }
 ],
 "metadata": {
  "kernelspec": {
   "display_name": "bk_base_202503_kernel",
   "language": "python",
   "name": "bk_base_202503"
  },
  "language_info": {
   "codemirror_mode": {
    "name": "ipython",
    "version": 3
   },
   "file_extension": ".py",
   "mimetype": "text/x-python",
   "name": "python",
   "nbconvert_exporter": "python",
   "pygments_lexer": "ipython3",
   "version": "3.9.21"
  }
 },
 "nbformat": 4,
 "nbformat_minor": 5
}
