{
 "cells": [
  {
   "cell_type": "code",
   "execution_count": 1,
   "id": "96b41501-6b70-4715-9550-840617a585f0",
   "metadata": {},
   "outputs": [
    {
     "name": "stdout",
     "output_type": "stream",
     "text": [
      "6\n",
      "12\n",
      "18\n",
      "24\n",
      "30\n",
      "36\n",
      "42\n",
      "48\n",
      "54\n",
      "60\n",
      "66\n",
      "72\n",
      "78\n",
      "84\n",
      "90\n",
      "96\n"
     ]
    }
   ],
   "source": [
    "list8 = list(range(2,101,2))\n",
    "for v in list8 :\n",
    "    if v % 3 == 0 :\n",
    "        print(v)"
   ]
  },
  {
   "cell_type": "code",
   "execution_count": 2,
   "id": "dd8eab13-d85b-4bcd-9fc8-a6d7c9b10984",
   "metadata": {},
   "outputs": [
    {
     "name": "stdout",
     "output_type": "stream",
     "text": [
      "6\n",
      "12\n",
      "18\n",
      "24\n",
      "30\n",
      "36\n",
      "42\n",
      "48\n",
      "54\n",
      "60\n",
      "66\n",
      "72\n",
      "78\n",
      "84\n",
      "90\n",
      "96\n"
     ]
    }
   ],
   "source": [
    "list8 = list(range(2,101,2))\n",
    "for idx in range(0,len(list8),1) :\n",
    "    if list8[idx] % 3 == 0 :\n",
    "        print(list8[idx])"
   ]
  },
  {
   "cell_type": "code",
   "execution_count": 32,
   "id": "d6da4453-0428-474f-a403-04bc787d4928",
   "metadata": {},
   "outputs": [
    {
     "name": "stdout",
     "output_type": "stream",
     "text": [
      "cnt의 갯수= 12\n",
      "bnt의 갯수= 12\n"
     ]
    }
   ],
   "source": [
    "### list8 데이터 중에 8의 배수의 갯수를 출력해주세요\n",
    "cnt = 0\n",
    "\n",
    "list8 = list(range(2,101,2))\n",
    "for val in list8 :\n",
    "    if val % 8 == 0 :\n",
    "        cnt += 1\n",
    "print(\"cnt의 갯수=\",cnt) ## list의 값 자체를 이용하는 방법\n",
    "\n",
    "bnt = 0\n",
    "list8 = list(range(2,101,2))\n",
    "for idx in range(0,len(list8),1) :\n",
    "    if list8[idx] % 8 == 0 :\n",
    "       bnt += 1\n",
    "print(\"bnt의 갯수=\",bnt)  ## 인덱스 번호를 사용하는 방법"
   ]
  },
  {
   "cell_type": "markdown",
   "id": "1c72e184-2e0d-4d7b-ad15-db9de939835b",
   "metadata": {},
   "source": [
    "#### 슬라이싱 "
   ]
  },
  {
   "cell_type": "code",
   "execution_count": 43,
   "id": "37884417-8b5e-4c5a-bc34-f91ac9fa5bb3",
   "metadata": {},
   "outputs": [
    {
     "name": "stdout",
     "output_type": "stream",
     "text": [
      "2\n",
      "94\n",
      "[2, 4, 6, 8, 10]\n",
      "[96, 98, 100]\n"
     ]
    }
   ],
   "source": [
    "print(list8[0])\n",
    "print(list8[-4]) # 뒤에서 4번째\n",
    "\n",
    "### 슬라이스 사용\n",
    "# - 슬라이스는 범위를 의미하며, 범위를 지정하는 기호는 콜론(:) 사용\n",
    "# - 범위를 지정하여 리스트 내 값을 추출할 때 사용함\n",
    "\n",
    "## 리스트 내에 전체 데이터 추출하기\n",
    "# print(list8[:])\n",
    "\n",
    "## 인덱스번호 0번째부터 마지막범위(-1)까지 출력\n",
    "print(list8[0:5])\n",
    "\n",
    "## 뒤에서 3번째 값부터 뒤에 전체 값을 추출\n",
    "print(list8[-3:])"
   ]
  },
  {
   "cell_type": "markdown",
   "id": "be6f6e42-e5cd-4ad2-b652-40f9e31aa574",
   "metadata": {},
   "source": [
    "#### 문자열도 데이터도 리스트 구조와 메모리 구조와 동일하게 저장되고 처리됨"
   ]
  },
  {
   "cell_type": "code",
   "execution_count": 46,
   "id": "c4a69adb-d523-40ee-9d45-b7f2657b4f0f",
   "metadata": {},
   "outputs": [
    {
     "data": {
      "text/plain": [
       "('안녕하세요 파이썬 재미있어요 !!', str)"
      ]
     },
     "execution_count": 46,
     "metadata": {},
     "output_type": "execute_result"
    }
   ],
   "source": [
    "str1 = \"안녕하세요 파이썬 재미있어요 !!\"\n",
    "str1, type(str1)"
   ]
  },
  {
   "cell_type": "code",
   "execution_count": 68,
   "id": "2a4dcc96-8005-45f3-a034-fbcfe4acbd28",
   "metadata": {},
   "outputs": [
    {
     "name": "stdout",
     "output_type": "stream",
     "text": [
      "안\n",
      "녕\n",
      "하\n",
      "세\n",
      "요\n",
      " \n",
      "파\n",
      "이\n",
      "썬\n",
      " \n",
      "재\n",
      "미\n",
      "있\n",
      "어\n",
      "요\n",
      " \n",
      "!\n",
      "!\n"
     ]
    }
   ],
   "source": [
    "### 인덱스 번호 및 값을 이용해서 문자열 내에 각 단어들을 출력\n",
    "# for문 사용\n",
    "str1 = \"안녕하세요 파이썬 재미있어요 !!\"\n",
    "for val in str1 : \n",
    "    print(val)"
   ]
  },
  {
   "cell_type": "code",
   "execution_count": 129,
   "id": "e078c77a-5250-4208-8e3a-1a29940c6e1c",
   "metadata": {},
   "outputs": [
    {
     "name": "stdout",
     "output_type": "stream",
     "text": [
      "안\n",
      "녕\n",
      "하\n",
      "세\n",
      "요\n",
      " \n",
      "파\n",
      "이\n",
      "썬\n",
      " \n",
      "재\n",
      "미\n",
      "있\n",
      "어\n",
      "요\n",
      " \n",
      "!\n",
      "!\n"
     ]
    }
   ],
   "source": [
    "str1 = \"안녕하세요 파이썬 재미있어요 !!\"\n",
    "for idx in range(len(str1)) :\n",
    "    print(str1[idx])"
   ]
  },
  {
   "cell_type": "markdown",
   "id": "3741d993-fd65-4123-bd3b-e0cefddb57ae",
   "metadata": {},
   "source": [
    "#### 리스트에 값 추가하기"
   ]
  },
  {
   "cell_type": "code",
   "execution_count": 64,
   "id": "0b82a52d-c7ba-4b9b-8bd6-f8fa88120ede",
   "metadata": {},
   "outputs": [
    {
     "data": {
      "text/plain": [
       "[]"
      ]
     },
     "execution_count": 64,
     "metadata": {},
     "output_type": "execute_result"
    }
   ],
   "source": [
    "### 깨끗한 리스트 생성\n",
    "list_temp = []\n",
    "list_temp"
   ]
  },
  {
   "cell_type": "code",
   "execution_count": 112,
   "id": "5c9b1bfa-1eee-457d-9543-fe6ede720064",
   "metadata": {},
   "outputs": [
    {
     "name": "stdout",
     "output_type": "stream",
     "text": [
      "['홍길동', '이순신', 100, 100, [...], 100, 100, 100, 100, list[2, 101, 2], list[2, 101, 2], list[2, 101, 2], 100, 100, 100, '마지막에 추가1', '마지막에 추가1', '홍길동']\n"
     ]
    }
   ],
   "source": [
    "### 새로운 값 1개 추가하기\n",
    "# 리스트에 값을 추가하는 함수 : append()\n",
    "list_temp.append(\"홍길동\")\n",
    "list_temp.append(100)\n",
    "list_temp.append(\"이순신\")\n",
    "print(list_temp)"
   ]
  },
  {
   "cell_type": "code",
   "execution_count": 114,
   "id": "a07959c8-021c-41d8-baa3-48224b14e9a9",
   "metadata": {},
   "outputs": [],
   "source": [
    "# ### list_temp 데이터 중에 2번째 인덱스의 값을들 모두 출력해주세요\n",
    "# print(list_temp)\n",
    "# for val in list_temp[2] :\n",
    "    # print(val)"
   ]
  },
  {
   "cell_type": "code",
   "execution_count": 115,
   "id": "052a0391-ad07-4830-a67c-094d23a1ade8",
   "metadata": {},
   "outputs": [],
   "source": [
    "# ### list_temp 데이터 중에 3번째 인덱스의 값을들 모두 출력해주세요\n",
    "# print(list_temp)\n",
    "# for val in list_temp[3] :\n",
    "#     print(val)"
   ]
  },
  {
   "cell_type": "code",
   "execution_count": 116,
   "id": "c1d5fbd2-d740-4b8f-b0d3-736d2e498ba4",
   "metadata": {},
   "outputs": [],
   "source": [
    "# ### list_temp 데이터 중에 3번째 인덱스의 값을들 모두 출력해주세요\n",
    "# list_temp.append(\"마지막에 추가1\")\n",
    "\n",
    "# # for val in list_temp[3] :\n",
    "#     print(val)"
   ]
  },
  {
   "cell_type": "code",
   "execution_count": 113,
   "id": "e0dd6221-5854-4ed0-97a3-b625c679361a",
   "metadata": {},
   "outputs": [
    {
     "name": "stdout",
     "output_type": "stream",
     "text": [
      "['홍길동', '이순신', 100, 100, [...], 100, 100, 100, 100, list[2, 101, 2], list[2, 101, 2], list[2, 101, 2], 100, 100, 100, '마지막에 추가1', '마지막에 추가1', '홍길동']\n"
     ]
    }
   ],
   "source": [
    "print(list_temp)"
   ]
  },
  {
   "cell_type": "code",
   "execution_count": 118,
   "id": "b7b43a0b-825e-4d11-a944-d4b46e029110",
   "metadata": {},
   "outputs": [
    {
     "name": "stdout",
     "output_type": "stream",
     "text": [
      "[1, '이순신', [1, 2, 3], '부산', [4, 5, 6]]\n"
     ]
    }
   ],
   "source": [
    "### 리스트 변수 깨끗한거 생성\n",
    "list_temp2 = [1,\"이순신\",[1,2,3],\"부산\",[4,5,6]]\n",
    "print(list_temp2)"
   ]
  },
  {
   "cell_type": "code",
   "execution_count": 119,
   "id": "16f72a84-71e7-4e10-960a-01a44848a11d",
   "metadata": {},
   "outputs": [
    {
     "data": {
      "text/plain": [
       "(list, int, str, list)"
      ]
     },
     "execution_count": 119,
     "metadata": {},
     "output_type": "execute_result"
    }
   ],
   "source": [
    "### type \n",
    "type(list_temp2), type(list_temp2[0]), type(list_temp2[1]), type(list_temp2[2]),"
   ]
  },
  {
   "cell_type": "code",
   "execution_count": 128,
   "id": "5ac863f5-6c46-446c-81da-6cd4cb838eb2",
   "metadata": {
    "scrolled": true
   },
   "outputs": [
    {
     "name": "stdout",
     "output_type": "stream",
     "text": [
      "1\n",
      "2\n",
      "3\n",
      "4\n",
      "5\n",
      "6\n"
     ]
    }
   ],
   "source": [
    "### list_temp2 데이터 중에 타입이 list인 경우에,\n",
    "# - 헤딩 리스트 내에 데이터를 각각 출력해주세요\n",
    "# - 단 타입 list안 인덱스 위치는 모름\n",
    "for abc in list_temp2 :\n",
    "    if type(abc) == list :\n",
    "        for value in abc:\n",
    "            print(value)"
   ]
  },
  {
   "cell_type": "markdown",
   "id": "ce096330-91c6-40d7-964f-4c936e2a63e7",
   "metadata": {},
   "source": [
    "#### 리스트 연산 (+,x)"
   ]
  },
  {
   "cell_type": "code",
   "execution_count": 130,
   "id": "7467e278-8c27-461c-ae2d-7c2a9fe0bc51",
   "metadata": {},
   "outputs": [],
   "source": [
    "list1 = [1,2,3]\n",
    "list2 = [4,5,6]"
   ]
  },
  {
   "cell_type": "code",
   "execution_count": 131,
   "id": "77fb658d-4aa8-4fc5-bd1e-bba4695fba0a",
   "metadata": {},
   "outputs": [
    {
     "name": "stdout",
     "output_type": "stream",
     "text": [
      "[1, 2, 3, 4, 5, 6]\n"
     ]
    }
   ],
   "source": [
    "### 리스트 더하기 연산 : 여러개의 리스트가 하나의 리스트로 합쳐집니다.\n",
    "list3 = list1 + list2\n",
    "print(list3)"
   ]
  },
  {
   "cell_type": "code",
   "execution_count": 139,
   "id": "65ac0369-11a8-408d-b297-d203d3eba972",
   "metadata": {},
   "outputs": [
    {
     "data": {
      "text/plain": [
       "[1, 2, 3, 1, 2, 3]"
      ]
     },
     "execution_count": 139,
     "metadata": {},
     "output_type": "execute_result"
    }
   ],
   "source": [
    "### 리스트 곱하기 연산 : 하나의 리스트 내에 동일한 값을 여러개 추가하고자 할 때 사용\n",
    "# - 추가하고자 하는 갯수를 곱하면 됩니다.\n",
    "list1 * 2"
   ]
  },
  {
   "cell_type": "code",
   "execution_count": 140,
   "id": "e6417610-ea80-419f-a530-883b5e04b3d2",
   "metadata": {},
   "outputs": [
    {
     "data": {
      "text/plain": [
       "['홍길동',\n",
       " '홍길동',\n",
       " '홍길동',\n",
       " '홍길동',\n",
       " '홍길동',\n",
       " '홍길동',\n",
       " '홍길동',\n",
       " '홍길동',\n",
       " '홍길동',\n",
       " '홍길동',\n",
       " '이순신',\n",
       " '이순신',\n",
       " '이순신',\n",
       " '이순신',\n",
       " '이순신']"
      ]
     },
     "execution_count": 140,
     "metadata": {},
     "output_type": "execute_result"
    }
   ],
   "source": [
    "[\"홍길동\"] * 10 + [\"이순신\"] * 5"
   ]
  },
  {
   "cell_type": "code",
   "execution_count": 141,
   "id": "c61836ac-2fed-4a7f-ae0f-6e7b5d8c770b",
   "metadata": {},
   "outputs": [
    {
     "name": "stdout",
     "output_type": "stream",
     "text": [
      "[1, 2, 3, 4, 5, 6]\n"
     ]
    }
   ],
   "source": [
    "print(list3)"
   ]
  },
  {
   "cell_type": "markdown",
   "id": "69cb4fbc-1bbb-4f18-8826-0de307083ca0",
   "metadata": {},
   "source": [
    "#### 리스트 내 특정 인덱스 데이터 삭제하기"
   ]
  },
  {
   "cell_type": "code",
   "execution_count": 142,
   "id": "30656330-ad12-4d6f-9e03-35ddda83151b",
   "metadata": {},
   "outputs": [
    {
     "name": "stdout",
     "output_type": "stream",
     "text": [
      "[1, 3, 4, 5, 6]\n"
     ]
    }
   ],
   "source": [
    "### list3 데이터 중에 1번째 인덱스 값 삭제하기\n",
    "# 삭제 명령 : del 사용\n",
    "del list3[1]\n",
    "print(list3)"
   ]
  },
  {
   "cell_type": "code",
   "execution_count": 152,
   "id": "80e13909-9b02-43d4-be6b-fc23692e30b7",
   "metadata": {},
   "outputs": [
    {
     "ename": "IndexError",
     "evalue": "list assignment index out of range",
     "output_type": "error",
     "traceback": [
      "\u001b[1;31m---------------------------------------------------------------------------\u001b[0m",
      "\u001b[1;31mIndexError\u001b[0m                                Traceback (most recent call last)",
      "Cell \u001b[1;32mIn[152], line 2\u001b[0m\n\u001b[0;32m      1\u001b[0m \u001b[38;5;66;03m### del 명령은 리스트의 인덱스 번호를 사용해서 삭제할 때 사용\u001b[39;00m\n\u001b[1;32m----> 2\u001b[0m \u001b[38;5;28;01mdel\u001b[39;00m list3[\u001b[38;5;241m4\u001b[39m]\n",
      "\u001b[1;31mIndexError\u001b[0m: list assignment index out of range"
     ]
    }
   ],
   "source": [
    "### del 명령은 리스트의 인덱스 번호를 사용해서 삭제할 때 사용\n",
    "del list3[4]"
   ]
  },
  {
   "cell_type": "code",
   "execution_count": 154,
   "id": "c7ad2df1-c907-4bf6-83db-f0c743af5644",
   "metadata": {},
   "outputs": [
    {
     "name": "stdout",
     "output_type": "stream",
     "text": [
      "[1, 2, 4, 5]\n"
     ]
    }
   ],
   "source": [
    "print(list3)"
   ]
  },
  {
   "cell_type": "code",
   "execution_count": 156,
   "id": "87916689-3219-43ae-b799-9c739f532720",
   "metadata": {},
   "outputs": [
    {
     "name": "stdout",
     "output_type": "stream",
     "text": [
      "[1, 4, 5]\n"
     ]
    }
   ],
   "source": [
    "### remove() 함수를 이용하여 [값]을 이용하여 삭제할 때 사용\n",
    "list3.remove(2)\n",
    "print(list3)"
   ]
  },
  {
   "cell_type": "markdown",
   "id": "f1c3ffd8-d28f-4160-b6c4-6fb0697c3487",
   "metadata": {},
   "source": [
    "#### 리스트 내 특정 인덱스 위치의 값 수정하기"
   ]
  },
  {
   "cell_type": "code",
   "execution_count": 157,
   "id": "efdf49cb-c3f2-4fdf-a99d-c5f44204ac17",
   "metadata": {},
   "outputs": [
    {
     "name": "stdout",
     "output_type": "stream",
     "text": [
      "[1, 2, 5]\n"
     ]
    }
   ],
   "source": [
    "list3[1] = 2\n",
    "print(list3)"
   ]
  },
  {
   "cell_type": "code",
   "execution_count": 158,
   "id": "f9fb07ae-1708-42c3-84fe-dc127ac8e212",
   "metadata": {},
   "outputs": [
    {
     "name": "stdout",
     "output_type": "stream",
     "text": [
      "[1, 2, 5, 3, 3]\n"
     ]
    }
   ],
   "source": [
    "list3.append(3)\n",
    "list3.append(3)\n",
    "print(list3)"
   ]
  },
  {
   "cell_type": "code",
   "execution_count": 159,
   "id": "d972de29-a0c2-4acf-ae73-7f8da0ea9920",
   "metadata": {},
   "outputs": [
    {
     "name": "stdout",
     "output_type": "stream",
     "text": [
      "[1, 2, 5, 3]\n"
     ]
    }
   ],
   "source": [
    "list3.remove(3)\n",
    "print(list3)"
   ]
  },
  {
   "cell_type": "code",
   "execution_count": 161,
   "id": "3e55fca5-6a98-4d2b-b808-534f45f30b29",
   "metadata": {},
   "outputs": [
    {
     "name": "stdout",
     "output_type": "stream",
     "text": [
      "[1, 3, 5, 3]\n",
      "[1, 5, 3]\n"
     ]
    }
   ],
   "source": [
    "list3[1] = 3\n",
    "print(list3)\n",
    "\n",
    "### 같은 값이 존재할 경우, 가장 첫번째 나오는 값을 삭제합니다.\n",
    "list3.remove(3)\n",
    "print(list3)"
   ]
  },
  {
   "cell_type": "markdown",
   "id": "884a165e-1210-43d8-b24e-2bec1bf78878",
   "metadata": {},
   "source": [
    "#### 값 입력 받기"
   ]
  },
  {
   "cell_type": "code",
   "execution_count": 165,
   "id": "b9d5f8e2-ec46-43ec-8214-f9385a65e358",
   "metadata": {},
   "outputs": [
    {
     "name": "stdin",
     "output_type": "stream",
     "text": [
      "(안내 메시지)이름을 입력해 주세요 홍길동\n"
     ]
    }
   ],
   "source": [
    "### input() : 키보드로 부터 임의 값을 입력받아서 사용하고자 할 때\n",
    "# - input()을 통해 반환받은 값의 타입 : 무조건 문자열 타입(str)\n",
    "p_name = input(\"(안내 메시지)이름을 입력해 주세요\")"
   ]
  },
  {
   "cell_type": "code",
   "execution_count": 168,
   "id": "751d7e9c-866e-4b0b-a665-5d43978274c4",
   "metadata": {},
   "outputs": [
    {
     "name": "stdin",
     "output_type": "stream",
     "text": [
      "[나이]를 입력해 주세요 :  20\n"
     ]
    }
   ],
   "source": [
    "p_age = int(input(\"[나이]를 입력해 주세요 : \"))"
   ]
  },
  {
   "cell_type": "code",
   "execution_count": 169,
   "id": "1e5990e4-376a-4fee-9122-de174e64ae07",
   "metadata": {},
   "outputs": [
    {
     "data": {
      "text/plain": [
       "('홍길동', 20)"
      ]
     },
     "execution_count": 169,
     "metadata": {},
     "output_type": "execute_result"
    }
   ],
   "source": [
    "p_name, p_age"
   ]
  },
  {
   "cell_type": "markdown",
   "id": "7d1b10b0-2233-4ad4-a32b-97d0f2c12994",
   "metadata": {},
   "source": [
    "#### 예제"
   ]
  },
  {
   "cell_type": "code",
   "execution_count": null,
   "id": "747bfdfd-c20c-40b6-829d-12d389de9939",
   "metadata": {},
   "outputs": [],
   "source": [
    "\"\"\"\n",
    "1. 리스트 변수 생성 : 이름, 나이, 주소 각각의 깨끗한 리스트 변수 생성\n",
    "  - 리스트 변수명 : name, age, area\n",
    "2. 데이터 추가\n",
    "  - 추가할 데이터 : \"홍길동\", 10, \"부산\"\n",
    "  - 추가할 데이터 : \"이순신\", 20, \"대전\"\n",
    "  - 몇개 더 계속 추가\n",
    "\n",
    "3. 처리 방법\n",
    "  - 무한 반복 하기 #### while\n",
    "  - 임의 번호를 입력 받기\n",
    "  - 입력 받은 번호가 1이면 데이터 추가를 수행합니다.\n",
    "    --> 데이터 추가 시 이름,나이, 지역을 각각 입력 받습니다.\n",
    "    --> 입력 받은 각각의 이름, 나이, 지역의 값을 각 리스트에 추가 합니다.\n",
    "  - 한 번 입력이 끝나면, 다시 임의 번호를 입력 받기 합니다. \n",
    "  - 더 이상 입력을 하지 않을 경우 임의 번호 0번을 입력하면 무한 반복을 종료합니다.\n",
    "\n",
    "4. 안내 메시지\n",
    " - 임의 번호를 입력 받기 : \"아래 번호 중에 하나를 선택해 주세요(번호로 입력) : \"\n",
    " - 이외 데이터 추가시 입력 값에 대한 안내는 직접 하기\n",
    "\"\"\""
   ]
  },
  {
   "cell_type": "code",
   "execution_count": 172,
   "id": "7f9cdab0-5185-4d78-9263-657212c3f095",
   "metadata": {},
   "outputs": [
    {
     "name": "stdin",
     "output_type": "stream",
     "text": [
      "아래 번호 중에 하나를 선탁하여 주세요(번호로 입력)\n",
      "0. 종료\n",
      "1. 리스트에 값 추가 \n",
      " 0\n"
     ]
    },
    {
     "data": {
      "text/plain": [
       "'0'"
      ]
     },
     "execution_count": 172,
     "metadata": {},
     "output_type": "execute_result"
    }
   ],
   "source": [
    "### 임의의 값 입력 받기 위한 안내 메시지\n",
    "msg = \"\"\"아래 번호 중에 하나를 선탁하여 주세요(번호로 입력)\n",
    "0. 종료\n",
    "1. 리스트에 값 추가 \n",
    "\"\"\"\n",
    "\n",
    "input(msg)"
   ]
  },
  {
   "cell_type": "code",
   "execution_count": null,
   "id": "ac98a9a0-ab72-4f46-a249-9014fce4a972",
   "metadata": {},
   "outputs": [],
   "source": [
    "p_num = int(input(\"(안내 메시지)아래 번호 중에 하나를 선택해 주세요\"))\n",
    "### append써서 name,age,area에 값 입력"
   ]
  },
  {
   "cell_type": "code",
   "execution_count": 2,
   "id": "c6ff835b-3427-48b0-912d-827b73d7ca26",
   "metadata": {},
   "outputs": [
    {
     "name": "stdin",
     "output_type": "stream",
     "text": [
      "아래 번호 중에 하나를 선탁하여 주세요(번호로 입력)\n",
      "0. 종료\n",
      "1. 리스트에 값 추가 \n",
      " 0\n"
     ]
    },
    {
     "name": "stdout",
     "output_type": "stream",
     "text": [
      "이제 끄으읕~\n"
     ]
    }
   ],
   "source": [
    "name = []\n",
    "age = []\n",
    "area = [] \n",
    "\n",
    "msg = \"\"\"아래 번호 중에 하나를 선탁하여 주세요(번호로 입력)\n",
    "0. 종료\n",
    "1. 리스트에 값 추가 \n",
    "\"\"\"\n",
    "while True :\n",
    "    a = int(input(msg))\n",
    "    if a == 0 :\n",
    "        print(\"이제 끄으읕~\")\n",
    "        break  \n",
    "    elif a == 1 : \n",
    "        name.append(input(\"[이름]를 입력해 주세요 : \"))\n",
    "        age.append(int(input(\"[나이]를 입력해 주세요 : \")))\n",
    "        area.append(input(\"지역을 입력해주세요 : \"))\n",
    "    else :\n",
    "        print(\"0과 1중에 선택하세요.\")\n",
    "\n",
    "# nameInput = []\n",
    "# ageInput = []\n",
    "# areaInput = []\n",
    "\n",
    "# while True:\n",
    "#     choice = int(input(msg))\n",
    "#     if choice == 0:\n",
    "#         print(\"프로그램을 종료합니다.\")\n",
    "#         break\n",
    "#     nameInput = input(\"[이름]를 입력해 주세요 : \")\n",
    "#     ageInput = int(input(\"[나이]를 입력해 주세요 : \"))\n",
    "#     areaInput = input(\"지역을 입력해주세요 : \")\n",
    "        # 리스트에 추가하기\n",
    "#     name.append(nameInput)\n",
    "#     age.append(ageInput)\n",
    "#     area.append(areaInput)\n",
    "         # print(f\"{nameInput}님의 나이{(ageInput)}와 지역{areaInput}을 정상적으로 추가하였습니다.\")\n",
    "        #  print()"
   ]
  },
  {
   "cell_type": "code",
   "execution_count": 5,
   "id": "69d88e9d-5a44-4c6e-8186-a63534e04137",
   "metadata": {},
   "outputs": [
    {
     "name": "stdout",
     "output_type": "stream",
     "text": [
      "['이재원']\n"
     ]
    }
   ],
   "source": [
    "print(name)"
   ]
  },
  {
   "cell_type": "code",
   "execution_count": 8,
   "id": "9541e89c-b293-4056-86ff-a03641312819",
   "metadata": {},
   "outputs": [
    {
     "name": "stdout",
     "output_type": "stream",
     "text": [
      "['홍길동', '이순신', '김유신']\n",
      "이순신이 포함되어 있습니다.\n",
      "이순신은 미등록 포함되어 있지 않습니다.\n"
     ]
    }
   ],
   "source": [
    "### 특정 값이 리스트 내에 포함되어 있는지 확인하기 \n",
    "list2 = [\"홍길동\", \"이순신\", \"김유신\"]\n",
    "print(list2)\n",
    "\n",
    "name = \"이순신\"\n",
    "### 이순신이라는 값이 리스트 내에 포함되어 있는지 확인\n",
    "# 리스트 앞쪽에 in을 붙이면 왼쪽의 값이 오른쪽 리스트 내에 포함되어 있는지 확인\n",
    "# - 포함되어 있으면 True , 없으면 False의 값을 반환하는 조건연산을 수행\n",
    "# in : 포함관계 여부를 나타내는 조건 연산\n",
    "if name in list2 :\n",
    "    print(f\"{name}이 포함되어 있습니다.\")\n",
    "else :\n",
    "    print(f\"{name}은 미등록 이름입니다.\")\n",
    "\n",
    "# 포함이 안될 경우를 조건 처리할 경우에는 : not in 사용\n",
    "if name not in list2 :\n",
    "    print(f\"{name}은 미등록 이름입니다.\")\n",
    "else :\n",
    "    print(f\"{name}은 미등록 포함되어 있지 않습니다.\")"
   ]
  },
  {
   "cell_type": "code",
   "execution_count": null,
   "id": "2a69cf17-b57e-4343-a604-c1fd7157dfaa",
   "metadata": {},
   "outputs": [],
   "source": [
    "### 위 실습 예제에 추가\n",
    "# - 리스트에 데이터 추가시에 \n",
    "# --> 추가하고자 하는 이름이 존재하지 않는 경우에만 추가하고, \n",
    "# -->                        존재하는 경우에는 \"이미 등록된 사용자입니다.\"\n",
    "# --> 다시 처음 임의 번호 입력받는 위치로 이동"
   ]
  },
  {
   "cell_type": "code",
   "execution_count": 1,
   "id": "3c03c2a5-5a04-44d5-bf34-54a959be0d18",
   "metadata": {},
   "outputs": [],
   "source": [
    "# list2 = [\"홍길동\", \"이순신\", \"김유신\"]\n",
    "\n",
    "# while True:\n",
    "#     name = input(\"이름을 입력해 주세요 (종료하려면 'exit' 입력): \")\n",
    "    \n",
    "#     if name.\n",
    "#         print(\"프로그램을 종료합니다.\")\n",
    "#         break\n",
    "    \n",
    "#     if name not in list2:\n",
    "#         list2.append(name)  \n",
    "#         print(f\"{name}은 추가되었습니다.\")\n",
    "#     else:\n",
    "#         print(f\"{name}은 이미 등록된 사용자입니다.\")"
   ]
  },
  {
   "cell_type": "code",
   "execution_count": 2,
   "id": "046449eb-27b8-4233-bcb6-db3a37d02f32",
   "metadata": {},
   "outputs": [],
   "source": [
    "# name = []\n",
    "# age = []\n",
    "# area = [] \n",
    "\n",
    "# msg = \"\"\"아래 번호 중에 하나를 선탁하여 주세요(번호로 입력)\n",
    "# 0. 종료\n",
    "# 1. 리스트에 값 추가 \n",
    "# \"\"\"\n",
    "# while True :\n",
    "#     a = int(input(msg))\n",
    "#     if a == 0 :\n",
    "#         print(\"이제 끄으읕~\")\n",
    "#         break  \n",
    "#     elif a == 1 : \n",
    "#         p_name=input(\"[이름]를 입력해 주세요 : \")\n",
    "\n",
    "#         if p_name in name :\n",
    "#             print(f\"{p_name}의 정보가 이미 존재합니다.\")\n",
    "#             continue\n",
    "        \n",
    "#         p_age=input(\"[나이]를 입력해 주세요 : \")\n",
    "#         p_area=input(\"지역을 입력해주세요 : \")\n",
    "\n",
    "#         if p_name not in name :\n",
    "#             name.append(p_name)\n",
    "#             age.append(p_age)\n",
    "#             area.append(p_area)\n",
    "#             print(f\"{name}님의 나이{(age)}와 지역{area}을 정상적으로 추가하였습니다.\")\n",
    "#         else : \n",
    "#             print(f\"{name}은 이미 등록된 사용자입니다.\")"
   ]
  },
  {
   "cell_type": "code",
   "execution_count": null,
   "id": "c34ea79b-f2a4-4f65-b99d-c830cab14193",
   "metadata": {},
   "outputs": [],
   "source": [
    "### 위 실습 예제에 이어서 \n",
    "# - 안내 메시지에 \"2. 전체 검색\" 추가\n",
    "# - 임의 번호 2번을 입력 받으면 ,\n",
    "#    --> 각 리스트 내에 있는 데이터를 모두 출력하기 \n",
    "#    --> 출력 예시 : \"홍길동님의 나이는 22살이고 부산에 거주하고 있습니다.\"\n",
    "#                  : \"이순신님의 나이는 55살이고 대전에 거주하고 있습니다.\""
   ]
  },
  {
   "cell_type": "code",
   "execution_count": 5,
   "id": "84995cb0-d7dd-4190-a5a1-c8cddba92f81",
   "metadata": {},
   "outputs": [
    {
     "name": "stdin",
     "output_type": "stream",
     "text": [
      "아래 번호 중에 하나를 선탁하여 주세요(번호로 입력)\n",
      "0. 종료\n",
      "1. 리스트에 값 추가 \n",
      "2. 전체 검색\n",
      " 0\n"
     ]
    },
    {
     "name": "stdout",
     "output_type": "stream",
     "text": [
      "이제 끄으읕~\n"
     ]
    }
   ],
   "source": [
    "name = []\n",
    "age = []\n",
    "area = [] \n",
    "\n",
    "msg = \"\"\"아래 번호 중에 하나를 선탁하여 주세요(번호로 입력)\n",
    "0. 종료\n",
    "1. 리스트에 값 추가 \n",
    "2. 전체 검색\n",
    "\"\"\"\n",
    "while True :\n",
    "    a = int(input(msg))\n",
    "    if a == 0 :\n",
    "        print(\"이제 끄으읕~\")\n",
    "        break  \n",
    "    elif a == 1 : \n",
    "        p_name=input(\"[이름]를 입력해 주세요 : \")\n",
    "\n",
    "        if p_name in name :\n",
    "            print(f\"{p_name}의 정보가 이미 존재합니다.\")\n",
    "            continue\n",
    "        \n",
    "        p_age=input(\"[나이]를 입력해 주세요 : \")\n",
    "        p_area=input(\"지역을 입력해주세요 : \")\n",
    "\n",
    "        if p_name not in name :\n",
    "            name.append(p_name)\n",
    "            age.append(p_age)\n",
    "            area.append(p_area)\n",
    "            print(f\"{name}님의 나이{(age)}와 지역{area}을 정상적으로 추가하였습니다.\")\n",
    "    elif a == 2 :\n",
    "        if len(name)== 0 :\n",
    "                print(\"등록된 정보가 없습니다 !!\")\n",
    "        else :\n",
    "            for i in range(len(name)):\n",
    "                print(f\"{name[i]}님의 나이는 {age[i]}살이고 {area[i]}에 거주하고 있습니다.\")\n",
    "    else :\n",
    "        print(\"0과 1과 2중에 선택하세요.\")\n",
    "\n",
    "    print()"
   ]
  },
  {
   "cell_type": "code",
   "execution_count": null,
   "id": "040962a7-d3d1-48d3-a517-64abeb194daa",
   "metadata": {},
   "outputs": [],
   "source": [
    "### - 안내메시지 \"3. 검색하기(이름 검색)\"\n",
    "#     -- 3번을 선택하면 \n",
    "#          --- 검색할 이름을 입력 받습니다.\n",
    "#          --- 입력 받은 이름이 존재한다면 \n",
    "#                -> 해당 이름에 대한 데이터 출력\n",
    "#                   (출력 예시 : \"홍길동님의 나이는 22살이고 부산에 거주하고 있습니다.\")\n",
    "#          --- 입력 받은 이름이 존재하지 않는다면\n",
    "#              -> \"등록된 정보가 없습니다.\" 출력 후 초기화면?"
   ]
  },
  {
   "cell_type": "code",
   "execution_count": 15,
   "id": "659cb155-d800-4778-ac70-9032d9c7a487",
   "metadata": {},
   "outputs": [
    {
     "name": "stdin",
     "output_type": "stream",
     "text": [
      "아래 번호 중에 하나를 선탁하여 주세요(번호로 입력)\n",
      "0. 종료\n",
      "1. 리스트에 값 추가 \n",
      "2. 전체 검색\n",
      "3. 검색하기(이름검색)\n",
      " 8\n"
     ]
    },
    {
     "name": "stdout",
     "output_type": "stream",
     "text": [
      "0, 1, 2, 3번 중에 선택하세요.\n",
      "\n"
     ]
    },
    {
     "name": "stdin",
     "output_type": "stream",
     "text": [
      "아래 번호 중에 하나를 선탁하여 주세요(번호로 입력)\n",
      "0. 종료\n",
      "1. 리스트에 값 추가 \n",
      "2. 전체 검색\n",
      "3. 검색하기(이름검색)\n",
      " 0\n"
     ]
    },
    {
     "name": "stdout",
     "output_type": "stream",
     "text": [
      "이제 끄으읕~\n"
     ]
    }
   ],
   "source": [
    "name = []\n",
    "age = []\n",
    "area = [] \n",
    "\n",
    "msg = \"\"\"아래 번호 중에 하나를 선탁하여 주세요(번호로 입력)\n",
    "0. 종료\n",
    "1. 리스트에 값 추가 \n",
    "2. 전체 검색\n",
    "3. 검색하기(이름검색)\n",
    "\"\"\"\n",
    "while True :\n",
    "    a = int(input(msg))\n",
    "    if a == 0 :\n",
    "        print(\"이제 끄으읕~\")\n",
    "        break  \n",
    "    elif a == 1 : \n",
    "        p_name=input(\"[이름]를 입력해 주세요 : \")\n",
    "\n",
    "        if p_name in name :\n",
    "            print(f\"{p_name}의 정보가 이미 존재합니다.\")\n",
    "            continue\n",
    "        \n",
    "        p_age=input(\"[나이]를 입력해 주세요 : \")\n",
    "        p_area=input(\"지역을 입력해주세요 : \")\n",
    "\n",
    "        if p_name not in name :\n",
    "            name.append(p_name)\n",
    "            age.append(p_age)\n",
    "            area.append(p_area)\n",
    "            print(f\"{name}님의 나이{(age)}와 지역{area}을 정상적으로 추가하였습니다.\")\n",
    "    elif a == 2 :\n",
    "        if len(name)== 0 :\n",
    "                print(\"등록된 정보가 없습니다 !!\")\n",
    "        else :\n",
    "            for i in range(len(name)):\n",
    "                print(f\"{name[i]}님의 나이는 {age[i]}살이고 {area[i]}에 거주하고 있습니다.\")\n",
    "    elif a == 3 :\n",
    "        p_name=input(\"[이름]를 입력해 주세요 : \") ## 검색할 이름 받기\n",
    "        \n",
    "        if p_name in name :\n",
    "            index = name.index(p_name)  # 해당 이름의 인덱스 찾기\n",
    "            print(f\"{name[index]}님의 나이는 {age[index]}살이고 {area[index]}에 거주하고 있습니다.\")\n",
    "            # for i in range(len(name)):\n",
    "            #     if name[i] == p_name :\n",
    "            #         print(f\"{name[i]}님의 나이는 {age[i]}살이고 {area[i]}에 거주하고 있습니다.\")\n",
    "        else :\n",
    "            print(\"등록된 정보가 없습니다.\")\n",
    "            \n",
    "    else :\n",
    "        print(\"0, 1, 2, 3번 중에 선택하세요.\")\n",
    "\n",
    "    print()"
   ]
  },
  {
   "cell_type": "code",
   "execution_count": 16,
   "id": "12a4855c-e240-4132-ad41-6024ec2d49e5",
   "metadata": {},
   "outputs": [],
   "source": [
    "### 안내 메시지에 \"4. 삭제하기(특정 이름)\" 추가\n",
    "# - 4번이 선택된 경우에\n",
    "#    -- \"삭제하고자 하는 이름을 입력하세요\" 입력으로 받기\n",
    "#    -- 삭제할 이름이 존재하는지 확인 \n",
    "#       -- 존재하지 않으면 : \"삭제하고자 하는 이름이 존재하지 않습니다.\" 출력 후 처음화면\n",
    "#       -- 존재한다면 \n",
    "#           --> 해당 이름에 해당하는 리스트 위치와 이름, 나이, 지역 삭제하기\n",
    "#           --> 삭제 완료 후 \"정삭적으로 삭제 되었습니다!\" 출력 후 처음 화면으로 \n",
    "# - 삭제 확인 : 2번 전체 검색으로 확인"
   ]
  },
  {
   "cell_type": "code",
   "execution_count": 37,
   "id": "0c705d13-004e-4fce-84e0-474176ab1a80",
   "metadata": {},
   "outputs": [
    {
     "name": "stdin",
     "output_type": "stream",
     "text": [
      "아래 번호 중에 하나를 선탁하여 주세요(번호로 입력)\n",
      "0. 종료\n",
      "1. 리스트에 값 추가 \n",
      "2. 전체 검색\n",
      "3. 검색하기(이름검색)\n",
      "4. 삭제하기\n",
      " 1\n",
      "[이름]를 입력해 주세요 :  이재원\n",
      "[나이]를 입력해 주세요 :  26살\n",
      "지역을 입력해주세요 :  서울\n"
     ]
    },
    {
     "name": "stdout",
     "output_type": "stream",
     "text": [
      "['이재원']님의 나이['26살']와 지역['서울']을 정상적으로 추가하였습니다.\n",
      "\n"
     ]
    },
    {
     "name": "stdin",
     "output_type": "stream",
     "text": [
      "아래 번호 중에 하나를 선탁하여 주세요(번호로 입력)\n",
      "0. 종료\n",
      "1. 리스트에 값 추가 \n",
      "2. 전체 검색\n",
      "3. 검색하기(이름검색)\n",
      "4. 삭제하기\n",
      " 1\n",
      "[이름]를 입력해 주세요 :  홍길동\n",
      "[나이]를 입력해 주세요 :  22\n",
      "지역을 입력해주세요 :  ㅅ울\n"
     ]
    },
    {
     "name": "stdout",
     "output_type": "stream",
     "text": [
      "['이재원', '홍길동']님의 나이['26살', '22']와 지역['서울', 'ㅅ울']을 정상적으로 추가하였습니다.\n",
      "\n"
     ]
    },
    {
     "name": "stdin",
     "output_type": "stream",
     "text": [
      "아래 번호 중에 하나를 선탁하여 주세요(번호로 입력)\n",
      "0. 종료\n",
      "1. 리스트에 값 추가 \n",
      "2. 전체 검색\n",
      "3. 검색하기(이름검색)\n",
      "4. 삭제하기\n",
      " 4\n",
      "[이름]를 입력해 주세요 :  이재원\n"
     ]
    },
    {
     "name": "stdout",
     "output_type": "stream",
     "text": [
      "정삭적으로 삭제 되었습니다.\n",
      "\n"
     ]
    },
    {
     "name": "stdin",
     "output_type": "stream",
     "text": [
      "아래 번호 중에 하나를 선탁하여 주세요(번호로 입력)\n",
      "0. 종료\n",
      "1. 리스트에 값 추가 \n",
      "2. 전체 검색\n",
      "3. 검색하기(이름검색)\n",
      "4. 삭제하기\n",
      " 0\n"
     ]
    },
    {
     "name": "stdout",
     "output_type": "stream",
     "text": [
      "이제 끄으읕~\n"
     ]
    }
   ],
   "source": [
    "name = []\n",
    "age = []\n",
    "area = [] \n",
    "\n",
    "msg = \"\"\"아래 번호 중에 하나를 선탁하여 주세요(번호로 입력)\n",
    "0. 종료\n",
    "1. 리스트에 값 추가 \n",
    "2. 전체 검색\n",
    "3. 검색하기(이름검색)\n",
    "4. 삭제하기\n",
    "\"\"\"\n",
    "while True :\n",
    "    a = int(input(msg))\n",
    "    if a == 0 :\n",
    "        print(\"이제 끄으읕~\")\n",
    "        break  \n",
    "    elif a == 1 : \n",
    "        p_name=input(\"[이름]를 입력해 주세요 : \")\n",
    "\n",
    "        if p_name in name :\n",
    "            print(f\"{p_name}의 정보가 이미 존재합니다.\")\n",
    "            continue\n",
    "        \n",
    "        p_age=input(\"[나이]를 입력해 주세요 : \")\n",
    "        p_area=input(\"지역을 입력해주세요 : \")\n",
    "\n",
    "        if p_name not in name :\n",
    "            name.append(p_name)\n",
    "            age.append(p_age)\n",
    "            area.append(p_area)\n",
    "            print(f\"{name}님의 나이{(age)}와 지역{area}을 정상적으로 추가하였습니다.\")\n",
    "    elif a == 2 :\n",
    "        if len(name)== 0 :\n",
    "                print(\"등록된 정보가 없습니다 !!\")\n",
    "        else :\n",
    "            for i in range(len(name)):\n",
    "                print(f\"{name[i]}님의 나이는 {age[i]}살이고 {area[i]}에 거주하고 있습니다.\")\n",
    "    elif a == 3 :\n",
    "        p_name=input(\"[이름]를 입력해 주세요 : \") ## 검색할 이름 받기\n",
    "        \n",
    "        if p_name in name :\n",
    "            index = name.index(p_name)  # 해당 이름의 인덱스 찾기\n",
    "            print(f\"{name[index]}님의 나이는 {age[index]}살이고 {area[index]}에 거주하고 있습니다.\")\n",
    "            # for i in range(len(name)):\n",
    "            #     if name[i] == p_name :\n",
    "            #         print(f\"{name[i]}님의 나이는 {age[i]}살이고 {area[i]}에 거주하고 있습니다.\")\n",
    "        else :\n",
    "            print(\"등록된 정보가 없습니다.\")\n",
    "\n",
    "    elif a == 4 :\n",
    "        d_name=input(\"[이름]를 입력해 주세요 : \") ## 삭제할 이름 받기 del 함수 사용하기\n",
    "        if d_name in name :\n",
    "            i = name.index(d_name)\n",
    "            # for i in range(len(name)):\n",
    "            #     if name[i] == p_name :\n",
    "            del name[i], age[i], area[i]\n",
    "            print(\"정삭적으로 삭제 되었습니다.\")\n",
    "        else : \n",
    "             print(\"삭제하고자 하는 이름이 존재하지 않습니다.\")\n",
    "    else :\n",
    "        print(\"0, 1, 2, 3, 4번 중에 선택하세요.\")\n",
    "\n",
    "    print()"
   ]
  },
  {
   "cell_type": "code",
   "execution_count": 38,
   "id": "80979e34-a455-4ec2-bc7a-4b5b2aaab08e",
   "metadata": {},
   "outputs": [],
   "source": [
    "### 안내 메시지에 \" 5. 수정하기 \"추가\n",
    "# - 5번이 선택되면 \n",
    "#    (조별로, 시나리오를 만들어서 처리)"
   ]
  },
  {
   "cell_type": "code",
   "execution_count": 4,
   "id": "d3c5d99d-5343-4d72-ba1d-d8e835fa9b07",
   "metadata": {},
   "outputs": [
    {
     "name": "stdin",
     "output_type": "stream",
     "text": [
      "아래 번호 중에 하나를 선탁하여 주세요(번호로 입력)\n",
      "0. 종료\n",
      "1. 리스트에 값 추가 \n",
      "2. 전체 검색\n",
      "3. 검색하기(이름검색)\n",
      "4. 삭제하기\n",
      "5. 수정하기\n",
      " 1\n",
      "[이름]를 입력해 주세요 :  재원\n",
      "[나이]를 입력해 주세요 :  26\n",
      "지역을 입력해주세요 :  서울\n"
     ]
    },
    {
     "name": "stdout",
     "output_type": "stream",
     "text": [
      "재원님의 나이 26와 지역 서울을 정상적으로 추가하였습니다.\n",
      "\n"
     ]
    },
    {
     "name": "stdin",
     "output_type": "stream",
     "text": [
      "아래 번호 중에 하나를 선탁하여 주세요(번호로 입력)\n",
      "0. 종료\n",
      "1. 리스트에 값 추가 \n",
      "2. 전체 검색\n",
      "3. 검색하기(이름검색)\n",
      "4. 삭제하기\n",
      "5. 수정하기\n",
      " 1\n",
      "[이름]를 입력해 주세요 :  민영\n",
      "[나이]를 입력해 주세요 :  20\n",
      "지역을 입력해주세요 :  창원\n"
     ]
    },
    {
     "name": "stdout",
     "output_type": "stream",
     "text": [
      "민영님의 나이 20와 지역 창원을 정상적으로 추가하였습니다.\n",
      "\n"
     ]
    },
    {
     "name": "stdin",
     "output_type": "stream",
     "text": [
      "아래 번호 중에 하나를 선탁하여 주세요(번호로 입력)\n",
      "0. 종료\n",
      "1. 리스트에 값 추가 \n",
      "2. 전체 검색\n",
      "3. 검색하기(이름검색)\n",
      "4. 삭제하기\n",
      "5. 수정하기\n",
      " 1\n",
      "[이름]를 입력해 주세요 :  다현\n",
      "[나이]를 입력해 주세요 :  20\n",
      "지역을 입력해주세요 :  창원\n"
     ]
    },
    {
     "name": "stdout",
     "output_type": "stream",
     "text": [
      "다현님의 나이 20와 지역 창원을 정상적으로 추가하였습니다.\n",
      "\n"
     ]
    },
    {
     "name": "stdin",
     "output_type": "stream",
     "text": [
      "아래 번호 중에 하나를 선탁하여 주세요(번호로 입력)\n",
      "0. 종료\n",
      "1. 리스트에 값 추가 \n",
      "2. 전체 검색\n",
      "3. 검색하기(이름검색)\n",
      "4. 삭제하기\n",
      "5. 수정하기\n",
      " 1\n",
      "[이름]를 입력해 주세요 :  동근\n",
      "[나이]를 입력해 주세요 :  20\n",
      "지역을 입력해주세요 :  부산\n"
     ]
    },
    {
     "name": "stdout",
     "output_type": "stream",
     "text": [
      "동근님의 나이 20와 지역 부산을 정상적으로 추가하였습니다.\n",
      "\n"
     ]
    },
    {
     "name": "stdin",
     "output_type": "stream",
     "text": [
      "아래 번호 중에 하나를 선탁하여 주세요(번호로 입력)\n",
      "0. 종료\n",
      "1. 리스트에 값 추가 \n",
      "2. 전체 검색\n",
      "3. 검색하기(이름검색)\n",
      "4. 삭제하기\n",
      "5. 수정하기\n",
      " 5\n",
      "본인의 이름을 입력하세요:  재원\n"
     ]
    },
    {
     "name": "stdout",
     "output_type": "stream",
     "text": [
      "재원님의 나이는 26살이고 서울에 거주하고 있습니다.\n",
      "아래 번호 중에 하나를 선택하여 변경할 내용을 알려주세요(번호로 입력):\n",
      "                1. 이름\n",
      "                2. 나이 \n",
      "                3. 지역\n",
      "            \n"
     ]
    },
    {
     "name": "stdin",
     "output_type": "stream",
     "text": [
      "번호를 입력하세요:  3\n",
      "새로운 지역을 입력하세요:  부산\n"
     ]
    },
    {
     "name": "stdout",
     "output_type": "stream",
     "text": [
      "\n"
     ]
    },
    {
     "name": "stdin",
     "output_type": "stream",
     "text": [
      "아래 번호 중에 하나를 선탁하여 주세요(번호로 입력)\n",
      "0. 종료\n",
      "1. 리스트에 값 추가 \n",
      "2. 전체 검색\n",
      "3. 검색하기(이름검색)\n",
      "4. 삭제하기\n",
      "5. 수정하기\n",
      " 2\n"
     ]
    },
    {
     "name": "stdout",
     "output_type": "stream",
     "text": [
      "재원님의 나이는 26살이고 부산에 거주하고 있습니다.\n",
      "민영님의 나이는 20살이고 창원에 거주하고 있습니다.\n",
      "다현님의 나이는 20살이고 창원에 거주하고 있습니다.\n",
      "동근님의 나이는 20살이고 부산에 거주하고 있습니다.\n",
      "\n"
     ]
    },
    {
     "name": "stdin",
     "output_type": "stream",
     "text": [
      "아래 번호 중에 하나를 선탁하여 주세요(번호로 입력)\n",
      "0. 종료\n",
      "1. 리스트에 값 추가 \n",
      "2. 전체 검색\n",
      "3. 검색하기(이름검색)\n",
      "4. 삭제하기\n",
      "5. 수정하기\n",
      " 0\n"
     ]
    },
    {
     "name": "stdout",
     "output_type": "stream",
     "text": [
      "이제 끄으읕~\n"
     ]
    }
   ],
   "source": [
    "name = []\n",
    "age = []\n",
    "area = []\n",
    "\n",
    "msg = \"\"\"아래 번호 중에 하나를 선탁하여 주세요(번호로 입력)\n",
    "0. 종료\n",
    "1. 리스트에 값 추가 \n",
    "2. 전체 검색\n",
    "3. 검색하기(이름검색)\n",
    "4. 삭제하기\n",
    "5. 수정하기\n",
    "\"\"\"\n",
    "while True:\n",
    "    a = int(input(msg))\n",
    "    \n",
    "    if a == 0:\n",
    "        print(\"이제 끄으읕~\")\n",
    "        break  \n",
    "    elif a == 1:\n",
    "        p_name = input(\"[이름]를 입력해 주세요 : \")\n",
    "\n",
    "        if p_name in name:\n",
    "            print(f\"{p_name}의 정보가 이미 존재합니다.\")\n",
    "            continue\n",
    "        \n",
    "        p_age = input(\"[나이]를 입력해 주세요 : \")\n",
    "        p_area = input(\"지역을 입력해주세요 : \")\n",
    "\n",
    "        name.append(p_name)\n",
    "        age.append(p_age)\n",
    "        area.append(p_area)\n",
    "        print(f\"{p_name}님의 나이 {p_age}와 지역 {p_area}을 정상적으로 추가하였습니다.\")\n",
    "    \n",
    "    elif a == 2:\n",
    "        if not name:\n",
    "            print(\"등록된 정보가 없습니다 !!\")\n",
    "        else:\n",
    "            for i in range(len(name)):\n",
    "                print(f\"{name[i]}님의 나이는 {age[i]}살이고 {area[i]}에 거주하고 있습니다.\")\n",
    "    \n",
    "    elif a == 3:\n",
    "        p_name = input(\"[이름]를 입력해 주세요 : \")\n",
    "        \n",
    "        if p_name in name:\n",
    "            index = name.index(p_name)\n",
    "            print(f\"{name[index]}님의 나이는 {age[index]}살이고 {area[index]}에 거주하고 있습니다.\")\n",
    "        else:\n",
    "            print(\"등록된 정보가 없습니다.\")\n",
    "\n",
    "    elif a == 4:\n",
    "        d_name = input(\"[이름]를 입력해 주세요 : \")\n",
    "        \n",
    "        if d_name in name:\n",
    "            i = name.index(d_name)\n",
    "            del name[i], age[i], area[i]\n",
    "            print(\"정상적으로 삭제되었습니다.\")\n",
    "        else:\n",
    "            print(\"삭제하고자 하는 이름이 존재하지 않습니다.\")\n",
    "\n",
    "    elif a == 5:\n",
    "        k = input(\"본인의 이름을 입력하세요: \")\n",
    "        \n",
    "        if k in name:\n",
    "            m = name.index(k)\n",
    "            print(f\"{name[m]}님의 나이는 {age[m]}살이고 {area[m]}에 거주하고 있습니다.\")\n",
    "            print(\"\"\"아래 번호 중에 하나를 선택하여 변경할 내용을 알려주세요(번호로 입력):\n",
    "                1. 이름\n",
    "                2. 나이 \n",
    "                3. 지역\n",
    "            \"\"\")\n",
    "            choice = int(input(\"번호를 입력하세요: \"))\n",
    "            \n",
    "            if choice == 1:\n",
    "                new_name = input(\"새로운 이름을 입력하세요: \")\n",
    "                name[m] = new_name\n",
    "                print(\"원하는 이름으로 변환되었습니다. 축하드립니다.\")\n",
    "            elif choice == 2:\n",
    "                new_age = input(\"새로운 나이를 입력하세요: \")\n",
    "                age[m] = new_age\n",
    "                print(\"나이가 변경되었습니다. 감사합니다.\")\n",
    "            elif choice == 3:\n",
    "                new_area = input(\"새로운 지역을 입력하세요: \")\n",
    "                area[m] = new_area\n",
    "                print(\"주소가 변경되었습니다. 감사합니다.\")\n",
    "            else:\n",
    "                print(\"잘못된 선택입니다.\")\n",
    "        else:\n",
    "            print(\"해당 정보가 존재하지 않습니다.\")\n",
    "        \n",
    "    else:\n",
    "        print(\"0, 1, 2, 3, 4, 5번 중에 선택하세요.\")\n",
    "\n",
    "    print()"
   ]
  },
  {
   "cell_type": "code",
   "execution_count": null,
   "id": "5b49549c-d980-45dc-a288-06d87533913c",
   "metadata": {},
   "outputs": [],
   "source": []
  },
  {
   "cell_type": "code",
   "execution_count": null,
   "id": "ba44a3cc-6366-4aa2-b69e-520df2f05811",
   "metadata": {},
   "outputs": [],
   "source": []
  }
 ],
 "metadata": {
  "kernelspec": {
   "display_name": "bk_base_202503_kernel",
   "language": "python",
   "name": "bk_base_202503"
  },
  "language_info": {
   "codemirror_mode": {
    "name": "ipython",
    "version": 3
   },
   "file_extension": ".py",
   "mimetype": "text/x-python",
   "name": "python",
   "nbconvert_exporter": "python",
   "pygments_lexer": "ipython3",
   "version": "3.9.21"
  }
 },
 "nbformat": 4,
 "nbformat_minor": 5
}
