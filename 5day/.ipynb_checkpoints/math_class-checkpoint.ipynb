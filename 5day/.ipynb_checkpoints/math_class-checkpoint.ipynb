{
 "cells": [
  {
   "cell_type": "code",
   "execution_count": null,
   "id": "7e02a48c-4a88-4eea-b5a9-e4f8fb13b7f1",
   "metadata": {},
   "outputs": [],
   "source": [
    "class Math : \n",
    "    ### 생성자 함수 정의하기\n",
    "    # - 외부에서 클래스 생성시에 미리 값을 정의하고자 할 때 넘겨받을 값을 처리함\n",
    "    def __init__(self, **data) :    ### 생성자 함수 (없어도 호출되는 디폴트 값)\n",
    "        print(\"생성자가 호출되었습니다.\")\n",
    "        self.setAppendList(data)\n",
    "    \n",
    "    ### 리스트 변수\n",
    "    list_temp = [] ## 클래스 안에 있음 - 클래스 안에서 사용 가능 \n",
    "\n",
    "    ### setTuple_AppList()\n",
    "    # - 딕셔너리 타입을 리스트에 추가하는 함수 정의\n",
    "    def setDict_AppList(self, **data) :\n",
    "        self.setAppendList(data)\n",
    "    \n",
    "    ### 리스트에 데이터 추가하는 함수 정의 \n",
    "    def setAppendList(self, p_name) :    \n",
    "        self.list_temp.append(p_name)   # self. 은 접근 가능한 리스트 템프와 셋어펜드리스트가 나옴\n",
    "\n",
    "    ### 여러개의 문자열을 튜플 타입으로 반환\n",
    "    def getTuple(self, *string) :\n",
    "        return string\n",
    "\n",
    "    ### 여러개의 key = value를 딕셔너리 타입을 반환\n",
    "    def getDict(self, **info) :\n",
    "        return info"
   ]
  }
 ],
 "metadata": {
  "kernelspec": {
   "display_name": "bk_base_202503_kernel",
   "language": "python",
   "name": "bk_base_202503"
  },
  "language_info": {
   "codemirror_mode": {
    "name": "ipython",
    "version": 3
   },
   "file_extension": ".py",
   "mimetype": "text/x-python",
   "name": "python",
   "nbconvert_exporter": "python",
   "pygments_lexer": "ipython3",
   "version": "3.9.21"
  }
 },
 "nbformat": 4,
 "nbformat_minor": 5
}
