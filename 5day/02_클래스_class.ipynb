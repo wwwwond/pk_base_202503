{
 "cells": [
  {
   "cell_type": "code",
   "execution_count": null,
   "id": "62ab979b-e0cb-4cdb-be43-c87389acdaa4",
   "metadata": {},
   "outputs": [],
   "source": []
  },
  {
   "cell_type": "code",
   "execution_count": 6,
   "id": "3f46b63e-7549-4d86-b354-987824cdaf4d",
   "metadata": {},
   "outputs": [],
   "source": [
    "### 클래스\n",
    "# - 클래스 이름은 대문자로 시작합니다.\n",
    "# - 변수를 멤버 변수, 함수를 멤버 함수라고 칭합니다.\n",
    "# - 함수를 정의할 때, 매개변수에는 무조건 self라는 단어를 처음에 제시해야합니다.\n",
    "#  -- self는 클래스 내에서 전역변수로 사용하겠다는 의미를 가집니다.\n",
    "#  -- self로 정의된 변수들은 모두 외부에서 접근이 가능합니다.\n",
    "class Math : \n",
    "    ### 리스트 변수\n",
    "    list_temp = []\n",
    "\n",
    "    ### 리스트에 데이터 추가하는 함수 정의 \n",
    "    def setAppendList(self, p_list,p_name) :\n",
    "        p_list.append(p_name)\n",
    "\n",
    "    ### 여러개의 문자열을 튜플 타입으로 반환\n",
    "    def getTuple(self, *string) :\n",
    "        return string\n",
    "\n",
    "    ### 여러개의 key = value를 딕셔너리 타입을 반환\n",
    "    def getDict(self, **info) :\n",
    "        return info"
   ]
  },
  {
   "cell_type": "code",
   "execution_count": 12,
   "id": "c4dde7ae-26ea-456f-81de-c9279ef42c3e",
   "metadata": {},
   "outputs": [
    {
     "name": "stdout",
     "output_type": "stream",
     "text": [
      "None\n"
     ]
    }
   ],
   "source": [
    "### class는 호출이 아닌 생성한다\n",
    "# - 생성과 동시에 메모리가 만들어 집니다.\n",
    "\n",
    "### 클래스 생성하기\n",
    "math = Math()\n",
    "a = math.setAppendList(math.list_temp,\n",
    "                   math.getDict(name = \"홍길동\", age = 11, area = \"부산\"))\n",
    "\n",
    "math.list_temp\n",
    "# <__main__.Math at 0x264374ae6a0> == 클래스의 주소"
   ]
  },
  {
   "cell_type": "code",
   "execution_count": 9,
   "id": "b89ca3aa-c1dd-42de-9ada-a4f81e5ac731",
   "metadata": {},
   "outputs": [
    {
     "data": {
      "text/plain": [
       "[{'name': '홍길동', 'age': 11, 'area': '부산'}]"
      ]
     },
     "execution_count": 9,
     "metadata": {},
     "output_type": "execute_result"
    }
   ],
   "source": [
    "math.list_temp"
   ]
  },
  {
   "cell_type": "code",
   "execution_count": 13,
   "id": "7056fc21-8318-477a-9a12-5c21fd541b46",
   "metadata": {},
   "outputs": [],
   "source": [
    "class Math : \n",
    "    ### 리스트 변수\n",
    "    list_temp = [] ## 클래스 안에 있음 - 클래스 안에서 사용 가능 \n",
    "\n",
    "    ### 리스트에 데이터 추가하는 함수 정의 \n",
    "    def setAppendList(self, p_name) :    \n",
    "        self.list_temp.append(p_name)   # self. 은 접근 가능한 리스트 템프와 셋어펜드리스트가 나옴\n",
    "\n",
    "    ### 여러개의 문자열을 튜플 타입으로 반환\n",
    "    def getTuple(self, *string) :\n",
    "        return string\n",
    "\n",
    "    ### 여러개의 key = value를 딕셔너리 타입을 반환\n",
    "    def getDict(self, **info) :\n",
    "        return info"
   ]
  },
  {
   "cell_type": "code",
   "execution_count": 15,
   "id": "41b3bfcd-95b2-4e4f-87db-9f7e9d907ae6",
   "metadata": {},
   "outputs": [
    {
     "data": {
      "text/plain": [
       "[{'name': '홍길동', 'age': 11, 'area': '부산'}]"
      ]
     },
     "execution_count": 15,
     "metadata": {},
     "output_type": "execute_result"
    }
   ],
   "source": [
    "math1 = Math()\n",
    "math1.setAppendList(math1.getDict(name = \"홍길동\", age = 11, area = \"부산\"))\n",
    "\n",
    "math1.list_temp"
   ]
  },
  {
   "cell_type": "code",
   "execution_count": 23,
   "id": "2c2dd4d0-46fa-41a1-8e0b-23ecd05518be",
   "metadata": {},
   "outputs": [],
   "source": [
    "class Math : \n",
    "    ### 리스트 변수\n",
    "    list_temp = [] ## 클래스 안에 있음 - 클래스 안에서 사용 가능 \n",
    "\n",
    "    ### setTuple_AppList()\n",
    "    # - 딕셔너리 타입을 리스트에 추가하는 함수 정의\n",
    "    def setDict_AppList(self, **data) :\n",
    "        self.setAppendList(data)\n",
    "    \n",
    "    ### 리스트에 데이터 추가하는 함수 정의 \n",
    "    def setAppendList(self, p_name) :    \n",
    "        self.list_temp.append(p_name)   # self. 은 접근 가능한 리스트 템프와 셋어펜드리스트가 나옴\n",
    "\n",
    "    ### 여러개의 문자열을 튜플 타입으로 반환\n",
    "    def getTuple(self, *string) :\n",
    "        return string\n",
    "\n",
    "    ### 여러개의 key = value를 딕셔너리 타입을 반환\n",
    "    def getDict(self, **info) :\n",
    "        return info"
   ]
  },
  {
   "cell_type": "code",
   "execution_count": 24,
   "id": "e819f357-6fec-40ae-9a14-afcf1efbd14b",
   "metadata": {},
   "outputs": [
    {
     "data": {
      "text/plain": [
       "[{'name': '홍길동', 'age': 11, 'area': '부산'}]"
      ]
     },
     "execution_count": 24,
     "metadata": {},
     "output_type": "execute_result"
    }
   ],
   "source": [
    "### 클래스 생성하기\n",
    "math2 = Math()\n",
    "math2.setDict_AppList(name = \"홍길동\", age = 11, area = \"부산\")\n",
    "math2.list_temp"
   ]
  },
  {
   "cell_type": "code",
   "execution_count": 32,
   "id": "8bb9fc30-a460-40bf-8ea2-f6cf2474820f",
   "metadata": {},
   "outputs": [],
   "source": [
    "class Math : \n",
    "    ### 생성자 함수 정의하기\n",
    "    # - 외부에서 클래스 생성시에 미리 값을 정의하고자 할 때 넘겨받을 값을 처리함\n",
    "    def __init__(self, **data) :    ### 생성자 함수 (없어도 호출되는 디폴트 값)\n",
    "        print(\"생성자가 호출되었습니다.\")\n",
    "        self.setAppendList(data)\n",
    "    \n",
    "    ### 리스트 변수\n",
    "    list_temp = [] ## 클래스 안에 있음 - 클래스 안에서 사용 가능 \n",
    "\n",
    "    ### setTuple_AppList()\n",
    "    # - 딕셔너리 타입을 리스트에 추가하는 함수 정의\n",
    "    def setDict_AppList(self, **data) :\n",
    "        self.setAppendList(data)\n",
    "    \n",
    "    ### 리스트에 데이터 추가하는 함수 정의 \n",
    "    def setAppendList(self, p_name) :    \n",
    "        self.list_temp.append(p_name)   # self. 은 접근 가능한 리스트 템프와 셋어펜드리스트가 나옴\n",
    "\n",
    "    ### 여러개의 문자열을 튜플 타입으로 반환\n",
    "    def getTuple(self, *string) :\n",
    "        return string\n",
    "\n",
    "    ### 여러개의 key = value를 딕셔너리 타입을 반환\n",
    "    def getDict(self, **info) :\n",
    "        return info"
   ]
  },
  {
   "cell_type": "code",
   "execution_count": 33,
   "id": "ff0c08e9-da13-492d-9f0d-15f7a069fdf0",
   "metadata": {},
   "outputs": [
    {
     "name": "stdout",
     "output_type": "stream",
     "text": [
      "생성자가 호출되었습니다.\n"
     ]
    },
    {
     "data": {
      "text/plain": [
       "[{}, {'name': '홍길동', 'age': 11, 'area': '부산'}]"
      ]
     },
     "execution_count": 33,
     "metadata": {},
     "output_type": "execute_result"
    }
   ],
   "source": [
    "### 클래스 생성하기\n",
    "math3 = Math()\n",
    "math3.setDict_AppList(name = \"홍길동\", age = 11, area = \"부산\")\n",
    "math3.list_temp"
   ]
  },
  {
   "cell_type": "code",
   "execution_count": 34,
   "id": "644fab8c-6c62-4b84-8957-82d00c371b6a",
   "metadata": {},
   "outputs": [
    {
     "name": "stdout",
     "output_type": "stream",
     "text": [
      "생성자가 호출되었습니다.\n"
     ]
    },
    {
     "data": {
      "text/plain": [
       "[{},\n",
       " {'name': '홍길동', 'age': 11, 'area': '부산'},\n",
       " {'name': '홍길동', 'age': 11, 'area': '부산'},\n",
       " {}]"
      ]
     },
     "execution_count": 34,
     "metadata": {},
     "output_type": "execute_result"
    }
   ],
   "source": [
    "### 클래스 생성하기\n",
    "math4 = Math(name = \"홍길동\", age = 11, area = \"부산\")\n",
    "math4.setDict_AppList()\n",
    "math4.list_temp"
   ]
  },
  {
   "cell_type": "markdown",
   "id": "d2aae19a-56d5-4d89-b751-dc08825d8b90",
   "metadata": {},
   "source": [
    "#### 외부 모듈(라이브러리) 불러들이기"
   ]
  },
  {
   "cell_type": "code",
   "execution_count": 2,
   "id": "29310546-3202-4ad3-b1f9-12e34d273c0d",
   "metadata": {},
   "outputs": [
    {
     "name": "stdout",
     "output_type": "stream",
     "text": [
      "생성자가 호출되었습니다.\n"
     ]
    },
    {
     "data": {
      "text/plain": [
       "[{'name': '홍길동', 'age': 11, 'area': '부산'}, {}]"
      ]
     },
     "execution_count": 2,
     "metadata": {},
     "output_type": "execute_result"
    }
   ],
   "source": [
    "### 외부의 .py 파일 불러들이기\n",
    "# - 모듈 불러들이기 : import\n",
    "# - 커널 리스타트 한 후 아래 진행\n",
    "import math_class\n"
   ]
  },
  {
   "cell_type": "code",
   "execution_count": 6,
   "id": "e78806b6-af61-4010-9a20-360cda9b1a41",
   "metadata": {},
   "outputs": [
    {
     "name": "stdout",
     "output_type": "stream",
     "text": [
      "생성자가 호출되었습니다.\n"
     ]
    },
    {
     "data": {
      "text/plain": [
       "[{'name': '홍길동', 'age': 11, 'area': '부산'},\n",
       " {},\n",
       " {'name': '홍길동', 'age': 11, 'area': '부산'},\n",
       " {'name': '홍길동', 'age': 11, 'area': '부산'}]"
      ]
     },
     "execution_count": 6,
     "metadata": {},
     "output_type": "execute_result"
    }
   ],
   "source": [
    "math5 = Math(name = \"홍길동\", age = 11, area = \"부산\")\n",
    "math5.list_temp"
   ]
  },
  {
   "cell_type": "code",
   "execution_count": 7,
   "id": "b19d08a0-4558-4f52-8aa8-447365698a68",
   "metadata": {},
   "outputs": [],
   "source": [
    "### 불러들이는 방법 2\n",
    "\n",
    "from math_class import Math"
   ]
  },
  {
   "cell_type": "code",
   "execution_count": 8,
   "id": "5743ab80-e0df-4906-bc4e-f9ff96aa50fd",
   "metadata": {},
   "outputs": [
    {
     "name": "stdout",
     "output_type": "stream",
     "text": [
      "생성자가 호출되었습니다.\n"
     ]
    },
    {
     "data": {
      "text/plain": [
       "[{'name': '홍길동', 'age': 11, 'area': '부산'},\n",
       " {},\n",
       " {'name': '홍길동', 'age': 11, 'area': '부산'},\n",
       " {'name': '홍길동', 'age': 11, 'area': '부산'},\n",
       " {'name': '홍길동', 'age': 11, 'area': '부산'}]"
      ]
     },
     "execution_count": 8,
     "metadata": {},
     "output_type": "execute_result"
    }
   ],
   "source": [
    "math6 = Math(name = \"홍길동\", age = 11, area = \"부산\")\n",
    "math6.list_temp"
   ]
  },
  {
   "cell_type": "code",
   "execution_count": 9,
   "id": "bb1dfd74-e2c3-4d24-8fbe-30f3e3b67210",
   "metadata": {},
   "outputs": [],
   "source": [
    "### 불러들이는 방법 3번째\n",
    "# as : 별칭 (이름이 긴 경우에 사용함)\n",
    "# from 뒤에는 : 폴더명 또는 파일명 \n",
    "# import 뒤에는 : 파일명 또는 클래스명 또는 함수명\n",
    "#               : from 없이 사용하는 경우엔 파일명\n",
    "#               : from 뒤에 사용하는 경우엔 클래스명, 함수명\n",
    "from math_class import Math as M"
   ]
  },
  {
   "cell_type": "code",
   "execution_count": 11,
   "id": "371c34be-56d3-4a62-abab-54a8eb142cc0",
   "metadata": {},
   "outputs": [
    {
     "name": "stdout",
     "output_type": "stream",
     "text": [
      "생성자가 호출되었습니다.\n"
     ]
    },
    {
     "data": {
      "text/plain": [
       "[{'name': '홍길동', 'age': 11, 'area': '부산'},\n",
       " {},\n",
       " {'name': '홍길동', 'age': 11, 'area': '부산'},\n",
       " {'name': '홍길동', 'age': 11, 'area': '부산'},\n",
       " {'name': '홍길동', 'age': 11, 'area': '부산'},\n",
       " {'name': '홍길동', 'age': 11, 'area': '부산'},\n",
       " {'name': '홍길동', 'age': 11, 'area': '부산'}]"
      ]
     },
     "execution_count": 11,
     "metadata": {},
     "output_type": "execute_result"
    }
   ],
   "source": [
    "math7 = M(name = \"홍길동\", age = 11, area = \"부산\")\n",
    "math7.list_temp"
   ]
  },
  {
   "cell_type": "code",
   "execution_count": 18,
   "id": "6f25c65b-3a85-427f-aad4-a36ba318cc3e",
   "metadata": {},
   "outputs": [],
   "source": [
    "### 불러들이는 방법 4번째\n",
    "# 폴더 안에 있는 파일의 경우\n",
    "# 파일이 생기거나 했을 때 커널 리 스타트\n",
    "from lib.math_class_lib import Math as M2\n",
    "from lib.math_class_lib import Math as M3"
   ]
  },
  {
   "cell_type": "code",
   "execution_count": 19,
   "id": "900c1715-66e4-4433-9164-e5edabb56d25",
   "metadata": {},
   "outputs": [
    {
     "name": "stdout",
     "output_type": "stream",
     "text": [
      "생성자가 호출되었습니다.\n"
     ]
    },
    {
     "data": {
      "text/plain": [
       "[{'name': '홍길동', 'age': 11, 'area': '부산'}]"
      ]
     },
     "execution_count": 19,
     "metadata": {},
     "output_type": "execute_result"
    }
   ],
   "source": [
    "math8 = M2(name = \"홍길동\", age = 11, area = \"부산\")\n",
    "math8.list_temp"
   ]
  },
  {
   "cell_type": "code",
   "execution_count": 20,
   "id": "44ef4959-5c27-43f8-8e6b-3e987a4cde3c",
   "metadata": {},
   "outputs": [],
   "source": [
    "from lib.math_class_lib import getTotSum"
   ]
  },
  {
   "cell_type": "code",
   "execution_count": 17,
   "id": "db54be88-8ec0-4a59-aca2-5ec3dfdd7317",
   "metadata": {},
   "outputs": [
    {
     "data": {
      "text/plain": [
       "10"
      ]
     },
     "execution_count": 17,
     "metadata": {},
     "output_type": "execute_result"
    }
   ],
   "source": [
    "getTotSum(1,2,3,4)"
   ]
  },
  {
   "cell_type": "code",
   "execution_count": null,
   "id": "007ae32c-02f6-416c-a8e6-575d23fe0474",
   "metadata": {},
   "outputs": [],
   "source": []
  },
  {
   "cell_type": "markdown",
   "id": "2354cf16-d00a-441d-b04d-1829741ca937",
   "metadata": {},
   "source": [
    "#### 한줄 코딩"
   ]
  },
  {
   "cell_type": "code",
   "execution_count": 21,
   "id": "52fa8349-952c-42da-912f-58b5735d66d3",
   "metadata": {},
   "outputs": [
    {
     "data": {
      "text/plain": [
       "[0, 1, 2, 3, 4, 5, 6, 7, 8, 9]"
      ]
     },
     "execution_count": 21,
     "metadata": {},
     "output_type": "execute_result"
    }
   ],
   "source": [
    "list_temp = list(range(10))\n",
    "list_temp"
   ]
  },
  {
   "cell_type": "code",
   "execution_count": 22,
   "id": "50db7deb-aa29-4917-88a9-ed8fea366eef",
   "metadata": {},
   "outputs": [
    {
     "name": "stdout",
     "output_type": "stream",
     "text": [
      "0 1 2 3 4 5 6 7 8 9 "
     ]
    }
   ],
   "source": [
    "for i in list_temp :\n",
    "    print(i, end=\" \")"
   ]
  },
  {
   "cell_type": "code",
   "execution_count": 23,
   "id": "92b8e10b-b3f3-4d4b-9ecb-3e59abffde67",
   "metadata": {},
   "outputs": [
    {
     "data": {
      "text/plain": [
       "[0, 1, 2, 3, 4, 5, 6, 7, 8, 9]"
      ]
     },
     "execution_count": 23,
     "metadata": {},
     "output_type": "execute_result"
    }
   ],
   "source": [
    "### 한줄 for문 (단출 for문)\n",
    "[i for i in list_temp]\n",
    "\n",
    "### [0] + [1] + [2] + .. [9] = [0, 1, 2, 3, 4, 5, 6, 7, 8, 9]"
   ]
  },
  {
   "cell_type": "code",
   "execution_count": 24,
   "id": "cb36615f-28c0-41c7-928f-7bebea640f36",
   "metadata": {},
   "outputs": [
    {
     "data": {
      "text/plain": [
       "'0 1 2 3 4 5 6 7 8 9'"
      ]
     },
     "execution_count": 24,
     "metadata": {},
     "output_type": "execute_result"
    }
   ],
   "source": [
    "### 출력하기 \n",
    "\" \".join(str(i) for i in list_temp)"
   ]
  },
  {
   "cell_type": "code",
   "execution_count": 25,
   "id": "ebc8696a-4327-441d-9b44-b785e15c26bb",
   "metadata": {},
   "outputs": [
    {
     "data": {
      "text/plain": [
       "[[0, 1, 2, 3, 4, 5, 6, 7, 8, 9], [10, 11, 12]]"
      ]
     },
     "execution_count": 25,
     "metadata": {},
     "output_type": "execute_result"
    }
   ],
   "source": [
    "### 2차원 list 만들기\n",
    "list_2dim = [list(range(10)),[10,11,12]]\n",
    "list_2dim"
   ]
  },
  {
   "cell_type": "code",
   "execution_count": 26,
   "id": "b0009215-4b3f-495e-a8fb-60acbfc0b33c",
   "metadata": {},
   "outputs": [
    {
     "name": "stdout",
     "output_type": "stream",
     "text": [
      "0 1 2 3 4 5 6 7 8 9 10 11 12 "
     ]
    }
   ],
   "source": [
    "for list_data in list_2dim :\n",
    "    for j in list_data :\n",
    "        print(j, end = \" \")"
   ]
  },
  {
   "cell_type": "code",
   "execution_count": 29,
   "id": "114e6694-fd58-4e95-92d2-d01e1674944d",
   "metadata": {},
   "outputs": [
    {
     "data": {
      "text/plain": [
       "[0, 1, 2, 3, 4, 5, 6, 7, 8, 9, 10, 11, 12]"
      ]
     },
     "execution_count": 29,
     "metadata": {},
     "output_type": "execute_result"
    }
   ],
   "source": [
    "### 한줄 코딩으로 2차원 for문 수행\n",
    "# - 대괄호 또는 튜플 또는 딕셔너리 등등 안에서 수행\n",
    "[j for list_data in list_2dim for j in list_data]"
   ]
  },
  {
   "cell_type": "code",
   "execution_count": 30,
   "id": "4e749257-5a0d-4ee5-8a52-02366138209b",
   "metadata": {},
   "outputs": [
    {
     "name": "stdout",
     "output_type": "stream",
     "text": [
      "참\n"
     ]
    }
   ],
   "source": [
    "### if문 한줄 코딩\n",
    "v = 3\n",
    "if v < 5 : print(\"참\")\n",
    "else : print(\"거짓\")"
   ]
  },
  {
   "cell_type": "code",
   "execution_count": 31,
   "id": "87058989-70e0-459b-9a98-280bdf0f67be",
   "metadata": {},
   "outputs": [
    {
     "name": "stdout",
     "output_type": "stream",
     "text": [
      "참\n"
     ]
    }
   ],
   "source": [
    "print(\"참\" if v < 5 else \"거짓\")"
   ]
  },
  {
   "cell_type": "code",
   "execution_count": 33,
   "id": "a746b63f-800a-4973-99a2-e34f08b8facc",
   "metadata": {},
   "outputs": [
    {
     "name": "stdout",
     "output_type": "stream",
     "text": [
      "중립\n"
     ]
    }
   ],
   "source": [
    "v = 6\n",
    "if v < 5 : \n",
    "    print(\"참\")\n",
    "elif v < 10 :\n",
    "    print(\"중립\")\n",
    "else : \n",
    "    print(\"거짓\")"
   ]
  },
  {
   "cell_type": "code",
   "execution_count": 34,
   "id": "f5d0ad0e-85fe-4016-a49b-fca6b6cc4b3d",
   "metadata": {},
   "outputs": [
    {
     "name": "stdout",
     "output_type": "stream",
     "text": [
      "중립\n"
     ]
    }
   ],
   "source": [
    "### 한줄 코딩 \n",
    "print(\"참\" if v < 5 else \"중립\" if v < 10 else \"거짓\" )"
   ]
  },
  {
   "cell_type": "code",
   "execution_count": null,
   "id": "84522671-7f68-4e72-bb29-69558821c760",
   "metadata": {},
   "outputs": [],
   "source": []
  }
 ],
 "metadata": {
  "kernelspec": {
   "display_name": "bk_base_202503_kernel",
   "language": "python",
   "name": "bk_base_202503"
  },
  "language_info": {
   "codemirror_mode": {
    "name": "ipython",
    "version": 3
   },
   "file_extension": ".py",
   "mimetype": "text/x-python",
   "name": "python",
   "nbconvert_exporter": "python",
   "pygments_lexer": "ipython3",
   "version": "3.9.21"
  }
 },
 "nbformat": 4,
 "nbformat_minor": 5
}
