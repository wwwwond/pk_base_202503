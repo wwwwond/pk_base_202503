{
 "cells": [
  {
   "cell_type": "code",
   "execution_count": 1,
   "id": "f4ed22a9-10a4-495f-9ff8-56e0d26d0e71",
   "metadata": {},
   "outputs": [
    {
     "data": {
      "text/plain": [
       "'\\n<함수(Function, method)>\\n - 자주 반복해서 사용해야하는 코드를 미리 하나의 이름으로 정의해 놓은 것\\n - 자주 반복해서 사용해야하는 기능, 기능은 함수\\n - 자주 반복하지 않더라도, 가끔 사용 또는 코드가 너무 긴 경우 사용\\n\\n <함수 작성 순서(정해진 것은 아님)>\\n 1. 프로그램을 먼저 작성(절차적 테스트)\\n 2. 오류가 없는 상태로 테스트\\n 3. 자주 반복해서 사용되는 부분을 하나의 이름으로 별도로 정의(함수 정의)\\n    - 함수 정의시 가급적 -> 정의된 숫자값은 사용하지 않기 \\n    - 함수를 정의 규칙 -> 함수 이름은 소문자로 시작합니다.\\n                       -> 함수 이름 뒤에는 소괄호()가 항상 있습니다.\\n    - 함수 이름 작명할 때 --> getXxx(), setXxx() Ex) getTotal(), setInsert()\\n 4. 정의된 함수를 호출하여 사용 (함수 호출.)\\n \\n ### 프로그램 완성 후 오류가 없는 상태에서 \\n     반복되는 코드 확인 \\n     반복되는 코드를 함수로 정의 (ex:def 등 임의의 아무 단어 가능 소문자이고 소괄호를 뒤에 붙이고 괄호 안에 자주 사용되는 코드 입력) \\n     Ex: def.hello()\\n         print(hello world)        -> hello () 출력시 hello world가 나옴\\n\\n    함수 = 계산기 (자주 사용하고 필요하기에 생성된 계산기)\\n'"
      ]
     },
     "execution_count": 1,
     "metadata": {},
     "output_type": "execute_result"
    }
   ],
   "source": [
    "\"\"\"\n",
    "<함수(Function, method)>\n",
    " - 자주 반복해서 사용해야하는 코드를 미리 하나의 이름으로 정의해 놓은 것\n",
    " - 자주 반복해서 사용해야하는 기능, 기능은 함수\n",
    " - 자주 반복하지 않더라도, 가끔 사용 또는 코드가 너무 긴 경우 사용\n",
    "\n",
    " <함수 작성 순서(정해진 것은 아님)>\n",
    " 1. 프로그램을 먼저 작성(절차적 테스트)\n",
    " 2. 오류가 없는 상태로 테스트\n",
    " 3. 자주 반복해서 사용되는 부분을 하나의 이름으로 별도로 정의(함수 정의)\n",
    "    - 함수 정의시 가급적 -> 정의된 숫자값은 사용하지 않기 \n",
    "    - 함수를 정의 규칙 -> 함수 이름은 소문자로 시작합니다.\n",
    "                       -> 함수 이름 뒤에는 소괄호()가 항상 있습니다.\n",
    "    - 함수 이름 작명할 때 --> getXxx(), setXxx() Ex) getTotal(), setInsert()\n",
    " 4. 정의된 함수를 호출하여 사용 (함수 호출.)\n",
    " \n",
    " ### 프로그램 완성 후 오류가 없는 상태에서 \n",
    "     반복되는 코드 확인 \n",
    "     반복되는 코드를 함수로 정의 (ex:def 등 임의의 아무 단어 가능 소문자이고 소괄호를 뒤에 붙이고 괄호 안에 자주 사용되는 코드 입력) \n",
    "     Ex: def.hello()\n",
    "         print(hello world)        -> hello () 출력시 hello world가 나옴\n",
    "\n",
    "    함수 = 계산기 (자주 사용하고 필요하기에 생성된 계산기)\n",
    "\"\"\""
   ]
  },
  {
   "cell_type": "code",
   "execution_count": 2,
   "id": "63c92a7d-13cf-44a4-8aaf-0f3722c69887",
   "metadata": {},
   "outputs": [
    {
     "name": "stdout",
     "output_type": "stream",
     "text": [
      "38\n"
     ]
    }
   ],
   "source": [
    "a = 30\n",
    "b = 8\n",
    "tot = a + b      # 파라메타\n",
    "### 출력 함수\n",
    "# - print(인자)\n",
    "# 인자(넘겨주는 쪽, 호출하는 쪽 ) 또는 매개변수(받는 쪽, 정의된 함수 쪽에서 받습니다.)\n",
    "# - 인자와 매개변수를 통칭해서 파라메타(Parameter)라고 함\n",
    "# 파이썬 라이브러리에 print라는 함수가 정의되어 있음\n",
    "print(tot)   # 인자"
   ]
  },
  {
   "cell_type": "code",
   "execution_count": 3,
   "id": "11efaad9-913c-4a69-a3e4-de2112455d73",
   "metadata": {},
   "outputs": [
    {
     "data": {
      "text/plain": [
       "48"
      ]
     },
     "execution_count": 3,
     "metadata": {},
     "output_type": "execute_result"
    }
   ],
   "source": [
    "a = 40\n",
    "b = 8\n",
    "tot = a + b\n",
    "tot"
   ]
  },
  {
   "cell_type": "code",
   "execution_count": 4,
   "id": "9ab18198-7a69-40b6-8cdb-8e5716c28cc6",
   "metadata": {},
   "outputs": [],
   "source": [
    "### 함수 정의하기 (user define function : 사용자 정의 함수, 이를 모아 둔 것이 UDF(사용자 정의 함수 문서))\n",
    "# - 수행하는 기능 : a와 b의 값을 합해서 화면에 출력해 주는 기능\n",
    "# showPlus라는 대표 메모리와 a, b, tot라는 메모리 3개 총 4개\n",
    "def showPlus() : \n",
    "    a = 30\n",
    "    b = 8\n",
    "    tot = a + b     \n",
    "    print(tot) "
   ]
  },
  {
   "cell_type": "code",
   "execution_count": 5,
   "id": "b27c8299-e650-4120-8f46-add0eac3971f",
   "metadata": {},
   "outputs": [
    {
     "name": "stdout",
     "output_type": "stream",
     "text": [
      "38\n"
     ]
    }
   ],
   "source": [
    "showPlus()"
   ]
  },
  {
   "cell_type": "code",
   "execution_count": 6,
   "id": "c896ada1-44c3-4d5f-9644-fe60780c64e6",
   "metadata": {},
   "outputs": [],
   "source": [
    "### 매개변수(파라메터) 사용\n",
    "def showPlus(a, b) :  # 파라메터는 a,b \n",
    "    # a = 30\n",
    "    # b = 8\n",
    "    tot = a + b    # a,b가 어떤 값이 들어올지 모르지만 들어오면 더해서 출력할거야\n",
    "    print(tot) "
   ]
  },
  {
   "cell_type": "code",
   "execution_count": 7,
   "id": "046a186c-74c0-4418-a2b6-bf59e3db4f9c",
   "metadata": {},
   "outputs": [
    {
     "ename": "TypeError",
     "evalue": "showPlus() missing 2 required positional arguments: 'a' and 'b'",
     "output_type": "error",
     "traceback": [
      "\u001b[1;31m---------------------------------------------------------------------------\u001b[0m",
      "\u001b[1;31mTypeError\u001b[0m                                 Traceback (most recent call last)",
      "Cell \u001b[1;32mIn[7], line 2\u001b[0m\n\u001b[0;32m      1\u001b[0m \u001b[38;5;66;03m### 함수 호출 \u001b[39;00m\n\u001b[1;32m----> 2\u001b[0m \u001b[43mshowPlus\u001b[49m\u001b[43m(\u001b[49m\u001b[43m)\u001b[49m   \n\u001b[0;32m      3\u001b[0m \u001b[38;5;66;03m# error showPlus() missing 2 required positional arguments: 'a' and 'b'\u001b[39;00m\n\u001b[0;32m      4\u001b[0m \u001b[38;5;66;03m# a, b 정의 안됌\u001b[39;00m\n",
      "\u001b[1;31mTypeError\u001b[0m: showPlus() missing 2 required positional arguments: 'a' and 'b'"
     ]
    }
   ],
   "source": [
    "### 함수 호출 \n",
    "showPlus()   \n",
    "# error showPlus() missing 2 required positional arguments: 'a' and 'b'\n",
    "# a, b 정의 안됌"
   ]
  },
  {
   "cell_type": "code",
   "execution_count": null,
   "id": "62861e2b-8dc1-45dc-9a4a-b78f43b254c8",
   "metadata": {},
   "outputs": [],
   "source": [
    "showPlus(11,55) # a,b에 각각 11과 55를 입력"
   ]
  },
  {
   "cell_type": "code",
   "execution_count": 8,
   "id": "17b068d2-9fd3-4720-a25b-44543f699e31",
   "metadata": {},
   "outputs": [],
   "source": [
    "### 매개변수(파라메터) + 반환(리턴, return) 사용 함수 정의\n",
    "def getPlus(a, b) : \n",
    "    # a = 30\n",
    "    # b = 8\n",
    "    tot = a + b   \n",
    "    # print(tot)\n",
    "    \n",
    "    ### 반환 (리턴, return)\n",
    "    # - 함수를 호출한 사용자 코드에 값을 다시 전달해줌\n",
    "    return tot"
   ]
  },
  {
   "cell_type": "code",
   "execution_count": 9,
   "id": "081bbc7a-e311-4b84-ae58-fc9479c2d69d",
   "metadata": {},
   "outputs": [
    {
     "data": {
      "text/plain": [
       "94"
      ]
     },
     "execution_count": 9,
     "metadata": {},
     "output_type": "execute_result"
    }
   ],
   "source": [
    "### 함수 호출하기\n",
    "# - 반환 받을 것을 그대로 출력하기에 차이 x\n",
    "getPlus(44, 50)"
   ]
  },
  {
   "cell_type": "code",
   "execution_count": 10,
   "id": "2034bf29-db9c-48a5-9c40-f75ca729c513",
   "metadata": {},
   "outputs": [
    {
     "data": {
      "text/plain": [
       "94"
      ]
     },
     "execution_count": 10,
     "metadata": {},
     "output_type": "execute_result"
    }
   ],
   "source": [
    "### 반환 받은 것을 받아서 사용 (받은 것은 rs_tot), 결과 값을 받아서 사용을 하겠다면 받아서 사용하면 됌 /// 사용법 차이\n",
    "rs_tot = getPlus(44, 50)\n",
    "rs_tot"
   ]
  },
  {
   "cell_type": "code",
   "execution_count": 75,
   "id": "63bdf655-be36-4593-80d8-71667c20ab9e",
   "metadata": {},
   "outputs": [],
   "source": [
    "### 매개변수(파라메터) + 반환(리턴, return) 사용 함수 정의\n",
    "# - 파라메터에 디폴트(defalt)값을 미리 정의해 놓기\n",
    "#    --> defalt 값은 보통 자주 사용되는 값이 있는 경우에 정의하거나, \n",
    "#    --> 초기값(0또는 \"\")을 정의해 놓고 사용하고자 할 때 미리 정의해서 사용함\n",
    "# range(0,100,1) => range(100) // 0과 1을 defalt 값이기에 생략해도 문제 X\n",
    "def getPlus(a=5, b=10) : \n",
    "    tot = a + b   \n",
    "    \n",
    "    ### 반환 (리턴, return)\n",
    "    # - 함수를 호출한 사용자 코드에 값을 다시 전달해줌\n",
    "    return tot"
   ]
  },
  {
   "cell_type": "code",
   "execution_count": 76,
   "id": "c4430282-a9c6-469a-adc2-ddfb52a5e296",
   "metadata": {},
   "outputs": [
    {
     "data": {
      "text/plain": [
       "60"
      ]
     },
     "execution_count": 76,
     "metadata": {},
     "output_type": "execute_result"
    }
   ],
   "source": [
    "getPlus()   # 출력 값 0\n",
    "getPlus(50)  # 출력 값 50, a=0 b=0일경우 // a5 b=10인경우 출력값 60 a=50, 6=defalt 값 적용"
   ]
  },
  {
   "cell_type": "code",
   "execution_count": 13,
   "id": "1f4f9dff-16fd-4edd-9bf1-ab0d4fc9f6cb",
   "metadata": {},
   "outputs": [],
   "source": [
    "### 여러개의 값들을 반환(리턴)하는 함수 정의\n",
    "def getPlus(a=5, b=10) : \n",
    "    # a = 30\n",
    "    # b = 8\n",
    "    tot = a + b   \n",
    "    # print(tot)\n",
    "    \n",
    "    ### 반환 (리턴, return)\n",
    "    # - 함수를 호출한 사용자 코드에 값을 다시 전달해줌\n",
    "    return tot, a, b "
   ]
  },
  {
   "cell_type": "code",
   "execution_count": 14,
   "id": "4ca27935-b1f0-4d84-922a-d29474603776",
   "metadata": {},
   "outputs": [
    {
     "name": "stdout",
     "output_type": "stream",
     "text": [
      "66 11 55\n"
     ]
    }
   ],
   "source": [
    "### 여러개의 값을 반환 받을 때 사용\n",
    "tot1, a1, b1 = getPlus(11,55) # 결과값 66,11,55 = 더한값, a값, b값\n",
    "print(tot1, a1, b1)"
   ]
  },
  {
   "cell_type": "code",
   "execution_count": 15,
   "id": "9f026027-2380-447a-a8db-61f8b29d6fe8",
   "metadata": {},
   "outputs": [
    {
     "data": {
      "text/plain": [
       "'\\n* 산술연산(+, -, *, /, //, %)을 수행하는 기능(함수)를 정의하기\\n - 함수이름 : getMath\\n - 파라메터 : 직접 고민하기\\n - 함수 기능 \\n      : 더하기 연산을 하고 싶은경우에 더한 값을 리턴 하기\\n      : 빼기 연산을 하고 싶은 경우에는 뺀 값을 리턴 받기\\n      : 곱하기, 나누기 , 나눈 몫, 나눈 나머지 모두 위와 동일하게 처리\\n'"
      ]
     },
     "execution_count": 15,
     "metadata": {},
     "output_type": "execute_result"
    }
   ],
   "source": [
    "\"\"\"\n",
    "* 산술연산(+, -, *, /, //, %)을 수행하는 기능(함수)를 정의하기\n",
    " - 함수이름 : getMath\n",
    " - 파라메터 : 직접 고민하기\n",
    " - 함수 기능 \n",
    "      : 더하기 연산을 하고 싶은경우에 더한 값을 리턴 하기\n",
    "      : 빼기 연산을 하고 싶은 경우에는 뺀 값을 리턴 받기\n",
    "      : 곱하기, 나누기 , 나눈 몫, 나눈 나머지 모두 위와 동일하게 처리\n",
    "\"\"\""
   ]
  },
  {
   "cell_type": "code",
   "execution_count": 16,
   "id": "8d312bb9-ba4c-4469-a2c3-a19560065902",
   "metadata": {},
   "outputs": [],
   "source": [
    "# nong = getMath (+, -, *, /, //, %)\n",
    "\n",
    "def getMath(a,b, nong) : # 함수 이름 정의\n",
    "    result = 0  # 초기 값 설정\n",
    "    if nong == '+':  # + 일경우\n",
    "        result= a + b\n",
    "    elif nong == '-':  # - 일경우\n",
    "        result= a - b\n",
    "    elif nong == '*':  # * 일경우\n",
    "        result= a * b\n",
    "    elif nong == '/':  # / 일경우\n",
    "        result= a / b\n",
    "    elif nong == '//':  # // 일경우\n",
    "        result= a // b\n",
    "    elif nong == '%':  # % 일경우\n",
    "        result= a % b\n",
    "\n",
    "    return result # 함수의 결과를 반환하는 역할"
   ]
  },
  {
   "cell_type": "code",
   "execution_count": 17,
   "id": "3a0d9e19-9333-45fc-9b27-f929db9d4e94",
   "metadata": {},
   "outputs": [
    {
     "data": {
      "text/plain": [
       "4"
      ]
     },
     "execution_count": 17,
     "metadata": {},
     "output_type": "execute_result"
    }
   ],
   "source": [
    "getMath(40,10,'//')"
   ]
  },
  {
   "cell_type": "code",
   "execution_count": 18,
   "id": "de4a3d6f-71e3-495e-8384-6aa669ee880f",
   "metadata": {},
   "outputs": [],
   "source": [
    "### 함수로 만들기 전 절차적으로 테스트 해보기\n",
    "\n",
    "# mode = \"+\"\n",
    "# a = 10\n",
    "# b = 11\n",
    "\n",
    "# if mode == \"+\" :\n",
    "#     tot = a + b\n",
    "# elif mode == \"-\" :\n",
    "#     tot = a - b\n",
    "# elif mode == \"*\" :\n",
    "#     tot = a * b\n",
    "# elif mode == \"/\" :\n",
    "#     tot = a / b\n",
    "# elif mode == \"//\" :\n",
    "#     tot = a // b\n",
    "# elif mode == \"%\" :\n",
    "#     tot = a % b\n",
    "# else :\n",
    "#     print(\"잘못된 구분자 입니다!\")\n",
    "#     tot = 0\n",
    "\n",
    "# print(tot)"
   ]
  },
  {
   "cell_type": "code",
   "execution_count": 19,
   "id": "212389fc-9d2d-4cad-8e14-ab200c3edf9e",
   "metadata": {},
   "outputs": [],
   "source": [
    "def getMath(a,b,mode) :\n",
    "    if mode == \"+\" : tot = a + b\n",
    "    elif mode == \"-\" : tot = a - b\n",
    "    elif mode == \"*\" : tot = a * b\n",
    "    elif mode == \"/\" : tot = a / b\n",
    "    elif mode == \"//\" : tot = a // b\n",
    "    elif mode == \"%\" : tot = a % b\n",
    "    else :\n",
    "        print(\"잘못된 구분자 입니다!\")\n",
    "        tot = 0\n",
    "    return tot "
   ]
  },
  {
   "cell_type": "code",
   "execution_count": 20,
   "id": "b9eef0e8-fa90-4de8-a721-9ee51bcd2548",
   "metadata": {},
   "outputs": [
    {
     "name": "stdout",
     "output_type": "stream",
     "text": [
      "잘못된 구분자 입니다!\n",
      "잘못된 구분자 입니다!\n",
      "0\n"
     ]
    }
   ],
   "source": [
    "### 함수 호출\n",
    "rs_tot = getMath(\"+\", 5, 8)\n",
    "rs_tot = getMath(\"-\", 10, 5)\n",
    "print(rs_tot)"
   ]
  },
  {
   "cell_type": "code",
   "execution_count": 21,
   "id": "39cbf6fa-008e-4791-9c7e-c19b90bd5149",
   "metadata": {},
   "outputs": [
    {
     "data": {
      "text/plain": [
       "'\\n함수는 만들지 않고\\n - 구구단 출력하기\\n   -- 단, 원하는 단에 대해서만 출력하기 \\n'"
      ]
     },
     "execution_count": 21,
     "metadata": {},
     "output_type": "execute_result"
    }
   ],
   "source": [
    "\"\"\"\n",
    "함수는 만들지 않고\n",
    " - 구구단 출력하기\n",
    "   -- 단, 원하는 단에 대해서만 출력하기 \n",
    "\"\"\""
   ]
  },
  {
   "cell_type": "code",
   "execution_count": 22,
   "id": "ae967db5-fa34-4034-84f7-3d3685525f69",
   "metadata": {},
   "outputs": [
    {
     "name": "stdout",
     "output_type": "stream",
     "text": [
      "7 x 1 = 7입니다.\n",
      "7 x 2 = 14입니다.\n",
      "7 x 3 = 21입니다.\n",
      "7 x 4 = 28입니다.\n",
      "7 x 5 = 35입니다.\n",
      "7 x 6 = 42입니다.\n",
      "7 x 7 = 49입니다.\n",
      "7 x 8 = 56입니다.\n",
      "7 x 9 = 63입니다.\n"
     ]
    }
   ],
   "source": [
    "a = 7\n",
    "for n in range(1,10,1) :\n",
    "    print(f\"{a} x {n} = {a * n}입니다.\")"
   ]
  },
  {
   "cell_type": "code",
   "execution_count": 23,
   "id": "af39d587-8f1c-4369-bd3c-02d5c1e93f1d",
   "metadata": {},
   "outputs": [],
   "source": [
    "### 위의 예제를 함수로 만들기 \n",
    "# 함수명 : printGdan\n",
    "# - 함수 기능 : 임의 단을 전달 받아서 출력하는 기능 수행"
   ]
  },
  {
   "cell_type": "code",
   "execution_count": 24,
   "id": "2d131986-318f-49b2-9ece-b1b34910f4be",
   "metadata": {},
   "outputs": [],
   "source": [
    "def printGdan(a) : ## a는 지정 받을 단 ex a=7은 7단\n",
    "    for n in range(1,10,1) :\n",
    "        print(f\"{a} x {n} = {a * n}입니다.\")"
   ]
  },
  {
   "cell_type": "code",
   "execution_count": 25,
   "id": "cb318ff0-298b-4797-8ac1-15f76b5309b8",
   "metadata": {},
   "outputs": [
    {
     "name": "stdout",
     "output_type": "stream",
     "text": [
      "7 x 1 = 7입니다.\n",
      "7 x 2 = 14입니다.\n",
      "7 x 3 = 21입니다.\n",
      "7 x 4 = 28입니다.\n",
      "7 x 5 = 35입니다.\n",
      "7 x 6 = 42입니다.\n",
      "7 x 7 = 49입니다.\n",
      "7 x 8 = 56입니다.\n",
      "7 x 9 = 63입니다.\n"
     ]
    }
   ],
   "source": [
    "printGdan(7)"
   ]
  },
  {
   "cell_type": "code",
   "execution_count": 26,
   "id": "faef1b2d-445e-4be4-bef0-4c047c897f85",
   "metadata": {},
   "outputs": [
    {
     "data": {
      "text/plain": [
       "'\\ntemp_list = [\"홍길동\", \"이순신\", \"김유신\"]\\n\\n - 임의 리스트 변수를 전달 받아서 각 데이터를 출력하는 함수 정의하기 \\n - 함수명 : printList\\n'"
      ]
     },
     "execution_count": 26,
     "metadata": {},
     "output_type": "execute_result"
    }
   ],
   "source": [
    "\"\"\"\n",
    "temp_list = [\"홍길동\", \"이순신\", \"김유신\"]\n",
    "\n",
    " - 임의 리스트 변수를 전달 받아서 각 데이터를 출력하는 함수 정의하기 \n",
    " - 함수명 : printList\n",
    "\"\"\""
   ]
  },
  {
   "cell_type": "code",
   "execution_count": 27,
   "id": "2eadfe6c-22d2-4d66-8a7a-a458bf081d18",
   "metadata": {},
   "outputs": [],
   "source": [
    "# temp_list = [\"홍길동\", \"이순신\", \"김유신\"]\n",
    "\n",
    "# for val in temp_list:\n",
    "#      print(val)"
   ]
  },
  {
   "cell_type": "code",
   "execution_count": 28,
   "id": "a4f8c7ce-8d70-49d3-b99b-799e7b45a905",
   "metadata": {},
   "outputs": [],
   "source": [
    "### 함수정의\n",
    "def printList(temp_list):\n",
    "    for val in temp_list :\n",
    "        print (val)"
   ]
  },
  {
   "cell_type": "code",
   "execution_count": 29,
   "id": "f26525f7-eaa0-47c7-88c0-9206d9cc9843",
   "metadata": {},
   "outputs": [
    {
     "name": "stdout",
     "output_type": "stream",
     "text": [
      "홍길동\n",
      "이순신\n",
      "김유신\n"
     ]
    }
   ],
   "source": [
    "### 함수 호출하기\n",
    "temp_list = [\"홍길동\", \"이순신\", \"김유신\"]\n",
    "printList(temp_list=temp_list)"
   ]
  },
  {
   "cell_type": "code",
   "execution_count": 30,
   "id": "3bf16699-46a5-4b07-9fc2-abab716e9624",
   "metadata": {},
   "outputs": [
    {
     "data": {
      "text/plain": [
       "'\\n    임의 변수 temp_list = [\"홍길동\", \"이순신\", \"김유신\"]\\n 위에서 정의한 temp_list를 사용해서\\n  - 임의 리스트 변수를 전달 받아서 임의 값을 추가하는 함수 . append 사용해보자 - 재원\\n  - 함수명 : setAppendList\\n  - 추가 확인은 printlist 함수를 통해서 확인\\n'"
      ]
     },
     "execution_count": 30,
     "metadata": {},
     "output_type": "execute_result"
    }
   ],
   "source": [
    "\"\"\"\n",
    "    임의 변수 temp_list = [\"홍길동\", \"이순신\", \"김유신\"]\n",
    " 위에서 정의한 temp_list를 사용해서\n",
    "  - 임의 리스트 변수를 전달 받아서 임의 값을 추가하는 함수 . append 사용해보자 - 재원\n",
    "  - 함수명 : setAppendList\n",
    "  - 추가 확인은 printlist 함수를 통해서 확인\n",
    "\"\"\""
   ]
  },
  {
   "cell_type": "code",
   "execution_count": 78,
   "id": "34584e10-0fd7-4300-bf04-96e648953d60",
   "metadata": {},
   "outputs": [
    {
     "name": "stdout",
     "output_type": "stream",
     "text": [
      "['홍길동', '이순신', '김유신', '홍길동2']\n"
     ]
    }
   ],
   "source": [
    "temp_list = [\"홍길동\", \"이순신\", \"김유신\"]\n",
    "add_name = \"홍길동2\"\n",
    "temp_list.append(add_name)\n",
    "\n",
    "print(temp_list)"
   ]
  },
  {
   "cell_type": "code",
   "execution_count": 32,
   "id": "5c338035-5123-4053-90a7-b5110a66a156",
   "metadata": {},
   "outputs": [],
   "source": [
    "### 함수 정의하기\n",
    "def setAppendList(p_list,p_name) :\n",
    "    p_list.append(p_name)"
   ]
  },
  {
   "cell_type": "code",
   "execution_count": 33,
   "id": "35cbaab4-cf4c-4e6c-8323-74897a718169",
   "metadata": {},
   "outputs": [],
   "source": [
    "temp_list = [\"홍길동\", \"이순신\", \"김유신\"]\n",
    "### 함수 호출\n",
    "setAppendList(p_list=temp_list, p_name=\"김유신2\")"
   ]
  },
  {
   "cell_type": "code",
   "execution_count": 34,
   "id": "9e787ef4-e54b-46a3-ae18-d790320dda06",
   "metadata": {},
   "outputs": [
    {
     "name": "stdout",
     "output_type": "stream",
     "text": [
      "홍길동\n",
      "이순신\n",
      "김유신\n",
      "김유신2\n"
     ]
    }
   ],
   "source": [
    "### 리스트에 값이 잘 추가되었는지 확인하는 함수 호출\n",
    "printList(temp_list=temp_list)"
   ]
  },
  {
   "cell_type": "code",
   "execution_count": 35,
   "id": "ffb0b211-4d91-4346-9d19-85be737b0d54",
   "metadata": {},
   "outputs": [
    {
     "data": {
      "text/plain": [
       "'\\n구구단 함수 만들기 \\n - 함수명 : printGDan 2\\n - 기능 : 임의의 시작단과 끝단 전달 받기\\n        : 곱할 시작값과 끝값 전달 받기\\n        : 시작단부터 끝단까지의 곱할 시작값과 끝값을 곱하여 출력\\n - 예시 \\n   --> 시작단은 2, 끝단은 3을 전달 받고\\n       곱할 시작 값을 5, 끝 값을 9를 전달 받았다면 \\n       2 x 5 = 10\\n       ~~\\n       3 x 9 = 27\\n'"
      ]
     },
     "execution_count": 35,
     "metadata": {},
     "output_type": "execute_result"
    }
   ],
   "source": [
    "\"\"\"\n",
    "구구단 함수 만들기 \n",
    " - 함수명 : printGDan 2\n",
    " - 기능 : 임의의 시작단과 끝단 전달 받기\n",
    "        : 곱할 시작값과 끝값 전달 받기\n",
    "        : 시작단부터 끝단까지의 곱할 시작값과 끝값을 곱하여 출력\n",
    " - 예시 \n",
    "   --> 시작단은 2, 끝단은 3을 전달 받고\n",
    "       곱할 시작 값을 5, 끝 값을 9를 전달 받았다면 \n",
    "       2 x 5 = 10\n",
    "       ~~\n",
    "       3 x 9 = 27\n",
    "\"\"\""
   ]
  },
  {
   "cell_type": "code",
   "execution_count": 36,
   "id": "f33b9163-858f-4491-9fb0-5275e1aa9ffe",
   "metadata": {},
   "outputs": [],
   "source": [
    "def printGdan2(dan1,dan2) : ## a는 지정 받을 단 ex a=7은 7단\n",
    "    for dan1 in range(2,4,1) :\n",
    "        for dan2 in range(5,10,1) :\n",
    "            print(f\"{dan1} x {dan2} = {dan1 * dan2}입니다.\")"
   ]
  },
  {
   "cell_type": "code",
   "execution_count": 37,
   "id": "f4d2318c-08f9-4875-8350-c65491159fa7",
   "metadata": {},
   "outputs": [
    {
     "name": "stdout",
     "output_type": "stream",
     "text": [
      "2 x 5 = 10입니다.\n",
      "2 x 6 = 12입니다.\n",
      "2 x 7 = 14입니다.\n",
      "2 x 8 = 16입니다.\n",
      "2 x 9 = 18입니다.\n",
      "3 x 5 = 15입니다.\n",
      "3 x 6 = 18입니다.\n",
      "3 x 7 = 21입니다.\n",
      "3 x 8 = 24입니다.\n",
      "3 x 9 = 27입니다.\n"
     ]
    }
   ],
   "source": [
    "printGdan2(2,5)"
   ]
  },
  {
   "cell_type": "code",
   "execution_count": 38,
   "id": "07956aae-de66-4aad-a987-a589c453f57a",
   "metadata": {},
   "outputs": [],
   "source": [
    "### 위 코드 말고 1~10까지 했을때 선택 가능할 때도 \n",
    "# 2개를 입력했을 때 \n",
    "q = 5\n",
    "w = 7\n",
    "e  = 3\n",
    "r  = 5\n",
    "def printGdan2(q,w,e,r) : \n",
    "    for a in range(q,w+1,1) :\n",
    "        for b in range(e,r+1,1) :\n",
    "            print(f\"{a} x {b} = {a * b}입니다.\")"
   ]
  },
  {
   "cell_type": "code",
   "execution_count": 39,
   "id": "8de9faba-2537-493a-9004-04bc1fc76c07",
   "metadata": {},
   "outputs": [
    {
     "name": "stdout",
     "output_type": "stream",
     "text": [
      "8 x 7 = 56입니다.\n",
      "8 x 8 = 64입니다.\n",
      "8 x 9 = 72입니다.\n",
      "9 x 7 = 63입니다.\n",
      "9 x 8 = 72입니다.\n",
      "9 x 9 = 81입니다.\n"
     ]
    }
   ],
   "source": [
    "printGdan2(q = 8,w = 9, e = 7, r = 9)"
   ]
  },
  {
   "cell_type": "code",
   "execution_count": 40,
   "id": "570a7d57-158f-4901-97b0-7746f2ffedd8",
   "metadata": {},
   "outputs": [],
   "source": [
    "### 여러개의 값을 매개변수로 받아와야 하는 경우\n",
    "#  - 정해지지 않은 갯수 \n",
    "#  - 이 때 매개변수명 앞에 별(*)을 붙여서 받아옴\n",
    "#  - *로 받은 타입은 -> 튜플 타입. \n",
    "def getTotSum(*num) :\n",
    "    print(num)"
   ]
  },
  {
   "cell_type": "code",
   "execution_count": 41,
   "id": "6715a0d9-21fe-4d46-8771-b12daff3b3d9",
   "metadata": {},
   "outputs": [
    {
     "name": "stdout",
     "output_type": "stream",
     "text": [
      "(1, 2, 3, 4, 5, 6)\n"
     ]
    }
   ],
   "source": [
    "getTotSum(1,2,3,4,5,6) # 몇개의 데이터가 들어오는지 모르는데 내가 원하는 값까지만 받을 경우 숫자를 이용해 받는다"
   ]
  },
  {
   "cell_type": "code",
   "execution_count": 42,
   "id": "155fe150-fa3d-4d2d-85f6-33f566f694f7",
   "metadata": {},
   "outputs": [],
   "source": [
    "### 위 함수(getTotSum)를 수정하여\n",
    "#  -> 1부터 n까지의 총합을 계산한 후 \n",
    "#  -> 총합의 결과값을 리턴\n",
    "#  -> 반환 받은 결과를 출력\n",
    "\n",
    "def getTotSum(n) :\n",
    "    result = 0\n",
    "    for i in range(1,n+1) :\n",
    "        result += i\n",
    "    return result\n",
    "\n",
    "    print(getTotSum(n))"
   ]
  },
  {
   "cell_type": "code",
   "execution_count": 43,
   "id": "925f14e3-6af0-4bb5-affd-eed64766c80d",
   "metadata": {},
   "outputs": [
    {
     "data": {
      "text/plain": [
       "55"
      ]
     },
     "execution_count": 43,
     "metadata": {},
     "output_type": "execute_result"
    }
   ],
   "source": [
    "getTotSum(10)"
   ]
  },
  {
   "cell_type": "code",
   "execution_count": 80,
   "id": "5a2ce739-d4ff-46e2-bbfb-c505741b6d2e",
   "metadata": {},
   "outputs": [
    {
     "ename": "SyntaxError",
     "evalue": "unexpected EOF while parsing (2174686282.py, line 6)",
     "output_type": "error",
     "traceback": [
      "\u001b[1;36m  Cell \u001b[1;32mIn[80], line 6\u001b[1;36m\u001b[0m\n\u001b[1;33m    ### sum 함수익히기\u001b[0m\n\u001b[1;37m                 ^\u001b[0m\n\u001b[1;31mSyntaxError\u001b[0m\u001b[1;31m:\u001b[0m unexpected EOF while parsing\n"
     ]
    }
   ],
   "source": [
    "def getTotSum(*num) :\n",
    "    result = sum(num) # sum 함수를 이용해서 결과 값에 입력을하고\n",
    "    return result # 입력 값을 return을 활용해서 print에 담기\n",
    "        \n",
    "print(getTotSum(1,2,3,4,5,6)\n",
    "### sum 함수익히기"
   ]
  },
  {
   "cell_type": "code",
   "execution_count": 45,
   "id": "1c6182e2-d206-4565-b0ab-ce69e523e47a",
   "metadata": {},
   "outputs": [],
   "source": [
    "### 문자열로 여러개의 값 받아오기\n",
    "\n",
    "def getString(*string) :\n",
    "    # result = 0\n",
    "    # for i in range(1,n+1) :\n",
    "    #     result += i\n",
    "    # return result\n",
    "\n",
    "    print(string)"
   ]
  },
  {
   "cell_type": "code",
   "execution_count": 46,
   "id": "56c9b2c0-e621-45f4-9258-a6fe56ff73e4",
   "metadata": {},
   "outputs": [
    {
     "name": "stdout",
     "output_type": "stream",
     "text": [
      "('홍길동', '이순신', '김유신')\n"
     ]
    }
   ],
   "source": [
    "getString(\"홍길동\",\"이순신\",\"김유신\")"
   ]
  },
  {
   "cell_type": "code",
   "execution_count": 47,
   "id": "ca72f496-5fa7-4ca2-b67d-32d2d21fd96c",
   "metadata": {},
   "outputs": [
    {
     "name": "stdout",
     "output_type": "stream",
     "text": [
      "('홍길동', '이순신', '김유신')\n",
      "(('홍길동', '이순신', '김유신'),)\n"
     ]
    }
   ],
   "source": [
    "### setAppendList함수와 getString 함수를 이용해서 \n",
    "# 이름 여러개의 튜플 타입을 임의 리스트에 추가하기\n",
    "# 임의 리스트 변수명 : list_temp\n",
    "\n",
    "list_temp = []\n",
    "rs_tuple = getString(\"홍길동\",\"이순신\",\"김유신\")\n",
    "# setAppendList(p_list = list_temp, p_name=rs_tuple)\n",
    "\n",
    "setAppendList(p_list = list_temp, p_name=getString((\"홍길동\",\"이순신\",\"김유신\")))"
   ]
  },
  {
   "cell_type": "code",
   "execution_count": 48,
   "id": "bc8aaff5-4a4f-4649-b5d0-0180112cbb2a",
   "metadata": {},
   "outputs": [
    {
     "data": {
      "text/plain": [
       "[None]"
      ]
     },
     "execution_count": 48,
     "metadata": {},
     "output_type": "execute_result"
    }
   ],
   "source": [
    "list_temp"
   ]
  },
  {
   "cell_type": "code",
   "execution_count": 62,
   "id": "7eab3175-41bb-4658-8c4e-d999de3b8996",
   "metadata": {},
   "outputs": [],
   "source": [
    "# def getString(*string) :\n",
    "     # return string"
   ]
  },
  {
   "cell_type": "code",
   "execution_count": 63,
   "id": "7c81d878-2461-47a8-9b01-70990a45deae",
   "metadata": {},
   "outputs": [],
   "source": [
    "# list_temp = []\n",
    "# def setAppendList(p_list,p_name) :\n",
    "#     list_temp.append(p_name)\n",
    "#     return string"
   ]
  },
  {
   "cell_type": "code",
   "execution_count": 64,
   "id": "48280ec2-21cb-43a1-a9e3-77895fd3a76f",
   "metadata": {},
   "outputs": [],
   "source": [
    "# setAppendList(\"이재원\")\n",
    "# 튜플로 먼저 만들고 스트링을 추가해라"
   ]
  },
  {
   "cell_type": "code",
   "execution_count": 65,
   "id": "32241047-8049-466e-be6f-9adac0b562a8",
   "metadata": {},
   "outputs": [],
   "source": [
    "### 임의 여러개의 key = value 형태의 값들을 묶어서 받아오기\n",
    "# - 별 기호(**)를 2개 사용합니다.\n",
    "# - **의 의미 : key = value로 전달받은 값들을 딕셔너리 타입으로 처리\n",
    "def getDict(**info) :\n",
    "    print(info)"
   ]
  },
  {
   "cell_type": "code",
   "execution_count": 66,
   "id": "d246856d-c54e-4952-99ce-9ca00d453cfc",
   "metadata": {},
   "outputs": [
    {
     "name": "stdout",
     "output_type": "stream",
     "text": [
      "{'name': '홍길동', 'age': 30, 'area': '부산'}\n"
     ]
    }
   ],
   "source": [
    "getDict(name = \"홍길동\", age = 30, area = \"부산\") # 변수명을 key로 name, age 같은 형태"
   ]
  },
  {
   "cell_type": "code",
   "execution_count": 74,
   "id": "0fe87857-25f0-484f-ba89-291be8f5bc2f",
   "metadata": {},
   "outputs": [
    {
     "ename": "NameError",
     "evalue": "name 'string' is not defined",
     "output_type": "error",
     "traceback": [
      "\u001b[1;31m---------------------------------------------------------------------------\u001b[0m",
      "\u001b[1;31mNameError\u001b[0m                                 Traceback (most recent call last)",
      "Cell \u001b[1;32mIn[74], line 7\u001b[0m\n\u001b[0;32m      5\u001b[0m list_temp \u001b[38;5;241m=\u001b[39m []\n\u001b[0;32m      6\u001b[0m rs_tuple \u001b[38;5;241m=\u001b[39m getDict(name \u001b[38;5;241m=\u001b[39m \u001b[38;5;124m\"\u001b[39m\u001b[38;5;124m홍길동\u001b[39m\u001b[38;5;124m\"\u001b[39m, age \u001b[38;5;241m=\u001b[39m \u001b[38;5;241m30\u001b[39m, area \u001b[38;5;241m=\u001b[39m \u001b[38;5;124m\"\u001b[39m\u001b[38;5;124m부산\u001b[39m\u001b[38;5;124m\"\u001b[39m)\n\u001b[1;32m----> 7\u001b[0m \u001b[43msetAppendList\u001b[49m\u001b[43m(\u001b[49m\u001b[43mp_list\u001b[49m\u001b[43m \u001b[49m\u001b[38;5;241;43m=\u001b[39;49m\u001b[43m \u001b[49m\u001b[43mlist_temp\u001b[49m\u001b[43m,\u001b[49m\u001b[43m \u001b[49m\u001b[43mp_name\u001b[49m\u001b[38;5;241;43m=\u001b[39;49m\u001b[43mgetDict\u001b[49m\u001b[43m(\u001b[49m\u001b[43mname\u001b[49m\u001b[43m \u001b[49m\u001b[38;5;241;43m=\u001b[39;49m\u001b[43m \u001b[49m\u001b[38;5;124;43m\"\u001b[39;49m\u001b[38;5;124;43m홍길동\u001b[39;49m\u001b[38;5;124;43m\"\u001b[39;49m\u001b[43m,\u001b[49m\u001b[43m \u001b[49m\u001b[43mage\u001b[49m\u001b[43m \u001b[49m\u001b[38;5;241;43m=\u001b[39;49m\u001b[43m \u001b[49m\u001b[38;5;241;43m30\u001b[39;49m\u001b[43m,\u001b[49m\u001b[43m \u001b[49m\u001b[43marea\u001b[49m\u001b[43m \u001b[49m\u001b[38;5;241;43m=\u001b[39;49m\u001b[43m \u001b[49m\u001b[38;5;124;43m\"\u001b[39;49m\u001b[38;5;124;43m부산\u001b[39;49m\u001b[38;5;124;43m\"\u001b[39;49m\u001b[43m)\u001b[49m\u001b[43m)\u001b[49m\n",
      "Cell \u001b[1;32mIn[50], line 4\u001b[0m, in \u001b[0;36msetAppendList\u001b[1;34m(p_list, p_name)\u001b[0m\n\u001b[0;32m      2\u001b[0m \u001b[38;5;28;01mdef\u001b[39;00m\u001b[38;5;250m \u001b[39m\u001b[38;5;21msetAppendList\u001b[39m(p_list,p_name) :\n\u001b[0;32m      3\u001b[0m     list_temp\u001b[38;5;241m.\u001b[39mappend(p_name)\n\u001b[1;32m----> 4\u001b[0m     \u001b[38;5;28;01mreturn\u001b[39;00m \u001b[43mstring\u001b[49m\n",
      "\u001b[1;31mNameError\u001b[0m: name 'string' is not defined"
     ]
    }
   ],
   "source": [
    "### 위에서 사용한 setAppendList 함수와 getDict 함수를 이용해서 \n",
    "# - 사용자 정보((name = \"홍길동\", age = 30, area = \"부산\")를 딕셔너리 타입으로 \n",
    "# - 리스트에 추가\n",
    "# - 리스트 변수명 :list_temp = []\n",
    "list_temp = []\n",
    "rs_tuple = getDict(name = \"홍길동\", age = 30, area = \"부산\")\n",
    "setAppendList(p_list = list_temp, p_name=getDict(name = \"홍길동\", age = 30, area = \"부산\"))"
   ]
  },
  {
   "cell_type": "code",
   "execution_count": null,
   "id": "40a787cc-6283-41b5-bb43-f8509132e9dc",
   "metadata": {},
   "outputs": [],
   "source": []
  },
  {
   "cell_type": "code",
   "execution_count": null,
   "id": "b42fbbac-da38-48c7-aec4-db632d8fe0c7",
   "metadata": {},
   "outputs": [],
   "source": []
  },
  {
   "cell_type": "code",
   "execution_count": null,
   "id": "cba08626-041b-45f6-beb1-414ce30e5c4a",
   "metadata": {},
   "outputs": [],
   "source": []
  },
  {
   "cell_type": "code",
   "execution_count": null,
   "id": "7550d257-0147-4fc8-9463-25d39b74a0c9",
   "metadata": {},
   "outputs": [],
   "source": []
  },
  {
   "cell_type": "code",
   "execution_count": null,
   "id": "ec9be7a2-943a-4740-b3f5-017d6f540ebb",
   "metadata": {},
   "outputs": [],
   "source": []
  },
  {
   "cell_type": "code",
   "execution_count": null,
   "id": "72c3fe2e-2866-4ff2-915b-b8b6276277a6",
   "metadata": {},
   "outputs": [],
   "source": []
  }
 ],
 "metadata": {
  "kernelspec": {
   "display_name": "bk_base_202503_kernel",
   "language": "python",
   "name": "bk_base_202503"
  },
  "language_info": {
   "codemirror_mode": {
    "name": "ipython",
    "version": 3
   },
   "file_extension": ".py",
   "mimetype": "text/x-python",
   "name": "python",
   "nbconvert_exporter": "python",
   "pygments_lexer": "ipython3",
   "version": "3.9.21"
  }
 },
 "nbformat": 4,
 "nbformat_minor": 5
}
